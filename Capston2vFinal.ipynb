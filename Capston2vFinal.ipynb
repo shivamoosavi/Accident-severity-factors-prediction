{
 "cells": [
  {
   "cell_type": "code",
   "execution_count": 1,
   "metadata": {},
   "outputs": [
    {
     "data": {
      "application/javascript": [
       "\n",
       "            setTimeout(function() {\n",
       "                var nbb_cell_id = 1;\n",
       "                var nbb_unformatted_code = \"#!pip install nb_black\\n%reload_ext nb_black\";\n",
       "                var nbb_formatted_code = \"#!pip install nb_black\\n%reload_ext nb_black\";\n",
       "                var nbb_cells = Jupyter.notebook.get_cells();\n",
       "                for (var i = 0; i < nbb_cells.length; ++i) {\n",
       "                    if (nbb_cells[i].input_prompt_number == nbb_cell_id) {\n",
       "                        if (nbb_cells[i].get_text() == nbb_unformatted_code) {\n",
       "                             nbb_cells[i].set_text(nbb_formatted_code);\n",
       "                        }\n",
       "                        break;\n",
       "                    }\n",
       "                }\n",
       "            }, 500);\n",
       "            "
      ],
      "text/plain": [
       "<IPython.core.display.Javascript object>"
      ]
     },
     "metadata": {},
     "output_type": "display_data"
    }
   ],
   "source": [
    "#!pip install nb_black\n",
    "%reload_ext nb_black"
   ]
  },
  {
   "cell_type": "code",
   "execution_count": 2,
   "metadata": {},
   "outputs": [
    {
     "data": {
      "application/javascript": [
       "\n",
       "            setTimeout(function() {\n",
       "                var nbb_cell_id = 2;\n",
       "                var nbb_unformatted_code = \"import sqlite3\\nfrom sklearn.metrics import confusion_matrix, classification_report\\nfrom sklearn.preprocessing import StandardScaler\\nfrom sklearn.linear_model import LogisticRegression\\n\\n#!pip install category_encoders\\nimport pandas as pd\\nfrom sqlite3 import OperationalError\\nimport seaborn as sns\\nfrom matplotlib import pyplot as plt\\nfrom sklearn.model_selection import train_test_split, GridSearchCV\\nfrom sklearn.compose import ColumnTransformer\\nfrom category_encoders import LeaveOneOutEncoder\\nfrom sklearn.tree import DecisionTreeClassifier\\nimport numpy as np\\nfrom sklearn.ensemble import (\\n    RandomForestClassifier,\\n    ExtraTreesClassifier,\\n    RandomForestRegressor,\\n)\\nfrom sklearn.metrics import confusion_matrix, classification_report\\nfrom sklearn.feature_selection import SelectFromModel\\nfrom sklearn.linear_model import LinearRegression\\nimport math\\nimport plotly.express as px\\nfrom sklearn.metrics import mean_absolute_error\";\n",
       "                var nbb_formatted_code = \"import sqlite3\\nfrom sklearn.metrics import confusion_matrix, classification_report\\nfrom sklearn.preprocessing import StandardScaler\\nfrom sklearn.linear_model import LogisticRegression\\n\\n#!pip install category_encoders\\nimport pandas as pd\\nfrom sqlite3 import OperationalError\\nimport seaborn as sns\\nfrom matplotlib import pyplot as plt\\nfrom sklearn.model_selection import train_test_split, GridSearchCV\\nfrom sklearn.compose import ColumnTransformer\\nfrom category_encoders import LeaveOneOutEncoder\\nfrom sklearn.tree import DecisionTreeClassifier\\nimport numpy as np\\nfrom sklearn.ensemble import (\\n    RandomForestClassifier,\\n    ExtraTreesClassifier,\\n    RandomForestRegressor,\\n)\\nfrom sklearn.metrics import confusion_matrix, classification_report\\nfrom sklearn.feature_selection import SelectFromModel\\nfrom sklearn.linear_model import LinearRegression\\nimport math\\nimport plotly.express as px\\nfrom sklearn.metrics import mean_absolute_error\";\n",
       "                var nbb_cells = Jupyter.notebook.get_cells();\n",
       "                for (var i = 0; i < nbb_cells.length; ++i) {\n",
       "                    if (nbb_cells[i].input_prompt_number == nbb_cell_id) {\n",
       "                        if (nbb_cells[i].get_text() == nbb_unformatted_code) {\n",
       "                             nbb_cells[i].set_text(nbb_formatted_code);\n",
       "                        }\n",
       "                        break;\n",
       "                    }\n",
       "                }\n",
       "            }, 500);\n",
       "            "
      ],
      "text/plain": [
       "<IPython.core.display.Javascript object>"
      ]
     },
     "metadata": {},
     "output_type": "display_data"
    }
   ],
   "source": [
    "import sqlite3\n",
    "from sklearn.metrics import confusion_matrix, classification_report\n",
    "from sklearn.preprocessing import StandardScaler\n",
    "from sklearn.linear_model import LogisticRegression\n",
    "\n",
    "#!pip install category_encoders\n",
    "import pandas as pd\n",
    "from sqlite3 import OperationalError\n",
    "import seaborn as sns\n",
    "from matplotlib import pyplot as plt\n",
    "from sklearn.model_selection import train_test_split, GridSearchCV\n",
    "from sklearn.compose import ColumnTransformer\n",
    "from category_encoders import LeaveOneOutEncoder\n",
    "from sklearn.tree import DecisionTreeClassifier\n",
    "import numpy as np\n",
    "from sklearn.ensemble import (\n",
    "    RandomForestClassifier,\n",
    "    ExtraTreesClassifier,\n",
    "    RandomForestRegressor,\n",
    ")\n",
    "from sklearn.metrics import confusion_matrix, classification_report\n",
    "from sklearn.feature_selection import SelectFromModel\n",
    "from sklearn.linear_model import LinearRegression\n",
    "import math\n",
    "import plotly.express as px\n",
    "from sklearn.metrics import mean_absolute_error"
   ]
  },
  {
   "cell_type": "code",
   "execution_count": 3,
   "metadata": {},
   "outputs": [
    {
     "data": {
      "application/javascript": [
       "\n",
       "            setTimeout(function() {\n",
       "                var nbb_cell_id = 3;\n",
       "                var nbb_unformatted_code = \"# with sqlite3.connect(\\\"switrs.sqlite\\\") as par:\\n#     query = \\\"\\\"\\\"SELECT *\\n#             FROM parties\\n#             INNER JOIN collisions ON collisions.case_id=parties.case_id\\n#             JOIN victims ON collisions.case_id=victims.case_id\\n#             WHERE collisions.collision_date >= '2020-01-01'\\n# \\\"\\\"\\\"\\n#     # Construct a Dataframe from the results\\n#     Data = pd.read_sql_query(query, par)\";\n",
       "                var nbb_formatted_code = \"# with sqlite3.connect(\\\"switrs.sqlite\\\") as par:\\n#     query = \\\"\\\"\\\"SELECT *\\n#             FROM parties\\n#             INNER JOIN collisions ON collisions.case_id=parties.case_id\\n#             JOIN victims ON collisions.case_id=victims.case_id\\n#             WHERE collisions.collision_date >= '2020-01-01'\\n# \\\"\\\"\\\"\\n#     # Construct a Dataframe from the results\\n#     Data = pd.read_sql_query(query, par)\";\n",
       "                var nbb_cells = Jupyter.notebook.get_cells();\n",
       "                for (var i = 0; i < nbb_cells.length; ++i) {\n",
       "                    if (nbb_cells[i].input_prompt_number == nbb_cell_id) {\n",
       "                        if (nbb_cells[i].get_text() == nbb_unformatted_code) {\n",
       "                             nbb_cells[i].set_text(nbb_formatted_code);\n",
       "                        }\n",
       "                        break;\n",
       "                    }\n",
       "                }\n",
       "            }, 500);\n",
       "            "
      ],
      "text/plain": [
       "<IPython.core.display.Javascript object>"
      ]
     },
     "metadata": {},
     "output_type": "display_data"
    }
   ],
   "source": [
    "# with sqlite3.connect(\"switrs.sqlite\") as par:\n",
    "#     query = \"\"\"SELECT *\n",
    "#             FROM parties\n",
    "#             INNER JOIN collisions ON collisions.case_id=parties.case_id\n",
    "#             JOIN victims ON collisions.case_id=victims.case_id\n",
    "#             WHERE collisions.collision_date >= '2020-01-01'\n",
    "# \"\"\"\n",
    "#     # Construct a Dataframe from the results\n",
    "#     Data = pd.read_sql_query(query, par)"
   ]
  },
  {
   "cell_type": "code",
   "execution_count": 4,
   "metadata": {},
   "outputs": [
    {
     "data": {
      "application/javascript": [
       "\n",
       "            setTimeout(function() {\n",
       "                var nbb_cell_id = 4;\n",
       "                var nbb_unformatted_code = \"# Data.to_csv(\\\"Capston2.csv\\\", index=False)\";\n",
       "                var nbb_formatted_code = \"# Data.to_csv(\\\"Capston2.csv\\\", index=False)\";\n",
       "                var nbb_cells = Jupyter.notebook.get_cells();\n",
       "                for (var i = 0; i < nbb_cells.length; ++i) {\n",
       "                    if (nbb_cells[i].input_prompt_number == nbb_cell_id) {\n",
       "                        if (nbb_cells[i].get_text() == nbb_unformatted_code) {\n",
       "                             nbb_cells[i].set_text(nbb_formatted_code);\n",
       "                        }\n",
       "                        break;\n",
       "                    }\n",
       "                }\n",
       "            }, 500);\n",
       "            "
      ],
      "text/plain": [
       "<IPython.core.display.Javascript object>"
      ]
     },
     "metadata": {},
     "output_type": "display_data"
    }
   ],
   "source": [
    "# Data.to_csv(\"Capston2.csv\", index=False)"
   ]
  },
  {
   "cell_type": "code",
   "execution_count": 5,
   "metadata": {},
   "outputs": [
    {
     "name": "stderr",
     "output_type": "stream",
     "text": [
      "C:\\Users\\lgssh\\anaconda3\\lib\\site-packages\\IPython\\core\\interactiveshell.py:3071: DtypeWarning: Columns (13,14,15,16,52,55,56,58,60,67,98,99,108,112,115) have mixed types.Specify dtype option on import or set low_memory=False.\n",
      "  has_raised = await self.run_ast_nodes(code_ast.body, cell_name,\n"
     ]
    },
    {
     "data": {
      "application/javascript": [
       "\n",
       "            setTimeout(function() {\n",
       "                var nbb_cell_id = 5;\n",
       "                var nbb_unformatted_code = \"Data = pd.read_csv(\\\"Capston2.csv\\\")\";\n",
       "                var nbb_formatted_code = \"Data = pd.read_csv(\\\"Capston2.csv\\\")\";\n",
       "                var nbb_cells = Jupyter.notebook.get_cells();\n",
       "                for (var i = 0; i < nbb_cells.length; ++i) {\n",
       "                    if (nbb_cells[i].input_prompt_number == nbb_cell_id) {\n",
       "                        if (nbb_cells[i].get_text() == nbb_unformatted_code) {\n",
       "                             nbb_cells[i].set_text(nbb_formatted_code);\n",
       "                        }\n",
       "                        break;\n",
       "                    }\n",
       "                }\n",
       "            }, 500);\n",
       "            "
      ],
      "text/plain": [
       "<IPython.core.display.Javascript object>"
      ]
     },
     "metadata": {},
     "output_type": "display_data"
    }
   ],
   "source": [
    "Data = pd.read_csv(\"Capston2.csv\")"
   ]
  },
  {
   "cell_type": "code",
   "execution_count": 6,
   "metadata": {},
   "outputs": [
    {
     "name": "stdout",
     "output_type": "stream",
     "text": [
      "<class 'pandas.core.frame.DataFrame'>\n",
      "RangeIndex: 352091 entries, 0 to 352090\n",
      "Columns: 116 entries, id to victim_ejected\n",
      "dtypes: float64(25), int64(29), object(62)\n",
      "memory usage: 311.6+ MB\n"
     ]
    },
    {
     "data": {
      "application/javascript": [
       "\n",
       "            setTimeout(function() {\n",
       "                var nbb_cell_id = 6;\n",
       "                var nbb_unformatted_code = \"Data.info()\";\n",
       "                var nbb_formatted_code = \"Data.info()\";\n",
       "                var nbb_cells = Jupyter.notebook.get_cells();\n",
       "                for (var i = 0; i < nbb_cells.length; ++i) {\n",
       "                    if (nbb_cells[i].input_prompt_number == nbb_cell_id) {\n",
       "                        if (nbb_cells[i].get_text() == nbb_unformatted_code) {\n",
       "                             nbb_cells[i].set_text(nbb_formatted_code);\n",
       "                        }\n",
       "                        break;\n",
       "                    }\n",
       "                }\n",
       "            }, 500);\n",
       "            "
      ],
      "text/plain": [
       "<IPython.core.display.Javascript object>"
      ]
     },
     "metadata": {},
     "output_type": "display_data"
    }
   ],
   "source": [
    "Data.info()"
   ]
  },
  {
   "cell_type": "code",
   "execution_count": 7,
   "metadata": {},
   "outputs": [
    {
     "data": {
      "application/javascript": [
       "\n",
       "            setTimeout(function() {\n",
       "                var nbb_cell_id = 7;\n",
       "                var nbb_unformatted_code = \"test3 = Data.isna().sum() / len(Data)\";\n",
       "                var nbb_formatted_code = \"test3 = Data.isna().sum() / len(Data)\";\n",
       "                var nbb_cells = Jupyter.notebook.get_cells();\n",
       "                for (var i = 0; i < nbb_cells.length; ++i) {\n",
       "                    if (nbb_cells[i].input_prompt_number == nbb_cell_id) {\n",
       "                        if (nbb_cells[i].get_text() == nbb_unformatted_code) {\n",
       "                             nbb_cells[i].set_text(nbb_formatted_code);\n",
       "                        }\n",
       "                        break;\n",
       "                    }\n",
       "                }\n",
       "            }, 500);\n",
       "            "
      ],
      "text/plain": [
       "<IPython.core.display.Javascript object>"
      ]
     },
     "metadata": {},
     "output_type": "display_data"
    }
   ],
   "source": [
    "test3 = Data.isna().sum() / len(Data)"
   ]
  },
  {
   "cell_type": "code",
   "execution_count": 8,
   "metadata": {},
   "outputs": [
    {
     "data": {
      "text/plain": [
       "id                           0.000000\n",
       "case_id                      0.000000\n",
       "party_number                 0.000000\n",
       "party_type                   0.000912\n",
       "at_fault                     0.000000\n",
       "                               ...   \n",
       "victim_degree_of_injury      0.000111\n",
       "victim_seating_position      0.030322\n",
       "victim_safety_equipment_1    0.065313\n",
       "victim_safety_equipment_2    0.080118\n",
       "victim_ejected               0.035499\n",
       "Length: 116, dtype: float64"
      ]
     },
     "execution_count": 8,
     "metadata": {},
     "output_type": "execute_result"
    },
    {
     "data": {
      "application/javascript": [
       "\n",
       "            setTimeout(function() {\n",
       "                var nbb_cell_id = 8;\n",
       "                var nbb_unformatted_code = \"test3\";\n",
       "                var nbb_formatted_code = \"test3\";\n",
       "                var nbb_cells = Jupyter.notebook.get_cells();\n",
       "                for (var i = 0; i < nbb_cells.length; ++i) {\n",
       "                    if (nbb_cells[i].input_prompt_number == nbb_cell_id) {\n",
       "                        if (nbb_cells[i].get_text() == nbb_unformatted_code) {\n",
       "                             nbb_cells[i].set_text(nbb_formatted_code);\n",
       "                        }\n",
       "                        break;\n",
       "                    }\n",
       "                }\n",
       "            }, 500);\n",
       "            "
      ],
      "text/plain": [
       "<IPython.core.display.Javascript object>"
      ]
     },
     "metadata": {},
     "output_type": "display_data"
    }
   ],
   "source": [
    "test3"
   ]
  },
  {
   "cell_type": "code",
   "execution_count": 9,
   "metadata": {},
   "outputs": [
    {
     "data": {
      "application/javascript": [
       "\n",
       "            setTimeout(function() {\n",
       "                var nbb_cell_id = 9;\n",
       "                var nbb_unformatted_code = \"Drop = list(test3[test3 > 0.5].index)\";\n",
       "                var nbb_formatted_code = \"Drop = list(test3[test3 > 0.5].index)\";\n",
       "                var nbb_cells = Jupyter.notebook.get_cells();\n",
       "                for (var i = 0; i < nbb_cells.length; ++i) {\n",
       "                    if (nbb_cells[i].input_prompt_number == nbb_cell_id) {\n",
       "                        if (nbb_cells[i].get_text() == nbb_unformatted_code) {\n",
       "                             nbb_cells[i].set_text(nbb_formatted_code);\n",
       "                        }\n",
       "                        break;\n",
       "                    }\n",
       "                }\n",
       "            }, 500);\n",
       "            "
      ],
      "text/plain": [
       "<IPython.core.display.Javascript object>"
      ]
     },
     "metadata": {},
     "output_type": "display_data"
    }
   ],
   "source": [
    "Drop = list(test3[test3 > 0.5].index)"
   ]
  },
  {
   "cell_type": "code",
   "execution_count": 10,
   "metadata": {},
   "outputs": [
    {
     "data": {
      "text/plain": [
       "['party_drug_physical',\n",
       " 'hazardous_materials',\n",
       " 'school_bus_related',\n",
       " 'oaf_violation_code',\n",
       " 'oaf_violation_category',\n",
       " 'oaf_violation_section',\n",
       " 'oaf_violation_suffix',\n",
       " 'other_associate_factor_2',\n",
       " 'chp_vehicle_type_towed',\n",
       " 'reporting_district',\n",
       " 'city_division_lapd',\n",
       " 'weather_2',\n",
       " 'caltrans_county',\n",
       " 'caltrans_district',\n",
       " 'state_route',\n",
       " 'route_suffix',\n",
       " 'postmile_prefix',\n",
       " 'postmile',\n",
       " 'location_type',\n",
       " 'ramp_intersection',\n",
       " 'side_of_highway',\n",
       " 'pcf_violation_code',\n",
       " 'pcf_violation_subsection',\n",
       " 'road_condition_2',\n",
       " 'pedestrian_collision',\n",
       " 'bicycle_collision',\n",
       " 'motorcycle_collision',\n",
       " 'truck_collision',\n",
       " 'alcohol_involved',\n",
       " 'primary_ramp',\n",
       " 'secondary_ramp']"
      ]
     },
     "execution_count": 10,
     "metadata": {},
     "output_type": "execute_result"
    },
    {
     "data": {
      "application/javascript": [
       "\n",
       "            setTimeout(function() {\n",
       "                var nbb_cell_id = 10;\n",
       "                var nbb_unformatted_code = \"Drop\";\n",
       "                var nbb_formatted_code = \"Drop\";\n",
       "                var nbb_cells = Jupyter.notebook.get_cells();\n",
       "                for (var i = 0; i < nbb_cells.length; ++i) {\n",
       "                    if (nbb_cells[i].input_prompt_number == nbb_cell_id) {\n",
       "                        if (nbb_cells[i].get_text() == nbb_unformatted_code) {\n",
       "                             nbb_cells[i].set_text(nbb_formatted_code);\n",
       "                        }\n",
       "                        break;\n",
       "                    }\n",
       "                }\n",
       "            }, 500);\n",
       "            "
      ],
      "text/plain": [
       "<IPython.core.display.Javascript object>"
      ]
     },
     "metadata": {},
     "output_type": "display_data"
    }
   ],
   "source": [
    "Drop"
   ]
  },
  {
   "cell_type": "code",
   "execution_count": 11,
   "metadata": {},
   "outputs": [
    {
     "data": {
      "application/javascript": [
       "\n",
       "            setTimeout(function() {\n",
       "                var nbb_cell_id = 11;\n",
       "                var nbb_unformatted_code = \"Data.drop(\\n    columns=[\\n        \\\"hazardous_materials\\\",\\n        \\\"school_bus_related\\\",\\n        \\\"oaf_violation_code\\\",\\n        \\\"oaf_violation_category\\\",\\n        \\\"oaf_violation_section\\\",\\n        \\\"oaf_violation_suffix\\\",\\n        \\\"other_associate_factor_2\\\",\\n        \\\"chp_vehicle_type_towed\\\",\\n        \\\"reporting_district\\\",\\n        \\\"city_division_lapd\\\",\\n        \\\"weather_2\\\",\\n        \\\"caltrans_county\\\",\\n        \\\"caltrans_district\\\",\\n        \\\"state_route\\\",\\n        \\\"route_suffix\\\",\\n        \\\"postmile_prefix\\\",\\n        \\\"postmile\\\",\\n        \\\"location_type\\\",\\n        \\\"ramp_intersection\\\",\\n        \\\"side_of_highway\\\",\\n        \\\"pcf_violation_code\\\",\\n        \\\"pcf_violation_subsection\\\",\\n        \\\"road_condition_2\\\",\\n        \\\"pedestrian_collision\\\",\\n        \\\"bicycle_collision\\\",\\n        \\\"motorcycle_collision\\\",\\n        \\\"truck_collision\\\",\\n        \\\"alcohol_involved\\\",\\n        \\\"primary_ramp\\\",\\n        \\\"secondary_ramp\\\",\\n    ],\\n    inplace=True,\\n)\";\n",
       "                var nbb_formatted_code = \"Data.drop(\\n    columns=[\\n        \\\"hazardous_materials\\\",\\n        \\\"school_bus_related\\\",\\n        \\\"oaf_violation_code\\\",\\n        \\\"oaf_violation_category\\\",\\n        \\\"oaf_violation_section\\\",\\n        \\\"oaf_violation_suffix\\\",\\n        \\\"other_associate_factor_2\\\",\\n        \\\"chp_vehicle_type_towed\\\",\\n        \\\"reporting_district\\\",\\n        \\\"city_division_lapd\\\",\\n        \\\"weather_2\\\",\\n        \\\"caltrans_county\\\",\\n        \\\"caltrans_district\\\",\\n        \\\"state_route\\\",\\n        \\\"route_suffix\\\",\\n        \\\"postmile_prefix\\\",\\n        \\\"postmile\\\",\\n        \\\"location_type\\\",\\n        \\\"ramp_intersection\\\",\\n        \\\"side_of_highway\\\",\\n        \\\"pcf_violation_code\\\",\\n        \\\"pcf_violation_subsection\\\",\\n        \\\"road_condition_2\\\",\\n        \\\"pedestrian_collision\\\",\\n        \\\"bicycle_collision\\\",\\n        \\\"motorcycle_collision\\\",\\n        \\\"truck_collision\\\",\\n        \\\"alcohol_involved\\\",\\n        \\\"primary_ramp\\\",\\n        \\\"secondary_ramp\\\",\\n    ],\\n    inplace=True,\\n)\";\n",
       "                var nbb_cells = Jupyter.notebook.get_cells();\n",
       "                for (var i = 0; i < nbb_cells.length; ++i) {\n",
       "                    if (nbb_cells[i].input_prompt_number == nbb_cell_id) {\n",
       "                        if (nbb_cells[i].get_text() == nbb_unformatted_code) {\n",
       "                             nbb_cells[i].set_text(nbb_formatted_code);\n",
       "                        }\n",
       "                        break;\n",
       "                    }\n",
       "                }\n",
       "            }, 500);\n",
       "            "
      ],
      "text/plain": [
       "<IPython.core.display.Javascript object>"
      ]
     },
     "metadata": {},
     "output_type": "display_data"
    }
   ],
   "source": [
    "Data.drop(\n",
    "    columns=[\n",
    "        \"hazardous_materials\",\n",
    "        \"school_bus_related\",\n",
    "        \"oaf_violation_code\",\n",
    "        \"oaf_violation_category\",\n",
    "        \"oaf_violation_section\",\n",
    "        \"oaf_violation_suffix\",\n",
    "        \"other_associate_factor_2\",\n",
    "        \"chp_vehicle_type_towed\",\n",
    "        \"reporting_district\",\n",
    "        \"city_division_lapd\",\n",
    "        \"weather_2\",\n",
    "        \"caltrans_county\",\n",
    "        \"caltrans_district\",\n",
    "        \"state_route\",\n",
    "        \"route_suffix\",\n",
    "        \"postmile_prefix\",\n",
    "        \"postmile\",\n",
    "        \"location_type\",\n",
    "        \"ramp_intersection\",\n",
    "        \"side_of_highway\",\n",
    "        \"pcf_violation_code\",\n",
    "        \"pcf_violation_subsection\",\n",
    "        \"road_condition_2\",\n",
    "        \"pedestrian_collision\",\n",
    "        \"bicycle_collision\",\n",
    "        \"motorcycle_collision\",\n",
    "        \"truck_collision\",\n",
    "        \"alcohol_involved\",\n",
    "        \"primary_ramp\",\n",
    "        \"secondary_ramp\",\n",
    "    ],\n",
    "    inplace=True,\n",
    ")"
   ]
  },
  {
   "cell_type": "code",
   "execution_count": 12,
   "metadata": {},
   "outputs": [
    {
     "data": {
      "text/html": [
       "<div>\n",
       "<style scoped>\n",
       "    .dataframe tbody tr th:only-of-type {\n",
       "        vertical-align: middle;\n",
       "    }\n",
       "\n",
       "    .dataframe tbody tr th {\n",
       "        vertical-align: top;\n",
       "    }\n",
       "\n",
       "    .dataframe thead th {\n",
       "        text-align: right;\n",
       "    }\n",
       "</style>\n",
       "<table border=\"1\" class=\"dataframe\">\n",
       "  <thead>\n",
       "    <tr style=\"text-align: right;\">\n",
       "      <th></th>\n",
       "      <th>id</th>\n",
       "      <th>case_id</th>\n",
       "      <th>party_number</th>\n",
       "      <th>party_type</th>\n",
       "      <th>at_fault</th>\n",
       "      <th>party_sex</th>\n",
       "      <th>party_age</th>\n",
       "      <th>party_sobriety</th>\n",
       "      <th>party_drug_physical</th>\n",
       "      <th>direction_of_travel</th>\n",
       "      <th>...</th>\n",
       "      <th>case_id.2</th>\n",
       "      <th>party_number.1</th>\n",
       "      <th>victim_role</th>\n",
       "      <th>victim_sex</th>\n",
       "      <th>victim_age</th>\n",
       "      <th>victim_degree_of_injury</th>\n",
       "      <th>victim_seating_position</th>\n",
       "      <th>victim_safety_equipment_1</th>\n",
       "      <th>victim_safety_equipment_2</th>\n",
       "      <th>victim_ejected</th>\n",
       "    </tr>\n",
       "  </thead>\n",
       "  <tbody>\n",
       "    <tr>\n",
       "      <th>0</th>\n",
       "      <td>6679822</td>\n",
       "      <td>81158292</td>\n",
       "      <td>1</td>\n",
       "      <td>driver</td>\n",
       "      <td>1</td>\n",
       "      <td>female</td>\n",
       "      <td>48.0</td>\n",
       "      <td>B</td>\n",
       "      <td>NaN</td>\n",
       "      <td>S</td>\n",
       "      <td>...</td>\n",
       "      <td>81158292</td>\n",
       "      <td>1</td>\n",
       "      <td>1</td>\n",
       "      <td>female</td>\n",
       "      <td>48.0</td>\n",
       "      <td>7</td>\n",
       "      <td>1</td>\n",
       "      <td>L</td>\n",
       "      <td>G</td>\n",
       "      <td>0</td>\n",
       "    </tr>\n",
       "    <tr>\n",
       "      <th>1</th>\n",
       "      <td>6679825</td>\n",
       "      <td>81158297</td>\n",
       "      <td>1</td>\n",
       "      <td>driver</td>\n",
       "      <td>1</td>\n",
       "      <td>NaN</td>\n",
       "      <td>NaN</td>\n",
       "      <td>G</td>\n",
       "      <td>G</td>\n",
       "      <td>E</td>\n",
       "      <td>...</td>\n",
       "      <td>81158297</td>\n",
       "      <td>2</td>\n",
       "      <td>1</td>\n",
       "      <td>female</td>\n",
       "      <td>43.0</td>\n",
       "      <td>7</td>\n",
       "      <td>1</td>\n",
       "      <td>M</td>\n",
       "      <td>G</td>\n",
       "      <td>0</td>\n",
       "    </tr>\n",
       "    <tr>\n",
       "      <th>2</th>\n",
       "      <td>6679825</td>\n",
       "      <td>81158297</td>\n",
       "      <td>1</td>\n",
       "      <td>driver</td>\n",
       "      <td>1</td>\n",
       "      <td>NaN</td>\n",
       "      <td>NaN</td>\n",
       "      <td>G</td>\n",
       "      <td>G</td>\n",
       "      <td>E</td>\n",
       "      <td>...</td>\n",
       "      <td>81158297</td>\n",
       "      <td>2</td>\n",
       "      <td>2</td>\n",
       "      <td>female</td>\n",
       "      <td>14.0</td>\n",
       "      <td>7</td>\n",
       "      <td>3</td>\n",
       "      <td>M</td>\n",
       "      <td>G</td>\n",
       "      <td>0</td>\n",
       "    </tr>\n",
       "    <tr>\n",
       "      <th>3</th>\n",
       "      <td>6679826</td>\n",
       "      <td>81158297</td>\n",
       "      <td>2</td>\n",
       "      <td>driver</td>\n",
       "      <td>0</td>\n",
       "      <td>female</td>\n",
       "      <td>43.0</td>\n",
       "      <td>A</td>\n",
       "      <td>NaN</td>\n",
       "      <td>N</td>\n",
       "      <td>...</td>\n",
       "      <td>81158297</td>\n",
       "      <td>2</td>\n",
       "      <td>1</td>\n",
       "      <td>female</td>\n",
       "      <td>43.0</td>\n",
       "      <td>7</td>\n",
       "      <td>1</td>\n",
       "      <td>M</td>\n",
       "      <td>G</td>\n",
       "      <td>0</td>\n",
       "    </tr>\n",
       "    <tr>\n",
       "      <th>4</th>\n",
       "      <td>6679826</td>\n",
       "      <td>81158297</td>\n",
       "      <td>2</td>\n",
       "      <td>driver</td>\n",
       "      <td>0</td>\n",
       "      <td>female</td>\n",
       "      <td>43.0</td>\n",
       "      <td>A</td>\n",
       "      <td>NaN</td>\n",
       "      <td>N</td>\n",
       "      <td>...</td>\n",
       "      <td>81158297</td>\n",
       "      <td>2</td>\n",
       "      <td>2</td>\n",
       "      <td>female</td>\n",
       "      <td>14.0</td>\n",
       "      <td>7</td>\n",
       "      <td>3</td>\n",
       "      <td>M</td>\n",
       "      <td>G</td>\n",
       "      <td>0</td>\n",
       "    </tr>\n",
       "    <tr>\n",
       "      <th>...</th>\n",
       "      <td>...</td>\n",
       "      <td>...</td>\n",
       "      <td>...</td>\n",
       "      <td>...</td>\n",
       "      <td>...</td>\n",
       "      <td>...</td>\n",
       "      <td>...</td>\n",
       "      <td>...</td>\n",
       "      <td>...</td>\n",
       "      <td>...</td>\n",
       "      <td>...</td>\n",
       "      <td>...</td>\n",
       "      <td>...</td>\n",
       "      <td>...</td>\n",
       "      <td>...</td>\n",
       "      <td>...</td>\n",
       "      <td>...</td>\n",
       "      <td>...</td>\n",
       "      <td>...</td>\n",
       "      <td>...</td>\n",
       "      <td>...</td>\n",
       "    </tr>\n",
       "    <tr>\n",
       "      <th>352086</th>\n",
       "      <td>10890889</td>\n",
       "      <td>9169359</td>\n",
       "      <td>2</td>\n",
       "      <td>driver</td>\n",
       "      <td>0</td>\n",
       "      <td>female</td>\n",
       "      <td>24.0</td>\n",
       "      <td>A</td>\n",
       "      <td>NaN</td>\n",
       "      <td>N</td>\n",
       "      <td>...</td>\n",
       "      <td>9169359</td>\n",
       "      <td>1</td>\n",
       "      <td>1</td>\n",
       "      <td>female</td>\n",
       "      <td>24.0</td>\n",
       "      <td>other visible injury</td>\n",
       "      <td>1</td>\n",
       "      <td>L</td>\n",
       "      <td>G</td>\n",
       "      <td>0</td>\n",
       "    </tr>\n",
       "    <tr>\n",
       "      <th>352087</th>\n",
       "      <td>10890889</td>\n",
       "      <td>9169359</td>\n",
       "      <td>2</td>\n",
       "      <td>driver</td>\n",
       "      <td>0</td>\n",
       "      <td>female</td>\n",
       "      <td>24.0</td>\n",
       "      <td>A</td>\n",
       "      <td>NaN</td>\n",
       "      <td>N</td>\n",
       "      <td>...</td>\n",
       "      <td>9169359</td>\n",
       "      <td>2</td>\n",
       "      <td>2</td>\n",
       "      <td>male</td>\n",
       "      <td>17.0</td>\n",
       "      <td>complaint of pain</td>\n",
       "      <td>3</td>\n",
       "      <td>L</td>\n",
       "      <td>G</td>\n",
       "      <td>0</td>\n",
       "    </tr>\n",
       "    <tr>\n",
       "      <th>352088</th>\n",
       "      <td>10890890</td>\n",
       "      <td>9169360</td>\n",
       "      <td>1</td>\n",
       "      <td>driver</td>\n",
       "      <td>1</td>\n",
       "      <td>male</td>\n",
       "      <td>28.0</td>\n",
       "      <td>A</td>\n",
       "      <td>NaN</td>\n",
       "      <td>E</td>\n",
       "      <td>...</td>\n",
       "      <td>9169360</td>\n",
       "      <td>1</td>\n",
       "      <td>1</td>\n",
       "      <td>male</td>\n",
       "      <td>28.0</td>\n",
       "      <td>complaint of pain</td>\n",
       "      <td>1</td>\n",
       "      <td>L</td>\n",
       "      <td>NaN</td>\n",
       "      <td>0</td>\n",
       "    </tr>\n",
       "    <tr>\n",
       "      <th>352089</th>\n",
       "      <td>10890891</td>\n",
       "      <td>9169360</td>\n",
       "      <td>2</td>\n",
       "      <td>parked vehicle</td>\n",
       "      <td>0</td>\n",
       "      <td>NaN</td>\n",
       "      <td>NaN</td>\n",
       "      <td>NaN</td>\n",
       "      <td>NaN</td>\n",
       "      <td>NaN</td>\n",
       "      <td>...</td>\n",
       "      <td>9169360</td>\n",
       "      <td>1</td>\n",
       "      <td>1</td>\n",
       "      <td>male</td>\n",
       "      <td>28.0</td>\n",
       "      <td>complaint of pain</td>\n",
       "      <td>1</td>\n",
       "      <td>L</td>\n",
       "      <td>NaN</td>\n",
       "      <td>0</td>\n",
       "    </tr>\n",
       "    <tr>\n",
       "      <th>352090</th>\n",
       "      <td>10890892</td>\n",
       "      <td>9169360</td>\n",
       "      <td>3</td>\n",
       "      <td>parked vehicle</td>\n",
       "      <td>0</td>\n",
       "      <td>NaN</td>\n",
       "      <td>NaN</td>\n",
       "      <td>NaN</td>\n",
       "      <td>NaN</td>\n",
       "      <td>NaN</td>\n",
       "      <td>...</td>\n",
       "      <td>9169360</td>\n",
       "      <td>1</td>\n",
       "      <td>1</td>\n",
       "      <td>male</td>\n",
       "      <td>28.0</td>\n",
       "      <td>complaint of pain</td>\n",
       "      <td>1</td>\n",
       "      <td>L</td>\n",
       "      <td>NaN</td>\n",
       "      <td>0</td>\n",
       "    </tr>\n",
       "  </tbody>\n",
       "</table>\n",
       "<p>352091 rows × 86 columns</p>\n",
       "</div>"
      ],
      "text/plain": [
       "              id   case_id  party_number      party_type  at_fault party_sex  \\\n",
       "0        6679822  81158292             1          driver         1    female   \n",
       "1        6679825  81158297             1          driver         1       NaN   \n",
       "2        6679825  81158297             1          driver         1       NaN   \n",
       "3        6679826  81158297             2          driver         0    female   \n",
       "4        6679826  81158297             2          driver         0    female   \n",
       "...          ...       ...           ...             ...       ...       ...   \n",
       "352086  10890889   9169359             2          driver         0    female   \n",
       "352087  10890889   9169359             2          driver         0    female   \n",
       "352088  10890890   9169360             1          driver         1      male   \n",
       "352089  10890891   9169360             2  parked vehicle         0       NaN   \n",
       "352090  10890892   9169360             3  parked vehicle         0       NaN   \n",
       "\n",
       "        party_age party_sobriety party_drug_physical direction_of_travel  ...  \\\n",
       "0            48.0              B                 NaN                   S  ...   \n",
       "1             NaN              G                   G                   E  ...   \n",
       "2             NaN              G                   G                   E  ...   \n",
       "3            43.0              A                 NaN                   N  ...   \n",
       "4            43.0              A                 NaN                   N  ...   \n",
       "...           ...            ...                 ...                 ...  ...   \n",
       "352086       24.0              A                 NaN                   N  ...   \n",
       "352087       24.0              A                 NaN                   N  ...   \n",
       "352088       28.0              A                 NaN                   E  ...   \n",
       "352089        NaN            NaN                 NaN                 NaN  ...   \n",
       "352090        NaN            NaN                 NaN                 NaN  ...   \n",
       "\n",
       "       case_id.2 party_number.1 victim_role victim_sex victim_age  \\\n",
       "0       81158292              1           1     female       48.0   \n",
       "1       81158297              2           1     female       43.0   \n",
       "2       81158297              2           2     female       14.0   \n",
       "3       81158297              2           1     female       43.0   \n",
       "4       81158297              2           2     female       14.0   \n",
       "...          ...            ...         ...        ...        ...   \n",
       "352086   9169359              1           1     female       24.0   \n",
       "352087   9169359              2           2       male       17.0   \n",
       "352088   9169360              1           1       male       28.0   \n",
       "352089   9169360              1           1       male       28.0   \n",
       "352090   9169360              1           1       male       28.0   \n",
       "\n",
       "        victim_degree_of_injury  victim_seating_position  \\\n",
       "0                             7                        1   \n",
       "1                             7                        1   \n",
       "2                             7                        3   \n",
       "3                             7                        1   \n",
       "4                             7                        3   \n",
       "...                         ...                      ...   \n",
       "352086     other visible injury                        1   \n",
       "352087        complaint of pain                        3   \n",
       "352088        complaint of pain                        1   \n",
       "352089        complaint of pain                        1   \n",
       "352090        complaint of pain                        1   \n",
       "\n",
       "       victim_safety_equipment_1  victim_safety_equipment_2 victim_ejected  \n",
       "0                              L                          G              0  \n",
       "1                              M                          G              0  \n",
       "2                              M                          G              0  \n",
       "3                              M                          G              0  \n",
       "4                              M                          G              0  \n",
       "...                          ...                        ...            ...  \n",
       "352086                         L                          G              0  \n",
       "352087                         L                          G              0  \n",
       "352088                         L                        NaN              0  \n",
       "352089                         L                        NaN              0  \n",
       "352090                         L                        NaN              0  \n",
       "\n",
       "[352091 rows x 86 columns]"
      ]
     },
     "execution_count": 12,
     "metadata": {},
     "output_type": "execute_result"
    },
    {
     "data": {
      "application/javascript": [
       "\n",
       "            setTimeout(function() {\n",
       "                var nbb_cell_id = 12;\n",
       "                var nbb_unformatted_code = \"Data\";\n",
       "                var nbb_formatted_code = \"Data\";\n",
       "                var nbb_cells = Jupyter.notebook.get_cells();\n",
       "                for (var i = 0; i < nbb_cells.length; ++i) {\n",
       "                    if (nbb_cells[i].input_prompt_number == nbb_cell_id) {\n",
       "                        if (nbb_cells[i].get_text() == nbb_unformatted_code) {\n",
       "                             nbb_cells[i].set_text(nbb_formatted_code);\n",
       "                        }\n",
       "                        break;\n",
       "                    }\n",
       "                }\n",
       "            }, 500);\n",
       "            "
      ],
      "text/plain": [
       "<IPython.core.display.Javascript object>"
      ]
     },
     "metadata": {},
     "output_type": "display_data"
    }
   ],
   "source": [
    "Data"
   ]
  },
  {
   "cell_type": "code",
   "execution_count": 13,
   "metadata": {},
   "outputs": [
    {
     "name": "stdout",
     "output_type": "stream",
     "text": [
      "<class 'pandas.core.frame.DataFrame'>\n",
      "RangeIndex: 352091 entries, 0 to 352090\n",
      "Data columns (total 86 columns):\n",
      " #   Column                           Non-Null Count   Dtype  \n",
      "---  ------                           --------------   -----  \n",
      " 0   id                               352091 non-null  int64  \n",
      " 1   case_id                          352091 non-null  int64  \n",
      " 2   party_number                     352091 non-null  int64  \n",
      " 3   party_type                       351770 non-null  object \n",
      " 4   at_fault                         352091 non-null  int64  \n",
      " 5   party_sex                        323541 non-null  object \n",
      " 6   party_age                        319585 non-null  float64\n",
      " 7   party_sobriety                   340688 non-null  object \n",
      " 8   party_drug_physical              45428 non-null   object \n",
      " 9   direction_of_travel              342701 non-null  object \n",
      " 10  party_safety_equipment_1         303987 non-null  object \n",
      " 11  party_safety_equipment_2         299269 non-null  object \n",
      " 12  financial_responsibility         332187 non-null  object \n",
      " 13  cellphone_use                    307056 non-null  object \n",
      " 14  other_associate_factor_1         332855 non-null  object \n",
      " 15  party_number_killed              352091 non-null  int64  \n",
      " 16  party_number_injured             352091 non-null  int64  \n",
      " 17  movement_preceding_collision     342494 non-null  object \n",
      " 18  vehicle_year                     325017 non-null  float64\n",
      " 19  vehicle_make                     227033 non-null  object \n",
      " 20  statewide_vehicle_type           333776 non-null  object \n",
      " 21  chp_vehicle_type_towing          327639 non-null  float64\n",
      " 22  party_race                       311653 non-null  object \n",
      " 23  case_id.1                        352091 non-null  int64  \n",
      " 24  jurisdiction                     351055 non-null  float64\n",
      " 25  officer_id                       351703 non-null  object \n",
      " 26  chp_shift                        352091 non-null  int64  \n",
      " 27  population                       352091 non-null  int64  \n",
      " 28  county_city_location             352091 non-null  int64  \n",
      " 29  special_condition                352091 non-null  int64  \n",
      " 30  beat_type                        352091 non-null  int64  \n",
      " 31  chp_beat_type                    352091 non-null  object \n",
      " 32  chp_beat_class                   352091 non-null  object \n",
      " 33  beat_number                      327228 non-null  object \n",
      " 34  primary_road                     352091 non-null  object \n",
      " 35  secondary_road                   352088 non-null  object \n",
      " 36  distance                         352091 non-null  float64\n",
      " 37  direction                        225575 non-null  object \n",
      " 38  intersection                     350419 non-null  float64\n",
      " 39  weather_1                        350675 non-null  object \n",
      " 40  state_highway_indicator          351805 non-null  float64\n",
      " 41  tow_away                         342745 non-null  float64\n",
      " 42  collision_severity               351979 non-null  object \n",
      " 43  killed_victims                   352091 non-null  int64  \n",
      " 44  injured_victims                  352091 non-null  int64  \n",
      " 45  party_count                      352091 non-null  int64  \n",
      " 46  primary_collision_factor         350005 non-null  object \n",
      " 47  pcf_violation_category           348994 non-null  object \n",
      " 48  pcf_violation                    337416 non-null  float64\n",
      " 49  hit_and_run                      352091 non-null  object \n",
      " 50  type_of_collision                349127 non-null  object \n",
      " 51  motor_vehicle_involved_with      349862 non-null  object \n",
      " 52  pedestrian_action                351675 non-null  object \n",
      " 53  road_surface                     348008 non-null  object \n",
      " 54  road_condition_1                 350189 non-null  object \n",
      " 55  lighting                         350964 non-null  object \n",
      " 56  control_device                   350109 non-null  object \n",
      " 57  chp_road_type                    352091 non-null  int64  \n",
      " 58  not_private_property             352091 non-null  int64  \n",
      " 59  statewide_vehicle_type_at_fault  312444 non-null  object \n",
      " 60  chp_vehicle_type_at_fault        306831 non-null  float64\n",
      " 61  severe_injury_count              352091 non-null  int64  \n",
      " 62  other_visible_injury_count       352091 non-null  int64  \n",
      " 63  complaint_of_pain_injury_count   352091 non-null  int64  \n",
      " 64  pedestrian_killed_count          352091 non-null  int64  \n",
      " 65  pedestrian_injured_count         352091 non-null  int64  \n",
      " 66  bicyclist_killed_count           352091 non-null  int64  \n",
      " 67  bicyclist_injured_count          352091 non-null  int64  \n",
      " 68  motorcyclist_killed_count        352091 non-null  int64  \n",
      " 69  motorcyclist_injured_count       352091 non-null  int64  \n",
      " 70  latitude                         202283 non-null  float64\n",
      " 71  longitude                        202283 non-null  float64\n",
      " 72  collision_date                   352091 non-null  object \n",
      " 73  collision_time                   351608 non-null  object \n",
      " 74  process_date                     352091 non-null  object \n",
      " 75  id.1                             352091 non-null  int64  \n",
      " 76  case_id.2                        352091 non-null  int64  \n",
      " 77  party_number.1                   352091 non-null  int64  \n",
      " 78  victim_role                      352063 non-null  object \n",
      " 79  victim_sex                       345956 non-null  object \n",
      " 80  victim_age                       344340 non-null  float64\n",
      " 81  victim_degree_of_injury          352052 non-null  object \n",
      " 82  victim_seating_position          341415 non-null  object \n",
      " 83  victim_safety_equipment_1        329095 non-null  object \n",
      " 84  victim_safety_equipment_2        323882 non-null  object \n",
      " 85  victim_ejected                   339592 non-null  object \n",
      "dtypes: float64(13), int64(29), object(44)\n",
      "memory usage: 231.0+ MB\n"
     ]
    },
    {
     "data": {
      "application/javascript": [
       "\n",
       "            setTimeout(function() {\n",
       "                var nbb_cell_id = 13;\n",
       "                var nbb_unformatted_code = \"Data.info()\";\n",
       "                var nbb_formatted_code = \"Data.info()\";\n",
       "                var nbb_cells = Jupyter.notebook.get_cells();\n",
       "                for (var i = 0; i < nbb_cells.length; ++i) {\n",
       "                    if (nbb_cells[i].input_prompt_number == nbb_cell_id) {\n",
       "                        if (nbb_cells[i].get_text() == nbb_unformatted_code) {\n",
       "                             nbb_cells[i].set_text(nbb_formatted_code);\n",
       "                        }\n",
       "                        break;\n",
       "                    }\n",
       "                }\n",
       "            }, 500);\n",
       "            "
      ],
      "text/plain": [
       "<IPython.core.display.Javascript object>"
      ]
     },
     "metadata": {},
     "output_type": "display_data"
    }
   ],
   "source": [
    "Data.info()"
   ]
  },
  {
   "cell_type": "markdown",
   "metadata": {},
   "source": [
    "collision_severity:\n",
    "* 1 - Fatal\n",
    "* 2 - Injury (Severe)\n",
    "* 3 - Injury (Other Visible)\n",
    "* 4 - Injury (Complaint of Pain)\n",
    "* 5 – Property Damage Only (PDO) (PDO collisions not included on TIMS)"
   ]
  },
  {
   "cell_type": "code",
   "execution_count": 14,
   "metadata": {},
   "outputs": [
    {
     "data": {
      "text/plain": [
       "pain                    180780\n",
       "other injury            103167\n",
       "property damage only     34387\n",
       "severe injury            27430\n",
       "fatal                     6213\n",
       "M                            2\n",
       "Name: collision_severity, dtype: int64"
      ]
     },
     "execution_count": 14,
     "metadata": {},
     "output_type": "execute_result"
    },
    {
     "data": {
      "application/javascript": [
       "\n",
       "            setTimeout(function() {\n",
       "                var nbb_cell_id = 14;\n",
       "                var nbb_unformatted_code = \"Data[\\\"collision_severity\\\"].value_counts()\";\n",
       "                var nbb_formatted_code = \"Data[\\\"collision_severity\\\"].value_counts()\";\n",
       "                var nbb_cells = Jupyter.notebook.get_cells();\n",
       "                for (var i = 0; i < nbb_cells.length; ++i) {\n",
       "                    if (nbb_cells[i].input_prompt_number == nbb_cell_id) {\n",
       "                        if (nbb_cells[i].get_text() == nbb_unformatted_code) {\n",
       "                             nbb_cells[i].set_text(nbb_formatted_code);\n",
       "                        }\n",
       "                        break;\n",
       "                    }\n",
       "                }\n",
       "            }, 500);\n",
       "            "
      ],
      "text/plain": [
       "<IPython.core.display.Javascript object>"
      ]
     },
     "metadata": {},
     "output_type": "display_data"
    }
   ],
   "source": [
    "Data[\"collision_severity\"].value_counts()"
   ]
  },
  {
   "cell_type": "code",
   "execution_count": 15,
   "metadata": {},
   "outputs": [
    {
     "data": {
      "application/javascript": [
       "\n",
       "            setTimeout(function() {\n",
       "                var nbb_cell_id = 15;\n",
       "                var nbb_unformatted_code = \"Data = Data[Data[\\\"collision_severity\\\"] != \\\"M\\\"]\";\n",
       "                var nbb_formatted_code = \"Data = Data[Data[\\\"collision_severity\\\"] != \\\"M\\\"]\";\n",
       "                var nbb_cells = Jupyter.notebook.get_cells();\n",
       "                for (var i = 0; i < nbb_cells.length; ++i) {\n",
       "                    if (nbb_cells[i].input_prompt_number == nbb_cell_id) {\n",
       "                        if (nbb_cells[i].get_text() == nbb_unformatted_code) {\n",
       "                             nbb_cells[i].set_text(nbb_formatted_code);\n",
       "                        }\n",
       "                        break;\n",
       "                    }\n",
       "                }\n",
       "            }, 500);\n",
       "            "
      ],
      "text/plain": [
       "<IPython.core.display.Javascript object>"
      ]
     },
     "metadata": {},
     "output_type": "display_data"
    }
   ],
   "source": [
    "Data = Data[Data[\"collision_severity\"] != \"M\"]"
   ]
  },
  {
   "cell_type": "code",
   "execution_count": 16,
   "metadata": {},
   "outputs": [
    {
     "name": "stderr",
     "output_type": "stream",
     "text": [
      "<ipython-input-16-7c7626612f2d>:8: SettingWithCopyWarning: \n",
      "A value is trying to be set on a copy of a slice from a DataFrame.\n",
      "Try using .loc[row_indexer,col_indexer] = value instead\n",
      "\n",
      "See the caveats in the documentation: https://pandas.pydata.org/pandas-docs/stable/user_guide/indexing.html#returning-a-view-versus-a-copy\n",
      "  Data[\"collision_severity\"] = Data[\"collision_severity\"].replace(severity_map)\n"
     ]
    },
    {
     "data": {
      "application/javascript": [
       "\n",
       "            setTimeout(function() {\n",
       "                var nbb_cell_id = 16;\n",
       "                var nbb_unformatted_code = \"severity_map = {\\n    \\\"pain\\\": 2,\\n    \\\"other injury\\\": 3,\\n    \\\"property damage only\\\": 1,\\n    \\\"severe injury\\\": 4,\\n    \\\"fatal\\\": 5,\\n}\\nData[\\\"collision_severity\\\"] = Data[\\\"collision_severity\\\"].replace(severity_map)\";\n",
       "                var nbb_formatted_code = \"severity_map = {\\n    \\\"pain\\\": 2,\\n    \\\"other injury\\\": 3,\\n    \\\"property damage only\\\": 1,\\n    \\\"severe injury\\\": 4,\\n    \\\"fatal\\\": 5,\\n}\\nData[\\\"collision_severity\\\"] = Data[\\\"collision_severity\\\"].replace(severity_map)\";\n",
       "                var nbb_cells = Jupyter.notebook.get_cells();\n",
       "                for (var i = 0; i < nbb_cells.length; ++i) {\n",
       "                    if (nbb_cells[i].input_prompt_number == nbb_cell_id) {\n",
       "                        if (nbb_cells[i].get_text() == nbb_unformatted_code) {\n",
       "                             nbb_cells[i].set_text(nbb_formatted_code);\n",
       "                        }\n",
       "                        break;\n",
       "                    }\n",
       "                }\n",
       "            }, 500);\n",
       "            "
      ],
      "text/plain": [
       "<IPython.core.display.Javascript object>"
      ]
     },
     "metadata": {},
     "output_type": "display_data"
    }
   ],
   "source": [
    "severity_map = {\n",
    "    \"pain\": 2,\n",
    "    \"other injury\": 3,\n",
    "    \"property damage only\": 1,\n",
    "    \"severe injury\": 4,\n",
    "    \"fatal\": 5,\n",
    "}\n",
    "Data[\"collision_severity\"] = Data[\"collision_severity\"].replace(severity_map)"
   ]
  },
  {
   "cell_type": "code",
   "execution_count": 17,
   "metadata": {},
   "outputs": [
    {
     "data": {
      "text/html": [
       "<div>\n",
       "<style scoped>\n",
       "    .dataframe tbody tr th:only-of-type {\n",
       "        vertical-align: middle;\n",
       "    }\n",
       "\n",
       "    .dataframe tbody tr th {\n",
       "        vertical-align: top;\n",
       "    }\n",
       "\n",
       "    .dataframe thead th {\n",
       "        text-align: right;\n",
       "    }\n",
       "</style>\n",
       "<table border=\"1\" class=\"dataframe\">\n",
       "  <thead>\n",
       "    <tr style=\"text-align: right;\">\n",
       "      <th></th>\n",
       "      <th>count</th>\n",
       "      <th>mean</th>\n",
       "      <th>std</th>\n",
       "      <th>min</th>\n",
       "      <th>25%</th>\n",
       "      <th>50%</th>\n",
       "      <th>75%</th>\n",
       "      <th>max</th>\n",
       "    </tr>\n",
       "  </thead>\n",
       "  <tbody>\n",
       "    <tr>\n",
       "      <th>id</th>\n",
       "      <td>352089.0</td>\n",
       "      <td>10189600.10</td>\n",
       "      <td>867998.97</td>\n",
       "      <td>6679822.00</td>\n",
       "      <td>9742679.00</td>\n",
       "      <td>10611016.00</td>\n",
       "      <td>10767609.00</td>\n",
       "      <td>10890892.00</td>\n",
       "    </tr>\n",
       "    <tr>\n",
       "      <th>case_id</th>\n",
       "      <td>352089.0</td>\n",
       "      <td>42583756.02</td>\n",
       "      <td>40134903.72</td>\n",
       "      <td>8845643.00</td>\n",
       "      <td>9079655.00</td>\n",
       "      <td>9136897.00</td>\n",
       "      <td>91221098.00</td>\n",
       "      <td>91329841.00</td>\n",
       "    </tr>\n",
       "    <tr>\n",
       "      <th>party_number</th>\n",
       "      <td>352089.0</td>\n",
       "      <td>1.71</td>\n",
       "      <td>0.85</td>\n",
       "      <td>1.00</td>\n",
       "      <td>1.00</td>\n",
       "      <td>2.00</td>\n",
       "      <td>2.00</td>\n",
       "      <td>11.00</td>\n",
       "    </tr>\n",
       "    <tr>\n",
       "      <th>at_fault</th>\n",
       "      <td>352089.0</td>\n",
       "      <td>0.45</td>\n",
       "      <td>0.50</td>\n",
       "      <td>0.00</td>\n",
       "      <td>0.00</td>\n",
       "      <td>0.00</td>\n",
       "      <td>1.00</td>\n",
       "      <td>1.00</td>\n",
       "    </tr>\n",
       "    <tr>\n",
       "      <th>party_age</th>\n",
       "      <td>319584.0</td>\n",
       "      <td>39.45</td>\n",
       "      <td>16.41</td>\n",
       "      <td>0.00</td>\n",
       "      <td>26.00</td>\n",
       "      <td>36.00</td>\n",
       "      <td>51.00</td>\n",
       "      <td>122.00</td>\n",
       "    </tr>\n",
       "    <tr>\n",
       "      <th>party_number_killed</th>\n",
       "      <td>352089.0</td>\n",
       "      <td>0.01</td>\n",
       "      <td>0.11</td>\n",
       "      <td>0.00</td>\n",
       "      <td>0.00</td>\n",
       "      <td>0.00</td>\n",
       "      <td>0.00</td>\n",
       "      <td>4.00</td>\n",
       "    </tr>\n",
       "    <tr>\n",
       "      <th>party_number_injured</th>\n",
       "      <td>352089.0</td>\n",
       "      <td>0.77</td>\n",
       "      <td>0.89</td>\n",
       "      <td>0.00</td>\n",
       "      <td>0.00</td>\n",
       "      <td>1.00</td>\n",
       "      <td>1.00</td>\n",
       "      <td>18.00</td>\n",
       "    </tr>\n",
       "    <tr>\n",
       "      <th>vehicle_year</th>\n",
       "      <td>325016.0</td>\n",
       "      <td>2010.01</td>\n",
       "      <td>12.40</td>\n",
       "      <td>12.00</td>\n",
       "      <td>2005.00</td>\n",
       "      <td>2012.00</td>\n",
       "      <td>2016.00</td>\n",
       "      <td>2918.00</td>\n",
       "    </tr>\n",
       "    <tr>\n",
       "      <th>chp_vehicle_type_towing</th>\n",
       "      <td>327639.0</td>\n",
       "      <td>7.47</td>\n",
       "      <td>12.79</td>\n",
       "      <td>1.00</td>\n",
       "      <td>1.00</td>\n",
       "      <td>1.00</td>\n",
       "      <td>7.00</td>\n",
       "      <td>98.00</td>\n",
       "    </tr>\n",
       "    <tr>\n",
       "      <th>case_id.1</th>\n",
       "      <td>352089.0</td>\n",
       "      <td>42583756.02</td>\n",
       "      <td>40134903.72</td>\n",
       "      <td>8845643.00</td>\n",
       "      <td>9079655.00</td>\n",
       "      <td>9136897.00</td>\n",
       "      <td>91221098.00</td>\n",
       "      <td>91329841.00</td>\n",
       "    </tr>\n",
       "    <tr>\n",
       "      <th>jurisdiction</th>\n",
       "      <td>351053.0</td>\n",
       "      <td>5373.80</td>\n",
       "      <td>3427.02</td>\n",
       "      <td>100.00</td>\n",
       "      <td>1942.00</td>\n",
       "      <td>3801.00</td>\n",
       "      <td>9435.00</td>\n",
       "      <td>9870.00</td>\n",
       "    </tr>\n",
       "    <tr>\n",
       "      <th>chp_shift</th>\n",
       "      <td>352089.0</td>\n",
       "      <td>3.78</td>\n",
       "      <td>1.61</td>\n",
       "      <td>1.00</td>\n",
       "      <td>2.00</td>\n",
       "      <td>5.00</td>\n",
       "      <td>5.00</td>\n",
       "      <td>5.00</td>\n",
       "    </tr>\n",
       "    <tr>\n",
       "      <th>population</th>\n",
       "      <td>352089.0</td>\n",
       "      <td>6.43</td>\n",
       "      <td>1.74</td>\n",
       "      <td>1.00</td>\n",
       "      <td>5.00</td>\n",
       "      <td>7.00</td>\n",
       "      <td>7.00</td>\n",
       "      <td>9.00</td>\n",
       "    </tr>\n",
       "    <tr>\n",
       "      <th>county_city_location</th>\n",
       "      <td>352089.0</td>\n",
       "      <td>2793.26</td>\n",
       "      <td>1291.33</td>\n",
       "      <td>100.00</td>\n",
       "      <td>1942.00</td>\n",
       "      <td>3001.00</td>\n",
       "      <td>3702.00</td>\n",
       "      <td>5802.00</td>\n",
       "    </tr>\n",
       "    <tr>\n",
       "      <th>special_condition</th>\n",
       "      <td>352089.0</td>\n",
       "      <td>0.00</td>\n",
       "      <td>0.02</td>\n",
       "      <td>0.00</td>\n",
       "      <td>0.00</td>\n",
       "      <td>0.00</td>\n",
       "      <td>0.00</td>\n",
       "      <td>1.00</td>\n",
       "    </tr>\n",
       "    <tr>\n",
       "      <th>beat_type</th>\n",
       "      <td>352089.0</td>\n",
       "      <td>0.57</td>\n",
       "      <td>0.87</td>\n",
       "      <td>0.00</td>\n",
       "      <td>0.00</td>\n",
       "      <td>0.00</td>\n",
       "      <td>1.00</td>\n",
       "      <td>4.00</td>\n",
       "    </tr>\n",
       "    <tr>\n",
       "      <th>distance</th>\n",
       "      <td>352089.0</td>\n",
       "      <td>550.35</td>\n",
       "      <td>1952.65</td>\n",
       "      <td>0.00</td>\n",
       "      <td>0.00</td>\n",
       "      <td>52.00</td>\n",
       "      <td>400.00</td>\n",
       "      <td>200112.00</td>\n",
       "    </tr>\n",
       "    <tr>\n",
       "      <th>intersection</th>\n",
       "      <td>350417.0</td>\n",
       "      <td>0.35</td>\n",
       "      <td>0.48</td>\n",
       "      <td>0.00</td>\n",
       "      <td>0.00</td>\n",
       "      <td>0.00</td>\n",
       "      <td>1.00</td>\n",
       "      <td>1.00</td>\n",
       "    </tr>\n",
       "    <tr>\n",
       "      <th>state_highway_indicator</th>\n",
       "      <td>351803.0</td>\n",
       "      <td>0.33</td>\n",
       "      <td>0.47</td>\n",
       "      <td>0.00</td>\n",
       "      <td>0.00</td>\n",
       "      <td>0.00</td>\n",
       "      <td>1.00</td>\n",
       "      <td>1.00</td>\n",
       "    </tr>\n",
       "    <tr>\n",
       "      <th>tow_away</th>\n",
       "      <td>342745.0</td>\n",
       "      <td>0.68</td>\n",
       "      <td>0.47</td>\n",
       "      <td>0.00</td>\n",
       "      <td>0.00</td>\n",
       "      <td>1.00</td>\n",
       "      <td>1.00</td>\n",
       "      <td>1.00</td>\n",
       "    </tr>\n",
       "    <tr>\n",
       "      <th>collision_severity</th>\n",
       "      <td>351977.0</td>\n",
       "      <td>2.40</td>\n",
       "      <td>0.84</td>\n",
       "      <td>1.00</td>\n",
       "      <td>2.00</td>\n",
       "      <td>2.00</td>\n",
       "      <td>3.00</td>\n",
       "      <td>5.00</td>\n",
       "    </tr>\n",
       "    <tr>\n",
       "      <th>killed_victims</th>\n",
       "      <td>352089.0</td>\n",
       "      <td>0.02</td>\n",
       "      <td>0.17</td>\n",
       "      <td>0.00</td>\n",
       "      <td>0.00</td>\n",
       "      <td>0.00</td>\n",
       "      <td>0.00</td>\n",
       "      <td>4.00</td>\n",
       "    </tr>\n",
       "    <tr>\n",
       "      <th>injured_victims</th>\n",
       "      <td>352089.0</td>\n",
       "      <td>1.75</td>\n",
       "      <td>1.37</td>\n",
       "      <td>0.00</td>\n",
       "      <td>1.00</td>\n",
       "      <td>1.00</td>\n",
       "      <td>2.00</td>\n",
       "      <td>18.00</td>\n",
       "    </tr>\n",
       "    <tr>\n",
       "      <th>party_count</th>\n",
       "      <td>352089.0</td>\n",
       "      <td>2.41</td>\n",
       "      <td>0.99</td>\n",
       "      <td>1.00</td>\n",
       "      <td>2.00</td>\n",
       "      <td>2.00</td>\n",
       "      <td>3.00</td>\n",
       "      <td>11.00</td>\n",
       "    </tr>\n",
       "    <tr>\n",
       "      <th>pcf_violation</th>\n",
       "      <td>337416.0</td>\n",
       "      <td>22121.35</td>\n",
       "      <td>631.51</td>\n",
       "      <td>1801.00</td>\n",
       "      <td>21801.00</td>\n",
       "      <td>22107.00</td>\n",
       "      <td>22350.00</td>\n",
       "      <td>82350.00</td>\n",
       "    </tr>\n",
       "    <tr>\n",
       "      <th>chp_road_type</th>\n",
       "      <td>352089.0</td>\n",
       "      <td>0.00</td>\n",
       "      <td>0.00</td>\n",
       "      <td>0.00</td>\n",
       "      <td>0.00</td>\n",
       "      <td>0.00</td>\n",
       "      <td>0.00</td>\n",
       "      <td>0.00</td>\n",
       "    </tr>\n",
       "    <tr>\n",
       "      <th>not_private_property</th>\n",
       "      <td>352089.0</td>\n",
       "      <td>1.00</td>\n",
       "      <td>0.00</td>\n",
       "      <td>1.00</td>\n",
       "      <td>1.00</td>\n",
       "      <td>1.00</td>\n",
       "      <td>1.00</td>\n",
       "      <td>1.00</td>\n",
       "    </tr>\n",
       "    <tr>\n",
       "      <th>chp_vehicle_type_at_fault</th>\n",
       "      <td>306831.0</td>\n",
       "      <td>6.96</td>\n",
       "      <td>11.94</td>\n",
       "      <td>1.00</td>\n",
       "      <td>1.00</td>\n",
       "      <td>1.00</td>\n",
       "      <td>7.00</td>\n",
       "      <td>98.00</td>\n",
       "    </tr>\n",
       "    <tr>\n",
       "      <th>severe_injury_count</th>\n",
       "      <td>352089.0</td>\n",
       "      <td>0.11</td>\n",
       "      <td>0.39</td>\n",
       "      <td>0.00</td>\n",
       "      <td>0.00</td>\n",
       "      <td>0.00</td>\n",
       "      <td>0.00</td>\n",
       "      <td>6.00</td>\n",
       "    </tr>\n",
       "    <tr>\n",
       "      <th>other_visible_injury_count</th>\n",
       "      <td>352089.0</td>\n",
       "      <td>0.45</td>\n",
       "      <td>0.79</td>\n",
       "      <td>0.00</td>\n",
       "      <td>0.00</td>\n",
       "      <td>0.00</td>\n",
       "      <td>1.00</td>\n",
       "      <td>10.00</td>\n",
       "    </tr>\n",
       "    <tr>\n",
       "      <th>complaint_of_pain_injury_count</th>\n",
       "      <td>352089.0</td>\n",
       "      <td>1.19</td>\n",
       "      <td>1.27</td>\n",
       "      <td>0.00</td>\n",
       "      <td>0.00</td>\n",
       "      <td>1.00</td>\n",
       "      <td>2.00</td>\n",
       "      <td>18.00</td>\n",
       "    </tr>\n",
       "    <tr>\n",
       "      <th>pedestrian_killed_count</th>\n",
       "      <td>352089.0</td>\n",
       "      <td>0.00</td>\n",
       "      <td>0.08</td>\n",
       "      <td>0.00</td>\n",
       "      <td>0.00</td>\n",
       "      <td>0.00</td>\n",
       "      <td>0.00</td>\n",
       "      <td>4.00</td>\n",
       "    </tr>\n",
       "    <tr>\n",
       "      <th>pedestrian_injured_count</th>\n",
       "      <td>352089.0</td>\n",
       "      <td>0.05</td>\n",
       "      <td>0.26</td>\n",
       "      <td>0.00</td>\n",
       "      <td>0.00</td>\n",
       "      <td>0.00</td>\n",
       "      <td>0.00</td>\n",
       "      <td>5.00</td>\n",
       "    </tr>\n",
       "    <tr>\n",
       "      <th>bicyclist_killed_count</th>\n",
       "      <td>352089.0</td>\n",
       "      <td>0.00</td>\n",
       "      <td>0.02</td>\n",
       "      <td>0.00</td>\n",
       "      <td>0.00</td>\n",
       "      <td>0.00</td>\n",
       "      <td>0.00</td>\n",
       "      <td>1.00</td>\n",
       "    </tr>\n",
       "    <tr>\n",
       "      <th>bicyclist_injured_count</th>\n",
       "      <td>352089.0</td>\n",
       "      <td>0.03</td>\n",
       "      <td>0.18</td>\n",
       "      <td>0.00</td>\n",
       "      <td>0.00</td>\n",
       "      <td>0.00</td>\n",
       "      <td>0.00</td>\n",
       "      <td>4.00</td>\n",
       "    </tr>\n",
       "    <tr>\n",
       "      <th>motorcyclist_killed_count</th>\n",
       "      <td>352089.0</td>\n",
       "      <td>0.00</td>\n",
       "      <td>0.04</td>\n",
       "      <td>0.00</td>\n",
       "      <td>0.00</td>\n",
       "      <td>0.00</td>\n",
       "      <td>0.00</td>\n",
       "      <td>2.00</td>\n",
       "    </tr>\n",
       "    <tr>\n",
       "      <th>motorcyclist_injured_count</th>\n",
       "      <td>352089.0</td>\n",
       "      <td>0.05</td>\n",
       "      <td>0.24</td>\n",
       "      <td>0.00</td>\n",
       "      <td>0.00</td>\n",
       "      <td>0.00</td>\n",
       "      <td>0.00</td>\n",
       "      <td>5.00</td>\n",
       "    </tr>\n",
       "    <tr>\n",
       "      <th>latitude</th>\n",
       "      <td>202281.0</td>\n",
       "      <td>35.64</td>\n",
       "      <td>2.05</td>\n",
       "      <td>32.51</td>\n",
       "      <td>33.95</td>\n",
       "      <td>34.45</td>\n",
       "      <td>37.69</td>\n",
       "      <td>42.00</td>\n",
       "    </tr>\n",
       "    <tr>\n",
       "      <th>longitude</th>\n",
       "      <td>202281.0</td>\n",
       "      <td>-119.41</td>\n",
       "      <td>1.92</td>\n",
       "      <td>-124.41</td>\n",
       "      <td>-121.34</td>\n",
       "      <td>-118.72</td>\n",
       "      <td>-117.88</td>\n",
       "      <td>-114.29</td>\n",
       "    </tr>\n",
       "    <tr>\n",
       "      <th>id.1</th>\n",
       "      <td>352089.0</td>\n",
       "      <td>5165525.27</td>\n",
       "      <td>308650.33</td>\n",
       "      <td>3662489.00</td>\n",
       "      <td>5067973.00</td>\n",
       "      <td>5293653.00</td>\n",
       "      <td>5338602.00</td>\n",
       "      <td>5380582.00</td>\n",
       "    </tr>\n",
       "    <tr>\n",
       "      <th>case_id.2</th>\n",
       "      <td>352089.0</td>\n",
       "      <td>42583756.02</td>\n",
       "      <td>40134903.72</td>\n",
       "      <td>8845643.00</td>\n",
       "      <td>9079655.00</td>\n",
       "      <td>9136897.00</td>\n",
       "      <td>91221098.00</td>\n",
       "      <td>91329841.00</td>\n",
       "    </tr>\n",
       "    <tr>\n",
       "      <th>party_number.1</th>\n",
       "      <td>352089.0</td>\n",
       "      <td>1.71</td>\n",
       "      <td>0.75</td>\n",
       "      <td>1.00</td>\n",
       "      <td>1.00</td>\n",
       "      <td>2.00</td>\n",
       "      <td>2.00</td>\n",
       "      <td>10.00</td>\n",
       "    </tr>\n",
       "    <tr>\n",
       "      <th>victim_age</th>\n",
       "      <td>344338.0</td>\n",
       "      <td>35.72</td>\n",
       "      <td>18.97</td>\n",
       "      <td>0.00</td>\n",
       "      <td>21.00</td>\n",
       "      <td>32.00</td>\n",
       "      <td>50.00</td>\n",
       "      <td>123.00</td>\n",
       "    </tr>\n",
       "  </tbody>\n",
       "</table>\n",
       "</div>"
      ],
      "text/plain": [
       "                                   count         mean          std  \\\n",
       "id                              352089.0  10189600.10    867998.97   \n",
       "case_id                         352089.0  42583756.02  40134903.72   \n",
       "party_number                    352089.0         1.71         0.85   \n",
       "at_fault                        352089.0         0.45         0.50   \n",
       "party_age                       319584.0        39.45        16.41   \n",
       "party_number_killed             352089.0         0.01         0.11   \n",
       "party_number_injured            352089.0         0.77         0.89   \n",
       "vehicle_year                    325016.0      2010.01        12.40   \n",
       "chp_vehicle_type_towing         327639.0         7.47        12.79   \n",
       "case_id.1                       352089.0  42583756.02  40134903.72   \n",
       "jurisdiction                    351053.0      5373.80      3427.02   \n",
       "chp_shift                       352089.0         3.78         1.61   \n",
       "population                      352089.0         6.43         1.74   \n",
       "county_city_location            352089.0      2793.26      1291.33   \n",
       "special_condition               352089.0         0.00         0.02   \n",
       "beat_type                       352089.0         0.57         0.87   \n",
       "distance                        352089.0       550.35      1952.65   \n",
       "intersection                    350417.0         0.35         0.48   \n",
       "state_highway_indicator         351803.0         0.33         0.47   \n",
       "tow_away                        342745.0         0.68         0.47   \n",
       "collision_severity              351977.0         2.40         0.84   \n",
       "killed_victims                  352089.0         0.02         0.17   \n",
       "injured_victims                 352089.0         1.75         1.37   \n",
       "party_count                     352089.0         2.41         0.99   \n",
       "pcf_violation                   337416.0     22121.35       631.51   \n",
       "chp_road_type                   352089.0         0.00         0.00   \n",
       "not_private_property            352089.0         1.00         0.00   \n",
       "chp_vehicle_type_at_fault       306831.0         6.96        11.94   \n",
       "severe_injury_count             352089.0         0.11         0.39   \n",
       "other_visible_injury_count      352089.0         0.45         0.79   \n",
       "complaint_of_pain_injury_count  352089.0         1.19         1.27   \n",
       "pedestrian_killed_count         352089.0         0.00         0.08   \n",
       "pedestrian_injured_count        352089.0         0.05         0.26   \n",
       "bicyclist_killed_count          352089.0         0.00         0.02   \n",
       "bicyclist_injured_count         352089.0         0.03         0.18   \n",
       "motorcyclist_killed_count       352089.0         0.00         0.04   \n",
       "motorcyclist_injured_count      352089.0         0.05         0.24   \n",
       "latitude                        202281.0        35.64         2.05   \n",
       "longitude                       202281.0      -119.41         1.92   \n",
       "id.1                            352089.0   5165525.27    308650.33   \n",
       "case_id.2                       352089.0  42583756.02  40134903.72   \n",
       "party_number.1                  352089.0         1.71         0.75   \n",
       "victim_age                      344338.0        35.72        18.97   \n",
       "\n",
       "                                       min         25%          50%  \\\n",
       "id                              6679822.00  9742679.00  10611016.00   \n",
       "case_id                         8845643.00  9079655.00   9136897.00   \n",
       "party_number                          1.00        1.00         2.00   \n",
       "at_fault                              0.00        0.00         0.00   \n",
       "party_age                             0.00       26.00        36.00   \n",
       "party_number_killed                   0.00        0.00         0.00   \n",
       "party_number_injured                  0.00        0.00         1.00   \n",
       "vehicle_year                         12.00     2005.00      2012.00   \n",
       "chp_vehicle_type_towing               1.00        1.00         1.00   \n",
       "case_id.1                       8845643.00  9079655.00   9136897.00   \n",
       "jurisdiction                        100.00     1942.00      3801.00   \n",
       "chp_shift                             1.00        2.00         5.00   \n",
       "population                            1.00        5.00         7.00   \n",
       "county_city_location                100.00     1942.00      3001.00   \n",
       "special_condition                     0.00        0.00         0.00   \n",
       "beat_type                             0.00        0.00         0.00   \n",
       "distance                              0.00        0.00        52.00   \n",
       "intersection                          0.00        0.00         0.00   \n",
       "state_highway_indicator               0.00        0.00         0.00   \n",
       "tow_away                              0.00        0.00         1.00   \n",
       "collision_severity                    1.00        2.00         2.00   \n",
       "killed_victims                        0.00        0.00         0.00   \n",
       "injured_victims                       0.00        1.00         1.00   \n",
       "party_count                           1.00        2.00         2.00   \n",
       "pcf_violation                      1801.00    21801.00     22107.00   \n",
       "chp_road_type                         0.00        0.00         0.00   \n",
       "not_private_property                  1.00        1.00         1.00   \n",
       "chp_vehicle_type_at_fault             1.00        1.00         1.00   \n",
       "severe_injury_count                   0.00        0.00         0.00   \n",
       "other_visible_injury_count            0.00        0.00         0.00   \n",
       "complaint_of_pain_injury_count        0.00        0.00         1.00   \n",
       "pedestrian_killed_count               0.00        0.00         0.00   \n",
       "pedestrian_injured_count              0.00        0.00         0.00   \n",
       "bicyclist_killed_count                0.00        0.00         0.00   \n",
       "bicyclist_injured_count               0.00        0.00         0.00   \n",
       "motorcyclist_killed_count             0.00        0.00         0.00   \n",
       "motorcyclist_injured_count            0.00        0.00         0.00   \n",
       "latitude                             32.51       33.95        34.45   \n",
       "longitude                          -124.41     -121.34      -118.72   \n",
       "id.1                            3662489.00  5067973.00   5293653.00   \n",
       "case_id.2                       8845643.00  9079655.00   9136897.00   \n",
       "party_number.1                        1.00        1.00         2.00   \n",
       "victim_age                            0.00       21.00        32.00   \n",
       "\n",
       "                                        75%          max  \n",
       "id                              10767609.00  10890892.00  \n",
       "case_id                         91221098.00  91329841.00  \n",
       "party_number                           2.00        11.00  \n",
       "at_fault                               1.00         1.00  \n",
       "party_age                             51.00       122.00  \n",
       "party_number_killed                    0.00         4.00  \n",
       "party_number_injured                   1.00        18.00  \n",
       "vehicle_year                        2016.00      2918.00  \n",
       "chp_vehicle_type_towing                7.00        98.00  \n",
       "case_id.1                       91221098.00  91329841.00  \n",
       "jurisdiction                        9435.00      9870.00  \n",
       "chp_shift                              5.00         5.00  \n",
       "population                             7.00         9.00  \n",
       "county_city_location                3702.00      5802.00  \n",
       "special_condition                      0.00         1.00  \n",
       "beat_type                              1.00         4.00  \n",
       "distance                             400.00    200112.00  \n",
       "intersection                           1.00         1.00  \n",
       "state_highway_indicator                1.00         1.00  \n",
       "tow_away                               1.00         1.00  \n",
       "collision_severity                     3.00         5.00  \n",
       "killed_victims                         0.00         4.00  \n",
       "injured_victims                        2.00        18.00  \n",
       "party_count                            3.00        11.00  \n",
       "pcf_violation                      22350.00     82350.00  \n",
       "chp_road_type                          0.00         0.00  \n",
       "not_private_property                   1.00         1.00  \n",
       "chp_vehicle_type_at_fault              7.00        98.00  \n",
       "severe_injury_count                    0.00         6.00  \n",
       "other_visible_injury_count             1.00        10.00  \n",
       "complaint_of_pain_injury_count         2.00        18.00  \n",
       "pedestrian_killed_count                0.00         4.00  \n",
       "pedestrian_injured_count               0.00         5.00  \n",
       "bicyclist_killed_count                 0.00         1.00  \n",
       "bicyclist_injured_count                0.00         4.00  \n",
       "motorcyclist_killed_count              0.00         2.00  \n",
       "motorcyclist_injured_count             0.00         5.00  \n",
       "latitude                              37.69        42.00  \n",
       "longitude                           -117.88      -114.29  \n",
       "id.1                             5338602.00   5380582.00  \n",
       "case_id.2                       91221098.00  91329841.00  \n",
       "party_number.1                         2.00        10.00  \n",
       "victim_age                            50.00       123.00  "
      ]
     },
     "execution_count": 17,
     "metadata": {},
     "output_type": "execute_result"
    },
    {
     "data": {
      "application/javascript": [
       "\n",
       "            setTimeout(function() {\n",
       "                var nbb_cell_id = 17;\n",
       "                var nbb_unformatted_code = \"Data.describe().T.round(2)\";\n",
       "                var nbb_formatted_code = \"Data.describe().T.round(2)\";\n",
       "                var nbb_cells = Jupyter.notebook.get_cells();\n",
       "                for (var i = 0; i < nbb_cells.length; ++i) {\n",
       "                    if (nbb_cells[i].input_prompt_number == nbb_cell_id) {\n",
       "                        if (nbb_cells[i].get_text() == nbb_unformatted_code) {\n",
       "                             nbb_cells[i].set_text(nbb_formatted_code);\n",
       "                        }\n",
       "                        break;\n",
       "                    }\n",
       "                }\n",
       "            }, 500);\n",
       "            "
      ],
      "text/plain": [
       "<IPython.core.display.Javascript object>"
      ]
     },
     "metadata": {},
     "output_type": "display_data"
    }
   ],
   "source": [
    "Data.describe().T.round(2)"
   ]
  },
  {
   "cell_type": "code",
   "execution_count": 18,
   "metadata": {},
   "outputs": [
    {
     "data": {
      "text/html": [
       "<div>\n",
       "<style scoped>\n",
       "    .dataframe tbody tr th:only-of-type {\n",
       "        vertical-align: middle;\n",
       "    }\n",
       "\n",
       "    .dataframe tbody tr th {\n",
       "        vertical-align: top;\n",
       "    }\n",
       "\n",
       "    .dataframe thead th {\n",
       "        text-align: right;\n",
       "    }\n",
       "</style>\n",
       "<table border=\"1\" class=\"dataframe\">\n",
       "  <thead>\n",
       "    <tr style=\"text-align: right;\">\n",
       "      <th></th>\n",
       "      <th>id</th>\n",
       "      <th>case_id</th>\n",
       "      <th>party_number</th>\n",
       "      <th>party_type</th>\n",
       "      <th>at_fault</th>\n",
       "      <th>party_sex</th>\n",
       "      <th>party_age</th>\n",
       "      <th>party_sobriety</th>\n",
       "      <th>party_drug_physical</th>\n",
       "      <th>direction_of_travel</th>\n",
       "      <th>...</th>\n",
       "      <th>case_id.2</th>\n",
       "      <th>party_number.1</th>\n",
       "      <th>victim_role</th>\n",
       "      <th>victim_sex</th>\n",
       "      <th>victim_age</th>\n",
       "      <th>victim_degree_of_injury</th>\n",
       "      <th>victim_seating_position</th>\n",
       "      <th>victim_safety_equipment_1</th>\n",
       "      <th>victim_safety_equipment_2</th>\n",
       "      <th>victim_ejected</th>\n",
       "    </tr>\n",
       "  </thead>\n",
       "  <tbody>\n",
       "    <tr>\n",
       "      <th>1178</th>\n",
       "      <td>6689710</td>\n",
       "      <td>81198955</td>\n",
       "      <td>1</td>\n",
       "      <td>driver</td>\n",
       "      <td>1</td>\n",
       "      <td>male</td>\n",
       "      <td>0.0</td>\n",
       "      <td>A</td>\n",
       "      <td>NaN</td>\n",
       "      <td>E</td>\n",
       "      <td>...</td>\n",
       "      <td>81198955</td>\n",
       "      <td>1</td>\n",
       "      <td>2</td>\n",
       "      <td>female</td>\n",
       "      <td>22.0</td>\n",
       "      <td>7</td>\n",
       "      <td>3</td>\n",
       "      <td>M</td>\n",
       "      <td>G</td>\n",
       "      <td>0</td>\n",
       "    </tr>\n",
       "    <tr>\n",
       "      <th>1179</th>\n",
       "      <td>6689710</td>\n",
       "      <td>81198955</td>\n",
       "      <td>1</td>\n",
       "      <td>driver</td>\n",
       "      <td>1</td>\n",
       "      <td>male</td>\n",
       "      <td>0.0</td>\n",
       "      <td>A</td>\n",
       "      <td>NaN</td>\n",
       "      <td>E</td>\n",
       "      <td>...</td>\n",
       "      <td>81198955</td>\n",
       "      <td>1</td>\n",
       "      <td>2</td>\n",
       "      <td>female</td>\n",
       "      <td>21.0</td>\n",
       "      <td>7</td>\n",
       "      <td>6</td>\n",
       "      <td>M</td>\n",
       "      <td>G</td>\n",
       "      <td>0</td>\n",
       "    </tr>\n",
       "    <tr>\n",
       "      <th>5518</th>\n",
       "      <td>6714388</td>\n",
       "      <td>81292010</td>\n",
       "      <td>2</td>\n",
       "      <td>bicyclist</td>\n",
       "      <td>0</td>\n",
       "      <td>male</td>\n",
       "      <td>0.0</td>\n",
       "      <td>G</td>\n",
       "      <td>G</td>\n",
       "      <td>S</td>\n",
       "      <td>...</td>\n",
       "      <td>81292010</td>\n",
       "      <td>2</td>\n",
       "      <td>4</td>\n",
       "      <td>male</td>\n",
       "      <td>0.0</td>\n",
       "      <td>severe injury</td>\n",
       "      <td>9</td>\n",
       "      <td>NaN</td>\n",
       "      <td>V</td>\n",
       "      <td>1</td>\n",
       "    </tr>\n",
       "    <tr>\n",
       "      <th>5848</th>\n",
       "      <td>6715914</td>\n",
       "      <td>81297309</td>\n",
       "      <td>2</td>\n",
       "      <td>driver</td>\n",
       "      <td>0</td>\n",
       "      <td>male</td>\n",
       "      <td>0.0</td>\n",
       "      <td>A</td>\n",
       "      <td>NaN</td>\n",
       "      <td>W</td>\n",
       "      <td>...</td>\n",
       "      <td>81297309</td>\n",
       "      <td>3</td>\n",
       "      <td>2</td>\n",
       "      <td>male</td>\n",
       "      <td>17.0</td>\n",
       "      <td>7</td>\n",
       "      <td>2</td>\n",
       "      <td>L</td>\n",
       "      <td>G</td>\n",
       "      <td>0</td>\n",
       "    </tr>\n",
       "    <tr>\n",
       "      <th>5849</th>\n",
       "      <td>6715914</td>\n",
       "      <td>81297309</td>\n",
       "      <td>2</td>\n",
       "      <td>driver</td>\n",
       "      <td>0</td>\n",
       "      <td>male</td>\n",
       "      <td>0.0</td>\n",
       "      <td>A</td>\n",
       "      <td>NaN</td>\n",
       "      <td>W</td>\n",
       "      <td>...</td>\n",
       "      <td>81297309</td>\n",
       "      <td>3</td>\n",
       "      <td>2</td>\n",
       "      <td>male</td>\n",
       "      <td>16.0</td>\n",
       "      <td>7</td>\n",
       "      <td>3</td>\n",
       "      <td>M</td>\n",
       "      <td>G</td>\n",
       "      <td>0</td>\n",
       "    </tr>\n",
       "    <tr>\n",
       "      <th>...</th>\n",
       "      <td>...</td>\n",
       "      <td>...</td>\n",
       "      <td>...</td>\n",
       "      <td>...</td>\n",
       "      <td>...</td>\n",
       "      <td>...</td>\n",
       "      <td>...</td>\n",
       "      <td>...</td>\n",
       "      <td>...</td>\n",
       "      <td>...</td>\n",
       "      <td>...</td>\n",
       "      <td>...</td>\n",
       "      <td>...</td>\n",
       "      <td>...</td>\n",
       "      <td>...</td>\n",
       "      <td>...</td>\n",
       "      <td>...</td>\n",
       "      <td>...</td>\n",
       "      <td>...</td>\n",
       "      <td>...</td>\n",
       "      <td>...</td>\n",
       "    </tr>\n",
       "    <tr>\n",
       "      <th>343356</th>\n",
       "      <td>10881546</td>\n",
       "      <td>9151002</td>\n",
       "      <td>1</td>\n",
       "      <td>driver</td>\n",
       "      <td>1</td>\n",
       "      <td>female</td>\n",
       "      <td>0.0</td>\n",
       "      <td>A</td>\n",
       "      <td>NaN</td>\n",
       "      <td>S</td>\n",
       "      <td>...</td>\n",
       "      <td>9151002</td>\n",
       "      <td>1</td>\n",
       "      <td>2</td>\n",
       "      <td>female</td>\n",
       "      <td>20.0</td>\n",
       "      <td>complaint of pain</td>\n",
       "      <td>3</td>\n",
       "      <td>L</td>\n",
       "      <td>G</td>\n",
       "      <td>0</td>\n",
       "    </tr>\n",
       "    <tr>\n",
       "      <th>343357</th>\n",
       "      <td>10881546</td>\n",
       "      <td>9151002</td>\n",
       "      <td>1</td>\n",
       "      <td>driver</td>\n",
       "      <td>1</td>\n",
       "      <td>female</td>\n",
       "      <td>0.0</td>\n",
       "      <td>A</td>\n",
       "      <td>NaN</td>\n",
       "      <td>S</td>\n",
       "      <td>...</td>\n",
       "      <td>9151002</td>\n",
       "      <td>1</td>\n",
       "      <td>2</td>\n",
       "      <td>male</td>\n",
       "      <td>20.0</td>\n",
       "      <td>complaint of pain</td>\n",
       "      <td>6</td>\n",
       "      <td>L</td>\n",
       "      <td>G</td>\n",
       "      <td>0</td>\n",
       "    </tr>\n",
       "    <tr>\n",
       "      <th>343358</th>\n",
       "      <td>10881546</td>\n",
       "      <td>9151002</td>\n",
       "      <td>1</td>\n",
       "      <td>driver</td>\n",
       "      <td>1</td>\n",
       "      <td>female</td>\n",
       "      <td>0.0</td>\n",
       "      <td>A</td>\n",
       "      <td>NaN</td>\n",
       "      <td>S</td>\n",
       "      <td>...</td>\n",
       "      <td>9151002</td>\n",
       "      <td>2</td>\n",
       "      <td>1</td>\n",
       "      <td>female</td>\n",
       "      <td>20.0</td>\n",
       "      <td>complaint of pain</td>\n",
       "      <td>1</td>\n",
       "      <td>L</td>\n",
       "      <td>G</td>\n",
       "      <td>0</td>\n",
       "    </tr>\n",
       "    <tr>\n",
       "      <th>344903</th>\n",
       "      <td>10883017</td>\n",
       "      <td>9153072</td>\n",
       "      <td>1</td>\n",
       "      <td>driver</td>\n",
       "      <td>1</td>\n",
       "      <td>female</td>\n",
       "      <td>0.0</td>\n",
       "      <td>A</td>\n",
       "      <td>NaN</td>\n",
       "      <td>W</td>\n",
       "      <td>...</td>\n",
       "      <td>9153072</td>\n",
       "      <td>1</td>\n",
       "      <td>2</td>\n",
       "      <td>NaN</td>\n",
       "      <td>25.0</td>\n",
       "      <td>no injury</td>\n",
       "      <td>NaN</td>\n",
       "      <td>NaN</td>\n",
       "      <td>NaN</td>\n",
       "      <td>NaN</td>\n",
       "    </tr>\n",
       "    <tr>\n",
       "      <th>348383</th>\n",
       "      <td>10886971</td>\n",
       "      <td>9161517</td>\n",
       "      <td>1</td>\n",
       "      <td>driver</td>\n",
       "      <td>1</td>\n",
       "      <td>male</td>\n",
       "      <td>0.0</td>\n",
       "      <td>A</td>\n",
       "      <td>NaN</td>\n",
       "      <td>S</td>\n",
       "      <td>...</td>\n",
       "      <td>9161517</td>\n",
       "      <td>1</td>\n",
       "      <td>2</td>\n",
       "      <td>male</td>\n",
       "      <td>30.0</td>\n",
       "      <td>no injury</td>\n",
       "      <td>1</td>\n",
       "      <td>M</td>\n",
       "      <td>G</td>\n",
       "      <td>0</td>\n",
       "    </tr>\n",
       "  </tbody>\n",
       "</table>\n",
       "<p>116 rows × 86 columns</p>\n",
       "</div>"
      ],
      "text/plain": [
       "              id   case_id  party_number party_type  at_fault party_sex  \\\n",
       "1178     6689710  81198955             1     driver         1      male   \n",
       "1179     6689710  81198955             1     driver         1      male   \n",
       "5518     6714388  81292010             2  bicyclist         0      male   \n",
       "5848     6715914  81297309             2     driver         0      male   \n",
       "5849     6715914  81297309             2     driver         0      male   \n",
       "...          ...       ...           ...        ...       ...       ...   \n",
       "343356  10881546   9151002             1     driver         1    female   \n",
       "343357  10881546   9151002             1     driver         1    female   \n",
       "343358  10881546   9151002             1     driver         1    female   \n",
       "344903  10883017   9153072             1     driver         1    female   \n",
       "348383  10886971   9161517             1     driver         1      male   \n",
       "\n",
       "        party_age party_sobriety party_drug_physical direction_of_travel  ...  \\\n",
       "1178          0.0              A                 NaN                   E  ...   \n",
       "1179          0.0              A                 NaN                   E  ...   \n",
       "5518          0.0              G                   G                   S  ...   \n",
       "5848          0.0              A                 NaN                   W  ...   \n",
       "5849          0.0              A                 NaN                   W  ...   \n",
       "...           ...            ...                 ...                 ...  ...   \n",
       "343356        0.0              A                 NaN                   S  ...   \n",
       "343357        0.0              A                 NaN                   S  ...   \n",
       "343358        0.0              A                 NaN                   S  ...   \n",
       "344903        0.0              A                 NaN                   W  ...   \n",
       "348383        0.0              A                 NaN                   S  ...   \n",
       "\n",
       "       case_id.2 party_number.1 victim_role victim_sex victim_age  \\\n",
       "1178    81198955              1           2     female       22.0   \n",
       "1179    81198955              1           2     female       21.0   \n",
       "5518    81292010              2           4       male        0.0   \n",
       "5848    81297309              3           2       male       17.0   \n",
       "5849    81297309              3           2       male       16.0   \n",
       "...          ...            ...         ...        ...        ...   \n",
       "343356   9151002              1           2     female       20.0   \n",
       "343357   9151002              1           2       male       20.0   \n",
       "343358   9151002              2           1     female       20.0   \n",
       "344903   9153072              1           2        NaN       25.0   \n",
       "348383   9161517              1           2       male       30.0   \n",
       "\n",
       "        victim_degree_of_injury  victim_seating_position  \\\n",
       "1178                          7                        3   \n",
       "1179                          7                        6   \n",
       "5518              severe injury                        9   \n",
       "5848                          7                        2   \n",
       "5849                          7                        3   \n",
       "...                         ...                      ...   \n",
       "343356        complaint of pain                        3   \n",
       "343357        complaint of pain                        6   \n",
       "343358        complaint of pain                        1   \n",
       "344903                no injury                      NaN   \n",
       "348383                no injury                        1   \n",
       "\n",
       "       victim_safety_equipment_1  victim_safety_equipment_2 victim_ejected  \n",
       "1178                           M                          G              0  \n",
       "1179                           M                          G              0  \n",
       "5518                         NaN                          V              1  \n",
       "5848                           L                          G              0  \n",
       "5849                           M                          G              0  \n",
       "...                          ...                        ...            ...  \n",
       "343356                         L                          G              0  \n",
       "343357                         L                          G              0  \n",
       "343358                         L                          G              0  \n",
       "344903                       NaN                        NaN            NaN  \n",
       "348383                         M                          G              0  \n",
       "\n",
       "[116 rows x 86 columns]"
      ]
     },
     "execution_count": 18,
     "metadata": {},
     "output_type": "execute_result"
    },
    {
     "data": {
      "application/javascript": [
       "\n",
       "            setTimeout(function() {\n",
       "                var nbb_cell_id = 18;\n",
       "                var nbb_unformatted_code = \"Data[Data[\\\"party_age\\\"] == 0]\";\n",
       "                var nbb_formatted_code = \"Data[Data[\\\"party_age\\\"] == 0]\";\n",
       "                var nbb_cells = Jupyter.notebook.get_cells();\n",
       "                for (var i = 0; i < nbb_cells.length; ++i) {\n",
       "                    if (nbb_cells[i].input_prompt_number == nbb_cell_id) {\n",
       "                        if (nbb_cells[i].get_text() == nbb_unformatted_code) {\n",
       "                             nbb_cells[i].set_text(nbb_formatted_code);\n",
       "                        }\n",
       "                        break;\n",
       "                    }\n",
       "                }\n",
       "            }, 500);\n",
       "            "
      ],
      "text/plain": [
       "<IPython.core.display.Javascript object>"
      ]
     },
     "metadata": {},
     "output_type": "display_data"
    }
   ],
   "source": [
    "Data[Data[\"party_age\"] == 0]"
   ]
  },
  {
   "cell_type": "code",
   "execution_count": 19,
   "metadata": {},
   "outputs": [
    {
     "name": "stderr",
     "output_type": "stream",
     "text": [
      "C:\\Users\\lgssh\\anaconda3\\lib\\site-packages\\pandas\\core\\frame.py:3990: SettingWithCopyWarning: \n",
      "A value is trying to be set on a copy of a slice from a DataFrame\n",
      "\n",
      "See the caveats in the documentation: https://pandas.pydata.org/pandas-docs/stable/user_guide/indexing.html#returning-a-view-versus-a-copy\n",
      "  return super().drop(\n"
     ]
    },
    {
     "data": {
      "application/javascript": [
       "\n",
       "            setTimeout(function() {\n",
       "                var nbb_cell_id = 19;\n",
       "                var nbb_unformatted_code = \"Data.drop(Data[Data['party_age']==0].index, inplace=True)\";\n",
       "                var nbb_formatted_code = \"Data.drop(Data[Data[\\\"party_age\\\"] == 0].index, inplace=True)\";\n",
       "                var nbb_cells = Jupyter.notebook.get_cells();\n",
       "                for (var i = 0; i < nbb_cells.length; ++i) {\n",
       "                    if (nbb_cells[i].input_prompt_number == nbb_cell_id) {\n",
       "                        if (nbb_cells[i].get_text() == nbb_unformatted_code) {\n",
       "                             nbb_cells[i].set_text(nbb_formatted_code);\n",
       "                        }\n",
       "                        break;\n",
       "                    }\n",
       "                }\n",
       "            }, 500);\n",
       "            "
      ],
      "text/plain": [
       "<IPython.core.display.Javascript object>"
      ]
     },
     "metadata": {},
     "output_type": "display_data"
    }
   ],
   "source": [
    "Data.drop(Data[Data['party_age']==0].index, inplace=True)\n"
   ]
  },
  {
   "cell_type": "code",
   "execution_count": 20,
   "metadata": {},
   "outputs": [
    {
     "data": {
      "text/plain": [
       "NA    306569\n",
       "G      21596\n",
       "H      18630\n",
       "E       2655\n",
       "I       1969\n",
       "F        554\n",
       "Name: party_drug_physical, dtype: int64"
      ]
     },
     "execution_count": 20,
     "metadata": {},
     "output_type": "execute_result"
    },
    {
     "data": {
      "application/javascript": [
       "\n",
       "            setTimeout(function() {\n",
       "                var nbb_cell_id = 20;\n",
       "                var nbb_unformatted_code = \"Data[\\\"party_drug_physical\\\"].fillna(\\\"NA\\\").value_counts()\";\n",
       "                var nbb_formatted_code = \"Data[\\\"party_drug_physical\\\"].fillna(\\\"NA\\\").value_counts()\";\n",
       "                var nbb_cells = Jupyter.notebook.get_cells();\n",
       "                for (var i = 0; i < nbb_cells.length; ++i) {\n",
       "                    if (nbb_cells[i].input_prompt_number == nbb_cell_id) {\n",
       "                        if (nbb_cells[i].get_text() == nbb_unformatted_code) {\n",
       "                             nbb_cells[i].set_text(nbb_formatted_code);\n",
       "                        }\n",
       "                        break;\n",
       "                    }\n",
       "                }\n",
       "            }, 500);\n",
       "            "
      ],
      "text/plain": [
       "<IPython.core.display.Javascript object>"
      ]
     },
     "metadata": {},
     "output_type": "display_data"
    }
   ],
   "source": [
    "Data[\"party_drug_physical\"].fillna(\"NA\").value_counts()"
   ]
  },
  {
   "cell_type": "code",
   "execution_count": 21,
   "metadata": {},
   "outputs": [
    {
     "data": {
      "text/html": [
       "<div>\n",
       "<style scoped>\n",
       "    .dataframe tbody tr th:only-of-type {\n",
       "        vertical-align: middle;\n",
       "    }\n",
       "\n",
       "    .dataframe tbody tr th {\n",
       "        vertical-align: top;\n",
       "    }\n",
       "\n",
       "    .dataframe thead th {\n",
       "        text-align: right;\n",
       "    }\n",
       "</style>\n",
       "<table border=\"1\" class=\"dataframe\">\n",
       "  <thead>\n",
       "    <tr style=\"text-align: right;\">\n",
       "      <th></th>\n",
       "      <th>id</th>\n",
       "      <th>case_id</th>\n",
       "      <th>party_number</th>\n",
       "      <th>party_type</th>\n",
       "      <th>at_fault</th>\n",
       "      <th>party_sex</th>\n",
       "      <th>party_age</th>\n",
       "      <th>party_sobriety</th>\n",
       "      <th>party_drug_physical</th>\n",
       "      <th>direction_of_travel</th>\n",
       "      <th>...</th>\n",
       "      <th>case_id.2</th>\n",
       "      <th>party_number.1</th>\n",
       "      <th>victim_role</th>\n",
       "      <th>victim_sex</th>\n",
       "      <th>victim_age</th>\n",
       "      <th>victim_degree_of_injury</th>\n",
       "      <th>victim_seating_position</th>\n",
       "      <th>victim_safety_equipment_1</th>\n",
       "      <th>victim_safety_equipment_2</th>\n",
       "      <th>victim_ejected</th>\n",
       "    </tr>\n",
       "  </thead>\n",
       "  <tbody>\n",
       "    <tr>\n",
       "      <th>0</th>\n",
       "      <td>6679822</td>\n",
       "      <td>81158292</td>\n",
       "      <td>1</td>\n",
       "      <td>driver</td>\n",
       "      <td>1</td>\n",
       "      <td>female</td>\n",
       "      <td>48.0</td>\n",
       "      <td>B</td>\n",
       "      <td>NaN</td>\n",
       "      <td>S</td>\n",
       "      <td>...</td>\n",
       "      <td>81158292</td>\n",
       "      <td>1</td>\n",
       "      <td>1</td>\n",
       "      <td>female</td>\n",
       "      <td>48.0</td>\n",
       "      <td>7</td>\n",
       "      <td>1</td>\n",
       "      <td>L</td>\n",
       "      <td>G</td>\n",
       "      <td>0</td>\n",
       "    </tr>\n",
       "    <tr>\n",
       "      <th>3</th>\n",
       "      <td>6679826</td>\n",
       "      <td>81158297</td>\n",
       "      <td>2</td>\n",
       "      <td>driver</td>\n",
       "      <td>0</td>\n",
       "      <td>female</td>\n",
       "      <td>43.0</td>\n",
       "      <td>A</td>\n",
       "      <td>NaN</td>\n",
       "      <td>N</td>\n",
       "      <td>...</td>\n",
       "      <td>81158297</td>\n",
       "      <td>2</td>\n",
       "      <td>1</td>\n",
       "      <td>female</td>\n",
       "      <td>43.0</td>\n",
       "      <td>7</td>\n",
       "      <td>1</td>\n",
       "      <td>M</td>\n",
       "      <td>G</td>\n",
       "      <td>0</td>\n",
       "    </tr>\n",
       "    <tr>\n",
       "      <th>4</th>\n",
       "      <td>6679826</td>\n",
       "      <td>81158297</td>\n",
       "      <td>2</td>\n",
       "      <td>driver</td>\n",
       "      <td>0</td>\n",
       "      <td>female</td>\n",
       "      <td>43.0</td>\n",
       "      <td>A</td>\n",
       "      <td>NaN</td>\n",
       "      <td>N</td>\n",
       "      <td>...</td>\n",
       "      <td>81158297</td>\n",
       "      <td>2</td>\n",
       "      <td>2</td>\n",
       "      <td>female</td>\n",
       "      <td>14.0</td>\n",
       "      <td>7</td>\n",
       "      <td>3</td>\n",
       "      <td>M</td>\n",
       "      <td>G</td>\n",
       "      <td>0</td>\n",
       "    </tr>\n",
       "    <tr>\n",
       "      <th>5</th>\n",
       "      <td>6680036</td>\n",
       "      <td>81159169</td>\n",
       "      <td>1</td>\n",
       "      <td>driver</td>\n",
       "      <td>0</td>\n",
       "      <td>male</td>\n",
       "      <td>64.0</td>\n",
       "      <td>A</td>\n",
       "      <td>NaN</td>\n",
       "      <td>S</td>\n",
       "      <td>...</td>\n",
       "      <td>81159169</td>\n",
       "      <td>2</td>\n",
       "      <td>1</td>\n",
       "      <td>female</td>\n",
       "      <td>38.0</td>\n",
       "      <td>7</td>\n",
       "      <td>1</td>\n",
       "      <td>L</td>\n",
       "      <td>G</td>\n",
       "      <td>0</td>\n",
       "    </tr>\n",
       "    <tr>\n",
       "      <th>6</th>\n",
       "      <td>6680037</td>\n",
       "      <td>81159169</td>\n",
       "      <td>2</td>\n",
       "      <td>driver</td>\n",
       "      <td>0</td>\n",
       "      <td>female</td>\n",
       "      <td>38.0</td>\n",
       "      <td>A</td>\n",
       "      <td>NaN</td>\n",
       "      <td>N</td>\n",
       "      <td>...</td>\n",
       "      <td>81159169</td>\n",
       "      <td>2</td>\n",
       "      <td>1</td>\n",
       "      <td>female</td>\n",
       "      <td>38.0</td>\n",
       "      <td>7</td>\n",
       "      <td>1</td>\n",
       "      <td>L</td>\n",
       "      <td>G</td>\n",
       "      <td>0</td>\n",
       "    </tr>\n",
       "  </tbody>\n",
       "</table>\n",
       "<p>5 rows × 86 columns</p>\n",
       "</div>"
      ],
      "text/plain": [
       "        id   case_id  party_number party_type  at_fault party_sex  party_age  \\\n",
       "0  6679822  81158292             1     driver         1    female       48.0   \n",
       "3  6679826  81158297             2     driver         0    female       43.0   \n",
       "4  6679826  81158297             2     driver         0    female       43.0   \n",
       "5  6680036  81159169             1     driver         0      male       64.0   \n",
       "6  6680037  81159169             2     driver         0    female       38.0   \n",
       "\n",
       "  party_sobriety party_drug_physical direction_of_travel  ... case_id.2  \\\n",
       "0              B                 NaN                   S  ...  81158292   \n",
       "3              A                 NaN                   N  ...  81158297   \n",
       "4              A                 NaN                   N  ...  81158297   \n",
       "5              A                 NaN                   S  ...  81159169   \n",
       "6              A                 NaN                   N  ...  81159169   \n",
       "\n",
       "  party_number.1 victim_role victim_sex victim_age  victim_degree_of_injury  \\\n",
       "0              1           1     female       48.0                        7   \n",
       "3              2           1     female       43.0                        7   \n",
       "4              2           2     female       14.0                        7   \n",
       "5              2           1     female       38.0                        7   \n",
       "6              2           1     female       38.0                        7   \n",
       "\n",
       "   victim_seating_position victim_safety_equipment_1  \\\n",
       "0                        1                         L   \n",
       "3                        1                         M   \n",
       "4                        3                         M   \n",
       "5                        1                         L   \n",
       "6                        1                         L   \n",
       "\n",
       "   victim_safety_equipment_2 victim_ejected  \n",
       "0                          G              0  \n",
       "3                          G              0  \n",
       "4                          G              0  \n",
       "5                          G              0  \n",
       "6                          G              0  \n",
       "\n",
       "[5 rows x 86 columns]"
      ]
     },
     "execution_count": 21,
     "metadata": {},
     "output_type": "execute_result"
    },
    {
     "data": {
      "application/javascript": [
       "\n",
       "            setTimeout(function() {\n",
       "                var nbb_cell_id = 21;\n",
       "                var nbb_unformatted_code = \"Data[Data[\\\"party_drug_physical\\\"].isna()].head()\";\n",
       "                var nbb_formatted_code = \"Data[Data[\\\"party_drug_physical\\\"].isna()].head()\";\n",
       "                var nbb_cells = Jupyter.notebook.get_cells();\n",
       "                for (var i = 0; i < nbb_cells.length; ++i) {\n",
       "                    if (nbb_cells[i].input_prompt_number == nbb_cell_id) {\n",
       "                        if (nbb_cells[i].get_text() == nbb_unformatted_code) {\n",
       "                             nbb_cells[i].set_text(nbb_formatted_code);\n",
       "                        }\n",
       "                        break;\n",
       "                    }\n",
       "                }\n",
       "            }, 500);\n",
       "            "
      ],
      "text/plain": [
       "<IPython.core.display.Javascript object>"
      ]
     },
     "metadata": {},
     "output_type": "display_data"
    }
   ],
   "source": [
    "Data[Data[\"party_drug_physical\"].isna()].head()"
   ]
  },
  {
   "cell_type": "code",
   "execution_count": 22,
   "metadata": {},
   "outputs": [
    {
     "data": {
      "text/html": [
       "<div>\n",
       "<style scoped>\n",
       "    .dataframe tbody tr th:only-of-type {\n",
       "        vertical-align: middle;\n",
       "    }\n",
       "\n",
       "    .dataframe tbody tr th {\n",
       "        vertical-align: top;\n",
       "    }\n",
       "\n",
       "    .dataframe thead th {\n",
       "        text-align: right;\n",
       "    }\n",
       "</style>\n",
       "<table border=\"1\" class=\"dataframe\">\n",
       "  <thead>\n",
       "    <tr style=\"text-align: right;\">\n",
       "      <th>party_sobriety</th>\n",
       "      <th>A</th>\n",
       "      <th>B</th>\n",
       "      <th>C</th>\n",
       "      <th>D</th>\n",
       "      <th>G</th>\n",
       "      <th>H</th>\n",
       "    </tr>\n",
       "    <tr>\n",
       "      <th>party_drug_physical</th>\n",
       "      <th></th>\n",
       "      <th></th>\n",
       "      <th></th>\n",
       "      <th></th>\n",
       "      <th></th>\n",
       "      <th></th>\n",
       "    </tr>\n",
       "  </thead>\n",
       "  <tbody>\n",
       "    <tr>\n",
       "      <th>E</th>\n",
       "      <td>89</td>\n",
       "      <td>473</td>\n",
       "      <td>14</td>\n",
       "      <td>4</td>\n",
       "      <td>0</td>\n",
       "      <td>0</td>\n",
       "    </tr>\n",
       "    <tr>\n",
       "      <th>F</th>\n",
       "      <td>179</td>\n",
       "      <td>7</td>\n",
       "      <td>7</td>\n",
       "      <td>2</td>\n",
       "      <td>0</td>\n",
       "      <td>0</td>\n",
       "    </tr>\n",
       "    <tr>\n",
       "      <th>G</th>\n",
       "      <td>0</td>\n",
       "      <td>0</td>\n",
       "      <td>0</td>\n",
       "      <td>0</td>\n",
       "      <td>21596</td>\n",
       "      <td>0</td>\n",
       "    </tr>\n",
       "    <tr>\n",
       "      <th>H</th>\n",
       "      <td>0</td>\n",
       "      <td>0</td>\n",
       "      <td>0</td>\n",
       "      <td>0</td>\n",
       "      <td>0</td>\n",
       "      <td>18630</td>\n",
       "    </tr>\n",
       "    <tr>\n",
       "      <th>I</th>\n",
       "      <td>1144</td>\n",
       "      <td>56</td>\n",
       "      <td>39</td>\n",
       "      <td>2</td>\n",
       "      <td>0</td>\n",
       "      <td>0</td>\n",
       "    </tr>\n",
       "    <tr>\n",
       "      <th>sober</th>\n",
       "      <td>278605</td>\n",
       "      <td>14686</td>\n",
       "      <td>3087</td>\n",
       "      <td>1957</td>\n",
       "      <td>0</td>\n",
       "      <td>0</td>\n",
       "    </tr>\n",
       "  </tbody>\n",
       "</table>\n",
       "</div>"
      ],
      "text/plain": [
       "party_sobriety            A      B     C     D      G      H\n",
       "party_drug_physical                                         \n",
       "E                        89    473    14     4      0      0\n",
       "F                       179      7     7     2      0      0\n",
       "G                         0      0     0     0  21596      0\n",
       "H                         0      0     0     0      0  18630\n",
       "I                      1144     56    39     2      0      0\n",
       "sober                278605  14686  3087  1957      0      0"
      ]
     },
     "execution_count": 22,
     "metadata": {},
     "output_type": "execute_result"
    },
    {
     "data": {
      "application/javascript": [
       "\n",
       "            setTimeout(function() {\n",
       "                var nbb_cell_id = 22;\n",
       "                var nbb_unformatted_code = \"pd.crosstab(\\n    Data[\\\"party_drug_physical\\\"].fillna(\\\"sober\\\"), Data[\\\"party_sobriety\\\"], dropna=False\\n)\";\n",
       "                var nbb_formatted_code = \"pd.crosstab(\\n    Data[\\\"party_drug_physical\\\"].fillna(\\\"sober\\\"), Data[\\\"party_sobriety\\\"], dropna=False\\n)\";\n",
       "                var nbb_cells = Jupyter.notebook.get_cells();\n",
       "                for (var i = 0; i < nbb_cells.length; ++i) {\n",
       "                    if (nbb_cells[i].input_prompt_number == nbb_cell_id) {\n",
       "                        if (nbb_cells[i].get_text() == nbb_unformatted_code) {\n",
       "                             nbb_cells[i].set_text(nbb_formatted_code);\n",
       "                        }\n",
       "                        break;\n",
       "                    }\n",
       "                }\n",
       "            }, 500);\n",
       "            "
      ],
      "text/plain": [
       "<IPython.core.display.Javascript object>"
      ]
     },
     "metadata": {},
     "output_type": "display_data"
    }
   ],
   "source": [
    "pd.crosstab(\n",
    "    Data[\"party_drug_physical\"].fillna(\"sober\"), Data[\"party_sobriety\"], dropna=False\n",
    ")"
   ]
  },
  {
   "cell_type": "code",
   "execution_count": 23,
   "metadata": {},
   "outputs": [
    {
     "data": {
      "text/plain": [
       "0         QUAIL CREEK RD\n",
       "1              HARRIS RD\n",
       "2              HARRIS RD\n",
       "3              HARRIS RD\n",
       "4              HARRIS RD\n",
       "               ...      \n",
       "352086        VENTURA RD\n",
       "352087        VENTURA RD\n",
       "352088       GATESIDE CT\n",
       "352089       GATESIDE CT\n",
       "352090       GATESIDE CT\n",
       "Name: secondary_road, Length: 351973, dtype: object"
      ]
     },
     "execution_count": 23,
     "metadata": {},
     "output_type": "execute_result"
    },
    {
     "data": {
      "application/javascript": [
       "\n",
       "            setTimeout(function() {\n",
       "                var nbb_cell_id = 23;\n",
       "                var nbb_unformatted_code = \"Data[\\\"secondary_road\\\"]\";\n",
       "                var nbb_formatted_code = \"Data[\\\"secondary_road\\\"]\";\n",
       "                var nbb_cells = Jupyter.notebook.get_cells();\n",
       "                for (var i = 0; i < nbb_cells.length; ++i) {\n",
       "                    if (nbb_cells[i].input_prompt_number == nbb_cell_id) {\n",
       "                        if (nbb_cells[i].get_text() == nbb_unformatted_code) {\n",
       "                             nbb_cells[i].set_text(nbb_formatted_code);\n",
       "                        }\n",
       "                        break;\n",
       "                    }\n",
       "                }\n",
       "            }, 500);\n",
       "            "
      ],
      "text/plain": [
       "<IPython.core.display.Javascript object>"
      ]
     },
     "metadata": {},
     "output_type": "display_data"
    }
   ],
   "source": [
    "Data[\"secondary_road\"]"
   ]
  },
  {
   "cell_type": "code",
   "execution_count": 24,
   "metadata": {},
   "outputs": [
    {
     "name": "stderr",
     "output_type": "stream",
     "text": [
      "<ipython-input-24-7ff467cbf3f0>:1: SettingWithCopyWarning: \n",
      "A value is trying to be set on a copy of a slice from a DataFrame.\n",
      "Try using .loc[row_indexer,col_indexer] = value instead\n",
      "\n",
      "See the caveats in the documentation: https://pandas.pydata.org/pandas-docs/stable/user_guide/indexing.html#returning-a-view-versus-a-copy\n",
      "  Data[\"party_drug_physical\"] = Data[\"party_drug_physical\"].fillna(\"sober\")\n"
     ]
    },
    {
     "data": {
      "application/javascript": [
       "\n",
       "            setTimeout(function() {\n",
       "                var nbb_cell_id = 24;\n",
       "                var nbb_unformatted_code = \"Data[\\\"party_drug_physical\\\"] = Data[\\\"party_drug_physical\\\"].fillna(\\\"sober\\\")\";\n",
       "                var nbb_formatted_code = \"Data[\\\"party_drug_physical\\\"] = Data[\\\"party_drug_physical\\\"].fillna(\\\"sober\\\")\";\n",
       "                var nbb_cells = Jupyter.notebook.get_cells();\n",
       "                for (var i = 0; i < nbb_cells.length; ++i) {\n",
       "                    if (nbb_cells[i].input_prompt_number == nbb_cell_id) {\n",
       "                        if (nbb_cells[i].get_text() == nbb_unformatted_code) {\n",
       "                             nbb_cells[i].set_text(nbb_formatted_code);\n",
       "                        }\n",
       "                        break;\n",
       "                    }\n",
       "                }\n",
       "            }, 500);\n",
       "            "
      ],
      "text/plain": [
       "<IPython.core.display.Javascript object>"
      ]
     },
     "metadata": {},
     "output_type": "display_data"
    }
   ],
   "source": [
    "Data[\"party_drug_physical\"] = Data[\"party_drug_physical\"].fillna(\"sober\")"
   ]
  },
  {
   "cell_type": "code",
   "execution_count": 25,
   "metadata": {},
   "outputs": [
    {
     "data": {
      "text/plain": [
       "1942.0    44379\n",
       "1900.0    13036\n",
       "3711.0     6239\n",
       "3300.0     6193\n",
       "1941.0     5598\n",
       "          ...  \n",
       "5401.0        2\n",
       "2117.0        2\n",
       "1205.0        2\n",
       "300.0         2\n",
       "602.0         1\n",
       "Name: jurisdiction, Length: 423, dtype: int64"
      ]
     },
     "execution_count": 25,
     "metadata": {},
     "output_type": "execute_result"
    },
    {
     "data": {
      "application/javascript": [
       "\n",
       "            setTimeout(function() {\n",
       "                var nbb_cell_id = 25;\n",
       "                var nbb_unformatted_code = \"Data[\\\"jurisdiction\\\"].value_counts()\";\n",
       "                var nbb_formatted_code = \"Data[\\\"jurisdiction\\\"].value_counts()\";\n",
       "                var nbb_cells = Jupyter.notebook.get_cells();\n",
       "                for (var i = 0; i < nbb_cells.length; ++i) {\n",
       "                    if (nbb_cells[i].input_prompt_number == nbb_cell_id) {\n",
       "                        if (nbb_cells[i].get_text() == nbb_unformatted_code) {\n",
       "                             nbb_cells[i].set_text(nbb_formatted_code);\n",
       "                        }\n",
       "                        break;\n",
       "                    }\n",
       "                }\n",
       "            }, 500);\n",
       "            "
      ],
      "text/plain": [
       "<IPython.core.display.Javascript object>"
      ]
     },
     "metadata": {},
     "output_type": "display_data"
    }
   ],
   "source": [
    "Data[\"jurisdiction\"].value_counts()"
   ]
  },
  {
   "cell_type": "raw",
   "metadata": {},
   "source": [
    "Victim Role\tVICTIM_ROLE\t\t\n",
    "1 - Driver\n",
    "2 - Passenger (includes non-operator on bicycle or any victim on/in parked vehicle or multiple victims on/in non-motor vehicle)\n",
    "3 - Pedestrian\n",
    "4 - Bicyclist\n",
    "5 - Other (single victim on/in non-motor vehicle; e.g. ridden animal, horse-drawn carriage, train, or building)\n",
    "6 - Non-Injured Party"
   ]
  },
  {
   "cell_type": "code",
   "execution_count": 26,
   "metadata": {},
   "outputs": [
    {
     "data": {
      "text/plain": [
       "array([1, 2, 3, 4, 5, nan, '1', '3', '4', '2', '5', 'l', 'm'],\n",
       "      dtype=object)"
      ]
     },
     "execution_count": 26,
     "metadata": {},
     "output_type": "execute_result"
    },
    {
     "data": {
      "application/javascript": [
       "\n",
       "            setTimeout(function() {\n",
       "                var nbb_cell_id = 26;\n",
       "                var nbb_unformatted_code = \"Data[\\\"victim_role\\\"].unique()\";\n",
       "                var nbb_formatted_code = \"Data[\\\"victim_role\\\"].unique()\";\n",
       "                var nbb_cells = Jupyter.notebook.get_cells();\n",
       "                for (var i = 0; i < nbb_cells.length; ++i) {\n",
       "                    if (nbb_cells[i].input_prompt_number == nbb_cell_id) {\n",
       "                        if (nbb_cells[i].get_text() == nbb_unformatted_code) {\n",
       "                             nbb_cells[i].set_text(nbb_formatted_code);\n",
       "                        }\n",
       "                        break;\n",
       "                    }\n",
       "                }\n",
       "            }, 500);\n",
       "            "
      ],
      "text/plain": [
       "<IPython.core.display.Javascript object>"
      ]
     },
     "metadata": {},
     "output_type": "display_data"
    }
   ],
   "source": [
    "Data[\"victim_role\"].unique()"
   ]
  },
  {
   "cell_type": "code",
   "execution_count": 27,
   "metadata": {},
   "outputs": [
    {
     "name": "stderr",
     "output_type": "stream",
     "text": [
      "<ipython-input-27-a134e2ca5636>:1: SettingWithCopyWarning: \n",
      "A value is trying to be set on a copy of a slice from a DataFrame.\n",
      "Try using .loc[row_indexer,col_indexer] = value instead\n",
      "\n",
      "See the caveats in the documentation: https://pandas.pydata.org/pandas-docs/stable/user_guide/indexing.html#returning-a-view-versus-a-copy\n",
      "  Data[\"victim_role\"] = Data[\"victim_role\"].replace(\n"
     ]
    },
    {
     "data": {
      "application/javascript": [
       "\n",
       "            setTimeout(function() {\n",
       "                var nbb_cell_id = 27;\n",
       "                var nbb_unformatted_code = \"Data[\\\"victim_role\\\"] = Data[\\\"victim_role\\\"].replace(\\n    {1: \\\"1\\\", 2: \\\"2\\\", 3: \\\"3\\\", 4: \\\"4\\\", 5: \\\"5\\\"}\\n)\";\n",
       "                var nbb_formatted_code = \"Data[\\\"victim_role\\\"] = Data[\\\"victim_role\\\"].replace(\\n    {1: \\\"1\\\", 2: \\\"2\\\", 3: \\\"3\\\", 4: \\\"4\\\", 5: \\\"5\\\"}\\n)\";\n",
       "                var nbb_cells = Jupyter.notebook.get_cells();\n",
       "                for (var i = 0; i < nbb_cells.length; ++i) {\n",
       "                    if (nbb_cells[i].input_prompt_number == nbb_cell_id) {\n",
       "                        if (nbb_cells[i].get_text() == nbb_unformatted_code) {\n",
       "                             nbb_cells[i].set_text(nbb_formatted_code);\n",
       "                        }\n",
       "                        break;\n",
       "                    }\n",
       "                }\n",
       "            }, 500);\n",
       "            "
      ],
      "text/plain": [
       "<IPython.core.display.Javascript object>"
      ]
     },
     "metadata": {},
     "output_type": "display_data"
    }
   ],
   "source": [
    "Data[\"victim_role\"] = Data[\"victim_role\"].replace(\n",
    "    {1: \"1\", 2: \"2\", 3: \"3\", 4: \"4\", 5: \"5\"}\n",
    ")"
   ]
  },
  {
   "cell_type": "code",
   "execution_count": 28,
   "metadata": {},
   "outputs": [
    {
     "data": {
      "text/plain": [
       "array(['1', '2', '3', '4', '5', nan, 'l', 'm'], dtype=object)"
      ]
     },
     "execution_count": 28,
     "metadata": {},
     "output_type": "execute_result"
    },
    {
     "data": {
      "application/javascript": [
       "\n",
       "            setTimeout(function() {\n",
       "                var nbb_cell_id = 28;\n",
       "                var nbb_unformatted_code = \"Data[\\\"victim_role\\\"].unique()\";\n",
       "                var nbb_formatted_code = \"Data[\\\"victim_role\\\"].unique()\";\n",
       "                var nbb_cells = Jupyter.notebook.get_cells();\n",
       "                for (var i = 0; i < nbb_cells.length; ++i) {\n",
       "                    if (nbb_cells[i].input_prompt_number == nbb_cell_id) {\n",
       "                        if (nbb_cells[i].get_text() == nbb_unformatted_code) {\n",
       "                             nbb_cells[i].set_text(nbb_formatted_code);\n",
       "                        }\n",
       "                        break;\n",
       "                    }\n",
       "                }\n",
       "            }, 500);\n",
       "            "
      ],
      "text/plain": [
       "<IPython.core.display.Javascript object>"
      ]
     },
     "metadata": {},
     "output_type": "display_data"
    }
   ],
   "source": [
    "Data[\"victim_role\"].unique()"
   ]
  },
  {
   "cell_type": "code",
   "execution_count": 29,
   "metadata": {},
   "outputs": [
    {
     "data": {
      "text/plain": [
       "1    185008\n",
       "2    142129\n",
       "3     14228\n",
       "4      9474\n",
       "5      1102\n",
       "m         3\n",
       "l         1\n",
       "Name: victim_role, dtype: int64"
      ]
     },
     "execution_count": 29,
     "metadata": {},
     "output_type": "execute_result"
    },
    {
     "data": {
      "application/javascript": [
       "\n",
       "            setTimeout(function() {\n",
       "                var nbb_cell_id = 29;\n",
       "                var nbb_unformatted_code = \"Data[\\\"victim_role\\\"].value_counts()\";\n",
       "                var nbb_formatted_code = \"Data[\\\"victim_role\\\"].value_counts()\";\n",
       "                var nbb_cells = Jupyter.notebook.get_cells();\n",
       "                for (var i = 0; i < nbb_cells.length; ++i) {\n",
       "                    if (nbb_cells[i].input_prompt_number == nbb_cell_id) {\n",
       "                        if (nbb_cells[i].get_text() == nbb_unformatted_code) {\n",
       "                             nbb_cells[i].set_text(nbb_formatted_code);\n",
       "                        }\n",
       "                        break;\n",
       "                    }\n",
       "                }\n",
       "            }, 500);\n",
       "            "
      ],
      "text/plain": [
       "<IPython.core.display.Javascript object>"
      ]
     },
     "metadata": {},
     "output_type": "display_data"
    }
   ],
   "source": [
    "Data[\"victim_role\"].value_counts()"
   ]
  },
  {
   "cell_type": "code",
   "execution_count": 30,
   "metadata": {
    "scrolled": true
   },
   "outputs": [
    {
     "data": {
      "text/plain": [
       "<matplotlib.axes._subplots.AxesSubplot at 0x1e06a4d7640>"
      ]
     },
     "execution_count": 30,
     "metadata": {},
     "output_type": "execute_result"
    },
    {
     "data": {
      "image/png": "[encoded data removed]",
      "text/plain": [
       "<Figure size 432x288 with 1 Axes>"
      ]
     },
     "metadata": {
      "needs_background": "light"
     },
     "output_type": "display_data"
    },
    {
     "data": {
      "application/javascript": [
       "\n",
       "            setTimeout(function() {\n",
       "                var nbb_cell_id = 30;\n",
       "                var nbb_unformatted_code = \"sns.boxplot(Data[\\\"victim_role\\\"], Data[\\\"collision_severity\\\"])\";\n",
       "                var nbb_formatted_code = \"sns.boxplot(Data[\\\"victim_role\\\"], Data[\\\"collision_severity\\\"])\";\n",
       "                var nbb_cells = Jupyter.notebook.get_cells();\n",
       "                for (var i = 0; i < nbb_cells.length; ++i) {\n",
       "                    if (nbb_cells[i].input_prompt_number == nbb_cell_id) {\n",
       "                        if (nbb_cells[i].get_text() == nbb_unformatted_code) {\n",
       "                             nbb_cells[i].set_text(nbb_formatted_code);\n",
       "                        }\n",
       "                        break;\n",
       "                    }\n",
       "                }\n",
       "            }, 500);\n",
       "            "
      ],
      "text/plain": [
       "<IPython.core.display.Javascript object>"
      ]
     },
     "metadata": {},
     "output_type": "display_data"
    }
   ],
   "source": [
    "sns.boxplot(Data[\"victim_role\"], Data[\"collision_severity\"])"
   ]
  },
  {
   "cell_type": "code",
   "execution_count": 31,
   "metadata": {},
   "outputs": [
    {
     "data": {
      "application/javascript": [
       "\n",
       "            setTimeout(function() {\n",
       "                var nbb_cell_id = 31;\n",
       "                var nbb_unformatted_code = \"Data = Data[Data[\\\"victim_role\\\"] != \\\"l\\\"]\\nData = Data[Data[\\\"victim_role\\\"] != \\\"m\\\"]\";\n",
       "                var nbb_formatted_code = \"Data = Data[Data[\\\"victim_role\\\"] != \\\"l\\\"]\\nData = Data[Data[\\\"victim_role\\\"] != \\\"m\\\"]\";\n",
       "                var nbb_cells = Jupyter.notebook.get_cells();\n",
       "                for (var i = 0; i < nbb_cells.length; ++i) {\n",
       "                    if (nbb_cells[i].input_prompt_number == nbb_cell_id) {\n",
       "                        if (nbb_cells[i].get_text() == nbb_unformatted_code) {\n",
       "                             nbb_cells[i].set_text(nbb_formatted_code);\n",
       "                        }\n",
       "                        break;\n",
       "                    }\n",
       "                }\n",
       "            }, 500);\n",
       "            "
      ],
      "text/plain": [
       "<IPython.core.display.Javascript object>"
      ]
     },
     "metadata": {},
     "output_type": "display_data"
    }
   ],
   "source": [
    "Data = Data[Data[\"victim_role\"] != \"l\"]\n",
    "Data = Data[Data[\"victim_role\"] != \"m\"]"
   ]
  },
  {
   "cell_type": "code",
   "execution_count": 32,
   "metadata": {},
   "outputs": [
    {
     "data": {
      "text/plain": [
       "<matplotlib.axes._subplots.AxesSubplot at 0x1e06ac2d400>"
      ]
     },
     "execution_count": 32,
     "metadata": {},
     "output_type": "execute_result"
    },
    {
     "data": {
      "image/png": "[encoded data removed]",
      "text/plain": [
       "<Figure size 432x288 with 1 Axes>"
      ]
     },
     "metadata": {
      "needs_background": "light"
     },
     "output_type": "display_data"
    },
    {
     "data": {
      "application/javascript": [
       "\n",
       "            setTimeout(function() {\n",
       "                var nbb_cell_id = 32;\n",
       "                var nbb_unformatted_code = \"sns.boxplot(Data[\\\"victim_role\\\"], Data[\\\"collision_severity\\\"])\";\n",
       "                var nbb_formatted_code = \"sns.boxplot(Data[\\\"victim_role\\\"], Data[\\\"collision_severity\\\"])\";\n",
       "                var nbb_cells = Jupyter.notebook.get_cells();\n",
       "                for (var i = 0; i < nbb_cells.length; ++i) {\n",
       "                    if (nbb_cells[i].input_prompt_number == nbb_cell_id) {\n",
       "                        if (nbb_cells[i].get_text() == nbb_unformatted_code) {\n",
       "                             nbb_cells[i].set_text(nbb_formatted_code);\n",
       "                        }\n",
       "                        break;\n",
       "                    }\n",
       "                }\n",
       "            }, 500);\n",
       "            "
      ],
      "text/plain": [
       "<IPython.core.display.Javascript object>"
      ]
     },
     "metadata": {},
     "output_type": "display_data"
    }
   ],
   "source": [
    "sns.boxplot(Data[\"victim_role\"], Data[\"collision_severity\"])"
   ]
  },
  {
   "cell_type": "raw",
   "metadata": {},
   "source": [
    "Type of Collision\tTYPE_OF_COLLISION\t\t\n",
    "A - Head-On\n",
    "B - Sideswipe\n",
    "C - Rear End\n",
    "D - Broadside\n",
    "E - Hit Object\n",
    "F - Overturned\n",
    "G - Vehicle/Pedestrian\n",
    "H - Other\n",
    "- - Not Stated"
   ]
  },
  {
   "cell_type": "code",
   "execution_count": 33,
   "metadata": {},
   "outputs": [
    {
     "data": {
      "application/javascript": [
       "\n",
       "            setTimeout(function() {\n",
       "                var nbb_cell_id = 33;\n",
       "                var nbb_unformatted_code = \"Data = Data[Data[\\\"type_of_collision\\\"] != \\\"N\\\"]\";\n",
       "                var nbb_formatted_code = \"Data = Data[Data[\\\"type_of_collision\\\"] != \\\"N\\\"]\";\n",
       "                var nbb_cells = Jupyter.notebook.get_cells();\n",
       "                for (var i = 0; i < nbb_cells.length; ++i) {\n",
       "                    if (nbb_cells[i].input_prompt_number == nbb_cell_id) {\n",
       "                        if (nbb_cells[i].get_text() == nbb_unformatted_code) {\n",
       "                             nbb_cells[i].set_text(nbb_formatted_code);\n",
       "                        }\n",
       "                        break;\n",
       "                    }\n",
       "                }\n",
       "            }, 500);\n",
       "            "
      ],
      "text/plain": [
       "<IPython.core.display.Javascript object>"
      ]
     },
     "metadata": {},
     "output_type": "display_data"
    }
   ],
   "source": [
    "Data = Data[Data[\"type_of_collision\"] != \"N\"]"
   ]
  },
  {
   "cell_type": "code",
   "execution_count": 34,
   "metadata": {},
   "outputs": [
    {
     "data": {
      "text/plain": [
       "<matplotlib.axes._subplots.AxesSubplot at 0x1e06a999250>"
      ]
     },
     "execution_count": 34,
     "metadata": {},
     "output_type": "execute_result"
    },
    {
     "data": {
      "image/png": "[encoded data removed]",
      "text/plain": [
       "<Figure size 1152x432 with 1 Axes>"
      ]
     },
     "metadata": {
      "needs_background": "light"
     },
     "output_type": "display_data"
    },
    {
     "data": {
      "application/javascript": [
       "\n",
       "            setTimeout(function() {\n",
       "                var nbb_cell_id = 34;\n",
       "                var nbb_unformatted_code = \"plt.figure(figsize=(16, 6))\\nsns.boxplot(Data[\\\"type_of_collision\\\"], Data[\\\"collision_severity\\\"])\";\n",
       "                var nbb_formatted_code = \"plt.figure(figsize=(16, 6))\\nsns.boxplot(Data[\\\"type_of_collision\\\"], Data[\\\"collision_severity\\\"])\";\n",
       "                var nbb_cells = Jupyter.notebook.get_cells();\n",
       "                for (var i = 0; i < nbb_cells.length; ++i) {\n",
       "                    if (nbb_cells[i].input_prompt_number == nbb_cell_id) {\n",
       "                        if (nbb_cells[i].get_text() == nbb_unformatted_code) {\n",
       "                             nbb_cells[i].set_text(nbb_formatted_code);\n",
       "                        }\n",
       "                        break;\n",
       "                    }\n",
       "                }\n",
       "            }, 500);\n",
       "            "
      ],
      "text/plain": [
       "<IPython.core.display.Javascript object>"
      ]
     },
     "metadata": {},
     "output_type": "display_data"
    }
   ],
   "source": [
    "plt.figure(figsize=(16, 6))\n",
    "sns.boxplot(Data[\"type_of_collision\"], Data[\"collision_severity\"])"
   ]
  },
  {
   "cell_type": "markdown",
   "metadata": {},
   "source": [
    "<!-- Victim Safety Equipment 1\tVICTIM_SAFETY_EQUIP_1\t\t\n",
    "A - None in Vehicle\n",
    "B - Unknown\n",
    "C - Lap Belt Used\n",
    "D - Lap Belt Not Used\n",
    "E - Shoulder Harness Used\n",
    "F - Shoulder Harness Not Used\n",
    "G - Lap/Shoulder Harness Used\n",
    "H - Lap/Shoulder Harness Not Used\n",
    "J - Passive Restraint Used\n",
    "K - Passive Restraint Not Used\n",
    "L - Air Bag Deployed\n",
    "M - Air Bag Not Deployed\n",
    "N - Other\n",
    "P - Not Required\n",
    "Q - Child Restraint in Vehicle Used\n",
    "R - Child Restraint in Vehicle Not Used\n",
    "S - Child Restraint in Vehicle, Use Unknown\n",
    "T - Child Restraint in Vehicle, Improper Use\n",
    "U - No Child Restraint in Vehicle\n",
    "V - Driver, Motorcycle Helmet Not Used\n",
    "W - Driver, Motorcycle Helmet Used\n",
    "X - Passenger, Motorcycle Helmet Not Used\n",
    "Y - Passenger, Motorcycle Helmet Used\n",
    "- or blank - Not Stated -->"
   ]
  },
  {
   "cell_type": "raw",
   "metadata": {},
   "source": [
    "victim_seating_position :\n",
    "1 - Driver\n",
    "2 thru 6 - Passengers\n",
    "7 - Station Wagon Rear\n",
    "8 - Rear Occupant of Truck or Van\n",
    "9 - Position Unknown\n",
    "0 - Other Occupants\n",
    "A thru Z - Bus Occupants\n",
    "- - Not Stated"
   ]
  },
  {
   "cell_type": "code",
   "execution_count": 35,
   "metadata": {},
   "outputs": [
    {
     "data": {
      "text/plain": [
       "<matplotlib.axes._subplots.AxesSubplot at 0x1e00495e9d0>"
      ]
     },
     "execution_count": 35,
     "metadata": {},
     "output_type": "execute_result"
    },
    {
     "data": {
      "image/png": "[encoded data removed]",
      "text/plain": [
       "<Figure size 1152x432 with 1 Axes>"
      ]
     },
     "metadata": {
      "needs_background": "light"
     },
     "output_type": "display_data"
    },
    {
     "data": {
      "application/javascript": [
       "\n",
       "            setTimeout(function() {\n",
       "                var nbb_cell_id = 35;\n",
       "                var nbb_unformatted_code = \"plt.figure(figsize=(16, 6))\\nsns.boxplot(Data[\\\"victim_seating_position\\\"], Data[\\\"collision_severity\\\"])\";\n",
       "                var nbb_formatted_code = \"plt.figure(figsize=(16, 6))\\nsns.boxplot(Data[\\\"victim_seating_position\\\"], Data[\\\"collision_severity\\\"])\";\n",
       "                var nbb_cells = Jupyter.notebook.get_cells();\n",
       "                for (var i = 0; i < nbb_cells.length; ++i) {\n",
       "                    if (nbb_cells[i].input_prompt_number == nbb_cell_id) {\n",
       "                        if (nbb_cells[i].get_text() == nbb_unformatted_code) {\n",
       "                             nbb_cells[i].set_text(nbb_formatted_code);\n",
       "                        }\n",
       "                        break;\n",
       "                    }\n",
       "                }\n",
       "            }, 500);\n",
       "            "
      ],
      "text/plain": [
       "<IPython.core.display.Javascript object>"
      ]
     },
     "metadata": {},
     "output_type": "display_data"
    }
   ],
   "source": [
    "plt.figure(figsize=(16, 6))\n",
    "sns.boxplot(Data[\"victim_seating_position\"], Data[\"collision_severity\"])"
   ]
  },
  {
   "cell_type": "raw",
   "metadata": {},
   "source": [
    "###### Victim Safety Equipment 1\tVICTIM_SAFETY_EQUIP_1\t\t\n",
    " A - None in Vehicle\n",
    " B - Unknown\n",
    " C - Lap Belt Used\n",
    " D - Lap Belt Not Used\n",
    " E - Shoulder Harness Used\n",
    " F - Shoulder Harness Not Used\n",
    " G - Lap/Shoulder Harness Used\n",
    " H - Lap/Shoulder Harness Not Used\n",
    " J - Passive Restraint Used\n",
    " K - Passive Restraint Not Used\n",
    " L - Air Bag Deployed\n",
    " M - Air Bag Not Deployed\n",
    " N - Other\n",
    " P - Not Required\n",
    " Q - Child Restraint in Vehicle Used\n",
    " R - Child Restraint in Vehicle Not Used\n",
    " S - Child Restraint in Vehicle, Use Unknown\n",
    " T - Child Restraint in Vehicle, Improper Use\n",
    " U - No Child Restraint in Vehicle\n",
    " V - Driver, Motorcycle Helmet Not Used\n",
    " W - Driver, Motorcycle Helmet Used\n",
    " X - Passenger, Motorcycle Helmet Not Used\n",
    " Y - Passenger, Motorcycle Helmet Used\n",
    " - or blank - Not Stated"
   ]
  },
  {
   "cell_type": "code",
   "execution_count": 36,
   "metadata": {},
   "outputs": [
    {
     "data": {
      "text/plain": [
       "<matplotlib.axes._subplots.AxesSubplot at 0x1e00dd3a250>"
      ]
     },
     "execution_count": 36,
     "metadata": {},
     "output_type": "execute_result"
    },
    {
     "data": {
      "image/png": "[encoded data removed]",
      "text/plain": [
       "<Figure size 1152x432 with 1 Axes>"
      ]
     },
     "metadata": {
      "needs_background": "light"
     },
     "output_type": "display_data"
    },
    {
     "data": {
      "application/javascript": [
       "\n",
       "            setTimeout(function() {\n",
       "                var nbb_cell_id = 36;\n",
       "                var nbb_unformatted_code = \"plt.figure(figsize=(16, 6))\\nsns.boxplot(Data[\\\"victim_safety_equipment_1\\\"], Data[\\\"collision_severity\\\"])\";\n",
       "                var nbb_formatted_code = \"plt.figure(figsize=(16, 6))\\nsns.boxplot(Data[\\\"victim_safety_equipment_1\\\"], Data[\\\"collision_severity\\\"])\";\n",
       "                var nbb_cells = Jupyter.notebook.get_cells();\n",
       "                for (var i = 0; i < nbb_cells.length; ++i) {\n",
       "                    if (nbb_cells[i].input_prompt_number == nbb_cell_id) {\n",
       "                        if (nbb_cells[i].get_text() == nbb_unformatted_code) {\n",
       "                             nbb_cells[i].set_text(nbb_formatted_code);\n",
       "                        }\n",
       "                        break;\n",
       "                    }\n",
       "                }\n",
       "            }, 500);\n",
       "            "
      ],
      "text/plain": [
       "<IPython.core.display.Javascript object>"
      ]
     },
     "metadata": {},
     "output_type": "display_data"
    }
   ],
   "source": [
    "plt.figure(figsize=(16, 6))\n",
    "sns.boxplot(Data[\"victim_safety_equipment_1\"], Data[\"collision_severity\"])"
   ]
  },
  {
   "cell_type": "code",
   "execution_count": 37,
   "metadata": {},
   "outputs": [
    {
     "data": {
      "text/plain": [
       "M    167573\n",
       "L    119332\n",
       "P     31295\n",
       "G      5625\n",
       "N      1459\n",
       "B      1219\n",
       "V       464\n",
       "W       458\n",
       "Q       366\n",
       "Y       307\n",
       "A       220\n",
       "C       193\n",
       "H       159\n",
       "E       113\n",
       "J        62\n",
       "F        37\n",
       "U        33\n",
       "X        15\n",
       "D        14\n",
       "1        13\n",
       "K        10\n",
       "0         8\n",
       "S         5\n",
       "4         4\n",
       "Z         4\n",
       "R         4\n",
       ",         3\n",
       "T         2\n",
       "3         1\n",
       "Name: victim_safety_equipment_1, dtype: int64"
      ]
     },
     "execution_count": 37,
     "metadata": {},
     "output_type": "execute_result"
    },
    {
     "data": {
      "application/javascript": [
       "\n",
       "            setTimeout(function() {\n",
       "                var nbb_cell_id = 37;\n",
       "                var nbb_unformatted_code = \"Data[\\\"victim_safety_equipment_1\\\"].value_counts()\";\n",
       "                var nbb_formatted_code = \"Data[\\\"victim_safety_equipment_1\\\"].value_counts()\";\n",
       "                var nbb_cells = Jupyter.notebook.get_cells();\n",
       "                for (var i = 0; i < nbb_cells.length; ++i) {\n",
       "                    if (nbb_cells[i].input_prompt_number == nbb_cell_id) {\n",
       "                        if (nbb_cells[i].get_text() == nbb_unformatted_code) {\n",
       "                             nbb_cells[i].set_text(nbb_formatted_code);\n",
       "                        }\n",
       "                        break;\n",
       "                    }\n",
       "                }\n",
       "            }, 500);\n",
       "            "
      ],
      "text/plain": [
       "<IPython.core.display.Javascript object>"
      ]
     },
     "metadata": {},
     "output_type": "display_data"
    }
   ],
   "source": [
    "Data[\"victim_safety_equipment_1\"].value_counts()"
   ]
  },
  {
   "cell_type": "code",
   "execution_count": 38,
   "metadata": {},
   "outputs": [
    {
     "data": {
      "text/plain": [
       "7         NaN\n",
       "8         NaN\n",
       "10        NaN\n",
       "11        NaN\n",
       "12        NaN\n",
       "         ... \n",
       "352017    NaN\n",
       "352072    NaN\n",
       "352073    NaN\n",
       "352078    NaN\n",
       "352081    NaN\n",
       "Name: victim_safety_equipment_1, Length: 22967, dtype: object"
      ]
     },
     "execution_count": 38,
     "metadata": {},
     "output_type": "execute_result"
    },
    {
     "data": {
      "application/javascript": [
       "\n",
       "            setTimeout(function() {\n",
       "                var nbb_cell_id = 38;\n",
       "                var nbb_unformatted_code = \"s = Data[Data[\\\"victim_safety_equipment_1\\\"].isna()]\\ns[\\\"victim_safety_equipment_1\\\"]\";\n",
       "                var nbb_formatted_code = \"s = Data[Data[\\\"victim_safety_equipment_1\\\"].isna()]\\ns[\\\"victim_safety_equipment_1\\\"]\";\n",
       "                var nbb_cells = Jupyter.notebook.get_cells();\n",
       "                for (var i = 0; i < nbb_cells.length; ++i) {\n",
       "                    if (nbb_cells[i].input_prompt_number == nbb_cell_id) {\n",
       "                        if (nbb_cells[i].get_text() == nbb_unformatted_code) {\n",
       "                             nbb_cells[i].set_text(nbb_formatted_code);\n",
       "                        }\n",
       "                        break;\n",
       "                    }\n",
       "                }\n",
       "            }, 500);\n",
       "            "
      ],
      "text/plain": [
       "<IPython.core.display.Javascript object>"
      ]
     },
     "metadata": {},
     "output_type": "display_data"
    }
   ],
   "source": [
    "s = Data[Data[\"victim_safety_equipment_1\"].isna()]\n",
    "s[\"victim_safety_equipment_1\"]"
   ]
  },
  {
   "cell_type": "code",
   "execution_count": 39,
   "metadata": {},
   "outputs": [
    {
     "data": {
      "application/javascript": [
       "\n",
       "            setTimeout(function() {\n",
       "                var nbb_cell_id = 39;\n",
       "                var nbb_unformatted_code = \"D = [\\\",\\\", \\\"T\\\", \\\"3\\\", \\\"0\\\", \\\"1\\\", 0, 1, 3]\\nData = Data[~Data[\\\"victim_safety_equipment_1\\\"].isin(D)]\\nData[\\\"victim_safety_equipment_1\\\"] = Data[\\\"victim_safety_equipment_1\\\"].fillna(\\\"Blank\\\")\";\n",
       "                var nbb_formatted_code = \"D = [\\\",\\\", \\\"T\\\", \\\"3\\\", \\\"0\\\", \\\"1\\\", 0, 1, 3]\\nData = Data[~Data[\\\"victim_safety_equipment_1\\\"].isin(D)]\\nData[\\\"victim_safety_equipment_1\\\"] = Data[\\\"victim_safety_equipment_1\\\"].fillna(\\\"Blank\\\")\";\n",
       "                var nbb_cells = Jupyter.notebook.get_cells();\n",
       "                for (var i = 0; i < nbb_cells.length; ++i) {\n",
       "                    if (nbb_cells[i].input_prompt_number == nbb_cell_id) {\n",
       "                        if (nbb_cells[i].get_text() == nbb_unformatted_code) {\n",
       "                             nbb_cells[i].set_text(nbb_formatted_code);\n",
       "                        }\n",
       "                        break;\n",
       "                    }\n",
       "                }\n",
       "            }, 500);\n",
       "            "
      ],
      "text/plain": [
       "<IPython.core.display.Javascript object>"
      ]
     },
     "metadata": {},
     "output_type": "display_data"
    }
   ],
   "source": [
    "D = [\",\", \"T\", \"3\", \"0\", \"1\", 0, 1, 3]\n",
    "Data = Data[~Data[\"victim_safety_equipment_1\"].isin(D)]\n",
    "Data[\"victim_safety_equipment_1\"] = Data[\"victim_safety_equipment_1\"].fillna(\"Blank\")"
   ]
  },
  {
   "cell_type": "code",
   "execution_count": 40,
   "metadata": {},
   "outputs": [
    {
     "data": {
      "text/plain": [
       "<matplotlib.axes._subplots.AxesSubplot at 0x1e0048d9280>"
      ]
     },
     "execution_count": 40,
     "metadata": {},
     "output_type": "execute_result"
    },
    {
     "data": {
      "image/png": "[encoded data removed]",
      "text/plain": [
       "<Figure size 1152x432 with 1 Axes>"
      ]
     },
     "metadata": {
      "needs_background": "light"
     },
     "output_type": "display_data"
    },
    {
     "data": {
      "application/javascript": [
       "\n",
       "            setTimeout(function() {\n",
       "                var nbb_cell_id = 40;\n",
       "                var nbb_unformatted_code = \"plt.figure(figsize=(16, 6))\\nsns.boxplot(Data[\\\"victim_safety_equipment_1\\\"], Data[\\\"collision_severity\\\"])\";\n",
       "                var nbb_formatted_code = \"plt.figure(figsize=(16, 6))\\nsns.boxplot(Data[\\\"victim_safety_equipment_1\\\"], Data[\\\"collision_severity\\\"])\";\n",
       "                var nbb_cells = Jupyter.notebook.get_cells();\n",
       "                for (var i = 0; i < nbb_cells.length; ++i) {\n",
       "                    if (nbb_cells[i].input_prompt_number == nbb_cell_id) {\n",
       "                        if (nbb_cells[i].get_text() == nbb_unformatted_code) {\n",
       "                             nbb_cells[i].set_text(nbb_formatted_code);\n",
       "                        }\n",
       "                        break;\n",
       "                    }\n",
       "                }\n",
       "            }, 500);\n",
       "            "
      ],
      "text/plain": [
       "<IPython.core.display.Javascript object>"
      ]
     },
     "metadata": {},
     "output_type": "display_data"
    }
   ],
   "source": [
    "plt.figure(figsize=(16, 6))\n",
    "sns.boxplot(Data[\"victim_safety_equipment_1\"], Data[\"collision_severity\"])"
   ]
  },
  {
   "cell_type": "markdown",
   "metadata": {},
   "source": [
    "Primary Rd\tPRIMARY_RD\tThe road the collision occurred on"
   ]
  },
  {
   "cell_type": "code",
   "execution_count": 41,
   "metadata": {},
   "outputs": [
    {
     "data": {
      "text/plain": [
       "array(['NORRIS RD', 'GOSFORD RD', 'FIRST ST', ..., 'LOS ABITOS BL',\n",
       "       'WESTAR DR', 'VENTURA RD FRONTAGE RD'], dtype=object)"
      ]
     },
     "execution_count": 41,
     "metadata": {},
     "output_type": "execute_result"
    },
    {
     "data": {
      "application/javascript": [
       "\n",
       "            setTimeout(function() {\n",
       "                var nbb_cell_id = 41;\n",
       "                var nbb_unformatted_code = \"Data[\\\"primary_road\\\"].unique()\";\n",
       "                var nbb_formatted_code = \"Data[\\\"primary_road\\\"].unique()\";\n",
       "                var nbb_cells = Jupyter.notebook.get_cells();\n",
       "                for (var i = 0; i < nbb_cells.length; ++i) {\n",
       "                    if (nbb_cells[i].input_prompt_number == nbb_cell_id) {\n",
       "                        if (nbb_cells[i].get_text() == nbb_unformatted_code) {\n",
       "                             nbb_cells[i].set_text(nbb_formatted_code);\n",
       "                        }\n",
       "                        break;\n",
       "                    }\n",
       "                }\n",
       "            }, 500);\n",
       "            "
      ],
      "text/plain": [
       "<IPython.core.display.Javascript object>"
      ]
     },
     "metadata": {},
     "output_type": "display_data"
    }
   ],
   "source": [
    "Data[\"primary_road\"].unique()"
   ]
  },
  {
   "cell_type": "code",
   "execution_count": 42,
   "metadata": {},
   "outputs": [
    {
     "data": {
      "application/javascript": [
       "\n",
       "            setTimeout(function() {\n",
       "                var nbb_cell_id = 42;\n",
       "                var nbb_unformatted_code = \"# sns.boxplot(Data[\\\"primary_road\\\"], Data[\\\"collision_severity\\\"])\";\n",
       "                var nbb_formatted_code = \"# sns.boxplot(Data[\\\"primary_road\\\"], Data[\\\"collision_severity\\\"])\";\n",
       "                var nbb_cells = Jupyter.notebook.get_cells();\n",
       "                for (var i = 0; i < nbb_cells.length; ++i) {\n",
       "                    if (nbb_cells[i].input_prompt_number == nbb_cell_id) {\n",
       "                        if (nbb_cells[i].get_text() == nbb_unformatted_code) {\n",
       "                             nbb_cells[i].set_text(nbb_formatted_code);\n",
       "                        }\n",
       "                        break;\n",
       "                    }\n",
       "                }\n",
       "            }, 500);\n",
       "            "
      ],
      "text/plain": [
       "<IPython.core.display.Javascript object>"
      ]
     },
     "metadata": {},
     "output_type": "display_data"
    }
   ],
   "source": [
    "# sns.boxplot(Data[\"primary_road\"], Data[\"collision_severity\"])"
   ]
  },
  {
   "cell_type": "markdown",
   "metadata": {},
   "source": [
    "Secondary Rd\tSECONDARY_RD\tA secondary reference road that DISTANCE and DIRECT are measured from"
   ]
  },
  {
   "cell_type": "code",
   "execution_count": 43,
   "metadata": {},
   "outputs": [
    {
     "data": {
      "application/javascript": [
       "\n",
       "            setTimeout(function() {\n",
       "                var nbb_cell_id = 43;\n",
       "                var nbb_unformatted_code = \"# sns.boxplot(Data[\\\"secondary_road\\\"], Data[\\\"collision_severity\\\"])\";\n",
       "                var nbb_formatted_code = \"# sns.boxplot(Data[\\\"secondary_road\\\"], Data[\\\"collision_severity\\\"])\";\n",
       "                var nbb_cells = Jupyter.notebook.get_cells();\n",
       "                for (var i = 0; i < nbb_cells.length; ++i) {\n",
       "                    if (nbb_cells[i].input_prompt_number == nbb_cell_id) {\n",
       "                        if (nbb_cells[i].get_text() == nbb_unformatted_code) {\n",
       "                             nbb_cells[i].set_text(nbb_formatted_code);\n",
       "                        }\n",
       "                        break;\n",
       "                    }\n",
       "                }\n",
       "            }, 500);\n",
       "            "
      ],
      "text/plain": [
       "<IPython.core.display.Javascript object>"
      ]
     },
     "metadata": {},
     "output_type": "display_data"
    }
   ],
   "source": [
    "# sns.boxplot(Data[\"secondary_road\"], Data[\"collision_severity\"])"
   ]
  },
  {
   "cell_type": "code",
   "execution_count": 44,
   "metadata": {},
   "outputs": [
    {
     "data": {
      "text/html": [
       "<div>\n",
       "<style scoped>\n",
       "    .dataframe tbody tr th:only-of-type {\n",
       "        vertical-align: middle;\n",
       "    }\n",
       "\n",
       "    .dataframe tbody tr th {\n",
       "        vertical-align: top;\n",
       "    }\n",
       "\n",
       "    .dataframe thead th {\n",
       "        text-align: right;\n",
       "    }\n",
       "</style>\n",
       "<table border=\"1\" class=\"dataframe\">\n",
       "  <thead>\n",
       "    <tr style=\"text-align: right;\">\n",
       "      <th></th>\n",
       "      <th>avg_severity</th>\n",
       "      <th>count</th>\n",
       "    </tr>\n",
       "    <tr>\n",
       "      <th>primary_road</th>\n",
       "      <th></th>\n",
       "      <th></th>\n",
       "    </tr>\n",
       "  </thead>\n",
       "  <tbody>\n",
       "    <tr>\n",
       "      <th>INTERSTATE 5 SOUTHBOUND</th>\n",
       "      <td>3.421965</td>\n",
       "      <td>173</td>\n",
       "    </tr>\n",
       "    <tr>\n",
       "      <th>SR-39 (SAN GABRIEL CANYON RD.)</th>\n",
       "      <td>3.398230</td>\n",
       "      <td>113</td>\n",
       "    </tr>\n",
       "    <tr>\n",
       "      <th>US-395</th>\n",
       "      <td>3.382979</td>\n",
       "      <td>141</td>\n",
       "    </tr>\n",
       "    <tr>\n",
       "      <th>SR-4</th>\n",
       "      <td>3.329341</td>\n",
       "      <td>167</td>\n",
       "    </tr>\n",
       "    <tr>\n",
       "      <th>GENEVA AV</th>\n",
       "      <td>3.304348</td>\n",
       "      <td>161</td>\n",
       "    </tr>\n",
       "    <tr>\n",
       "      <th>...</th>\n",
       "      <td>...</td>\n",
       "      <td>...</td>\n",
       "    </tr>\n",
       "    <tr>\n",
       "      <th>INTERNATIONAL BL</th>\n",
       "      <td>1.780769</td>\n",
       "      <td>260</td>\n",
       "    </tr>\n",
       "    <tr>\n",
       "      <th>WALNUT AV</th>\n",
       "      <td>1.731544</td>\n",
       "      <td>149</td>\n",
       "    </tr>\n",
       "    <tr>\n",
       "      <th>WILSON WY</th>\n",
       "      <td>1.710744</td>\n",
       "      <td>121</td>\n",
       "    </tr>\n",
       "    <tr>\n",
       "      <th>MARCH LN</th>\n",
       "      <td>1.699605</td>\n",
       "      <td>253</td>\n",
       "    </tr>\n",
       "    <tr>\n",
       "      <th>SIERRA AV</th>\n",
       "      <td>1.630695</td>\n",
       "      <td>417</td>\n",
       "    </tr>\n",
       "  </tbody>\n",
       "</table>\n",
       "<p>574 rows × 2 columns</p>\n",
       "</div>"
      ],
      "text/plain": [
       "                                avg_severity  count\n",
       "primary_road                                       \n",
       "INTERSTATE 5 SOUTHBOUND             3.421965    173\n",
       "SR-39 (SAN GABRIEL CANYON RD.)      3.398230    113\n",
       "US-395                              3.382979    141\n",
       "SR-4                                3.329341    167\n",
       "GENEVA AV                           3.304348    161\n",
       "...                                      ...    ...\n",
       "INTERNATIONAL BL                    1.780769    260\n",
       "WALNUT AV                           1.731544    149\n",
       "WILSON WY                           1.710744    121\n",
       "MARCH LN                            1.699605    253\n",
       "SIERRA AV                           1.630695    417\n",
       "\n",
       "[574 rows x 2 columns]"
      ]
     },
     "execution_count": 44,
     "metadata": {},
     "output_type": "execute_result"
    },
    {
     "data": {
      "application/javascript": [
       "\n",
       "            setTimeout(function() {\n",
       "                var nbb_cell_id = 44;\n",
       "                var nbb_unformatted_code = \"Prd_df = Data.groupby(\\\"primary_road\\\").agg({\\\"collision_severity\\\": [\\\"mean\\\", \\\"count\\\"]})\\nPrd_df.columns = [\\\"avg_severity\\\", \\\"count\\\"]\\nPrd_df = Prd_df[Prd_df[\\\"count\\\"] > 100]\\nPrd_df.sort_values(\\\"avg_severity\\\", ascending=False)\";\n",
       "                var nbb_formatted_code = \"Prd_df = Data.groupby(\\\"primary_road\\\").agg({\\\"collision_severity\\\": [\\\"mean\\\", \\\"count\\\"]})\\nPrd_df.columns = [\\\"avg_severity\\\", \\\"count\\\"]\\nPrd_df = Prd_df[Prd_df[\\\"count\\\"] > 100]\\nPrd_df.sort_values(\\\"avg_severity\\\", ascending=False)\";\n",
       "                var nbb_cells = Jupyter.notebook.get_cells();\n",
       "                for (var i = 0; i < nbb_cells.length; ++i) {\n",
       "                    if (nbb_cells[i].input_prompt_number == nbb_cell_id) {\n",
       "                        if (nbb_cells[i].get_text() == nbb_unformatted_code) {\n",
       "                             nbb_cells[i].set_text(nbb_formatted_code);\n",
       "                        }\n",
       "                        break;\n",
       "                    }\n",
       "                }\n",
       "            }, 500);\n",
       "            "
      ],
      "text/plain": [
       "<IPython.core.display.Javascript object>"
      ]
     },
     "metadata": {},
     "output_type": "display_data"
    }
   ],
   "source": [
    "Prd_df = Data.groupby(\"primary_road\").agg({\"collision_severity\": [\"mean\", \"count\"]})\n",
    "Prd_df.columns = [\"avg_severity\", \"count\"]\n",
    "Prd_df = Prd_df[Prd_df[\"count\"] > 100]\n",
    "Prd_df.sort_values(\"avg_severity\", ascending=False)"
   ]
  },
  {
   "cell_type": "markdown",
   "metadata": {},
   "source": [
    "Secondary Rd:\tA secondary reference road that DISTANCE and DIRECT are measured from\t"
   ]
  },
  {
   "cell_type": "code",
   "execution_count": 48,
   "metadata": {},
   "outputs": [
    {
     "data": {
      "text/plain": [
       "array(['QUAIL CREEK RD', 'HARRIS RD', 'SIERRA AVE', ..., 'VANGUARD DR',\n",
       "       'EMERSON RD', 'GATESIDE CT'], dtype=object)"
      ]
     },
     "execution_count": 48,
     "metadata": {},
     "output_type": "execute_result"
    },
    {
     "data": {
      "application/javascript": [
       "\n",
       "            setTimeout(function() {\n",
       "                var nbb_cell_id = 48;\n",
       "                var nbb_unformatted_code = \"Data[\\\"secondary_road\\\"].unique()\";\n",
       "                var nbb_formatted_code = \"Data[\\\"secondary_road\\\"].unique()\";\n",
       "                var nbb_cells = Jupyter.notebook.get_cells();\n",
       "                for (var i = 0; i < nbb_cells.length; ++i) {\n",
       "                    if (nbb_cells[i].input_prompt_number == nbb_cell_id) {\n",
       "                        if (nbb_cells[i].get_text() == nbb_unformatted_code) {\n",
       "                             nbb_cells[i].set_text(nbb_formatted_code);\n",
       "                        }\n",
       "                        break;\n",
       "                    }\n",
       "                }\n",
       "            }, 500);\n",
       "            "
      ],
      "text/plain": [
       "<IPython.core.display.Javascript object>"
      ]
     },
     "metadata": {},
     "output_type": "display_data"
    }
   ],
   "source": [
    "Data[\"secondary_road\"].unique()"
   ]
  },
  {
   "cell_type": "code",
   "execution_count": 50,
   "metadata": {},
   "outputs": [
    {
     "data": {
      "text/html": [
       "<div>\n",
       "<style scoped>\n",
       "    .dataframe tbody tr th:only-of-type {\n",
       "        vertical-align: middle;\n",
       "    }\n",
       "\n",
       "    .dataframe tbody tr th {\n",
       "        vertical-align: top;\n",
       "    }\n",
       "\n",
       "    .dataframe thead th {\n",
       "        text-align: right;\n",
       "    }\n",
       "</style>\n",
       "<table border=\"1\" class=\"dataframe\">\n",
       "  <thead>\n",
       "    <tr style=\"text-align: right;\">\n",
       "      <th></th>\n",
       "      <th>avg_severity</th>\n",
       "      <th>count</th>\n",
       "    </tr>\n",
       "    <tr>\n",
       "      <th>secondary_road</th>\n",
       "      <th></th>\n",
       "      <th></th>\n",
       "    </tr>\n",
       "  </thead>\n",
       "  <tbody>\n",
       "    <tr>\n",
       "      <th>FRANCISQUITO AVE</th>\n",
       "      <td>4.379747</td>\n",
       "      <td>158</td>\n",
       "    </tr>\n",
       "    <tr>\n",
       "      <th>LAKEWOOD BOULEVARD</th>\n",
       "      <td>3.227941</td>\n",
       "      <td>136</td>\n",
       "    </tr>\n",
       "    <tr>\n",
       "      <th>ROXFORD ST</th>\n",
       "      <td>2.950820</td>\n",
       "      <td>183</td>\n",
       "    </tr>\n",
       "    <tr>\n",
       "      <th>VAN NESS AV</th>\n",
       "      <td>2.926966</td>\n",
       "      <td>178</td>\n",
       "    </tr>\n",
       "    <tr>\n",
       "      <th>TYLER ST</th>\n",
       "      <td>2.898734</td>\n",
       "      <td>158</td>\n",
       "    </tr>\n",
       "    <tr>\n",
       "      <th>...</th>\n",
       "      <td>...</td>\n",
       "      <td>...</td>\n",
       "    </tr>\n",
       "    <tr>\n",
       "      <th>OLIVE AV</th>\n",
       "      <td>1.829268</td>\n",
       "      <td>123</td>\n",
       "    </tr>\n",
       "    <tr>\n",
       "      <th>BANCROFT AV</th>\n",
       "      <td>1.771930</td>\n",
       "      <td>114</td>\n",
       "    </tr>\n",
       "    <tr>\n",
       "      <th>CITRUS AV</th>\n",
       "      <td>1.767123</td>\n",
       "      <td>146</td>\n",
       "    </tr>\n",
       "    <tr>\n",
       "      <th>10TH ST WEST</th>\n",
       "      <td>1.729508</td>\n",
       "      <td>122</td>\n",
       "    </tr>\n",
       "    <tr>\n",
       "      <th>SIERRA AV</th>\n",
       "      <td>1.526946</td>\n",
       "      <td>167</td>\n",
       "    </tr>\n",
       "  </tbody>\n",
       "</table>\n",
       "<p>367 rows × 2 columns</p>\n",
       "</div>"
      ],
      "text/plain": [
       "                    avg_severity  count\n",
       "secondary_road                         \n",
       "FRANCISQUITO AVE        4.379747    158\n",
       "LAKEWOOD BOULEVARD      3.227941    136\n",
       "ROXFORD ST              2.950820    183\n",
       "VAN NESS AV             2.926966    178\n",
       "TYLER ST                2.898734    158\n",
       "...                          ...    ...\n",
       "OLIVE AV                1.829268    123\n",
       "BANCROFT AV             1.771930    114\n",
       "CITRUS AV               1.767123    146\n",
       "10TH ST WEST            1.729508    122\n",
       "SIERRA AV               1.526946    167\n",
       "\n",
       "[367 rows x 2 columns]"
      ]
     },
     "execution_count": 50,
     "metadata": {},
     "output_type": "execute_result"
    },
    {
     "data": {
      "application/javascript": [
       "\n",
       "            setTimeout(function() {\n",
       "                var nbb_cell_id = 50;\n",
       "                var nbb_unformatted_code = \"Srd_df = Data.groupby(\\\"secondary_road\\\").agg({\\\"collision_severity\\\": [\\\"mean\\\", \\\"count\\\"]})\\nSrd_df.columns = [\\\"avg_severity\\\", \\\"count\\\"]\\nSrd_df = Prd_df[Prd_df[\\\"count\\\"] > 100]\\nSrd_df.sort_values(\\\"avg_severity\\\", ascending=False)\";\n",
       "                var nbb_formatted_code = \"Srd_df = Data.groupby(\\\"secondary_road\\\").agg({\\\"collision_severity\\\": [\\\"mean\\\", \\\"count\\\"]})\\nSrd_df.columns = [\\\"avg_severity\\\", \\\"count\\\"]\\nSrd_df = Prd_df[Prd_df[\\\"count\\\"] > 100]\\nSrd_df.sort_values(\\\"avg_severity\\\", ascending=False)\";\n",
       "                var nbb_cells = Jupyter.notebook.get_cells();\n",
       "                for (var i = 0; i < nbb_cells.length; ++i) {\n",
       "                    if (nbb_cells[i].input_prompt_number == nbb_cell_id) {\n",
       "                        if (nbb_cells[i].get_text() == nbb_unformatted_code) {\n",
       "                             nbb_cells[i].set_text(nbb_formatted_code);\n",
       "                        }\n",
       "                        break;\n",
       "                    }\n",
       "                }\n",
       "            }, 500);\n",
       "            "
      ],
      "text/plain": [
       "<IPython.core.display.Javascript object>"
      ]
     },
     "metadata": {},
     "output_type": "display_data"
    }
   ],
   "source": [
    "Srd_df = Data.groupby(\"secondary_road\").agg({\"collision_severity\": [\"mean\", \"count\"]})\n",
    "Srd_df.columns = [\"avg_severity\", \"count\"]\n",
    "Srd_df = Prd_df[Prd_df[\"count\"] > 100]\n",
    "Srd_df.sort_values(\"avg_severity\", ascending=False)"
   ]
  },
  {
   "cell_type": "code",
   "execution_count": 51,
   "metadata": {},
   "outputs": [
    {
     "data": {
      "application/javascript": [
       "\n",
       "            setTimeout(function() {\n",
       "                var nbb_cell_id = 51;\n",
       "                var nbb_unformatted_code = \"Data = LeaveOneOutEncoder().fit_transform(Data, Data[\\\"collision_severity\\\"])\";\n",
       "                var nbb_formatted_code = \"Data = LeaveOneOutEncoder().fit_transform(Data, Data[\\\"collision_severity\\\"])\";\n",
       "                var nbb_cells = Jupyter.notebook.get_cells();\n",
       "                for (var i = 0; i < nbb_cells.length; ++i) {\n",
       "                    if (nbb_cells[i].input_prompt_number == nbb_cell_id) {\n",
       "                        if (nbb_cells[i].get_text() == nbb_unformatted_code) {\n",
       "                             nbb_cells[i].set_text(nbb_formatted_code);\n",
       "                        }\n",
       "                        break;\n",
       "                    }\n",
       "                }\n",
       "            }, 500);\n",
       "            "
      ],
      "text/plain": [
       "<IPython.core.display.Javascript object>"
      ]
     },
     "metadata": {},
     "output_type": "display_data"
    }
   ],
   "source": [
    "Data = LeaveOneOutEncoder().fit_transform(Data, Data[\"collision_severity\"])"
   ]
  },
  {
   "cell_type": "code",
   "execution_count": 60,
   "metadata": {},
   "outputs": [
    {
     "name": "stdout",
     "output_type": "stream",
     "text": [
      "<class 'pandas.core.frame.DataFrame'>\n",
      "Int64Index: 351938 entries, 0 to 352090\n",
      "Data columns (total 73 columns):\n",
      " #   Column                           Non-Null Count   Dtype  \n",
      "---  ------                           --------------   -----  \n",
      " 0   id                               351938 non-null  int64  \n",
      " 1   party_number                     351938 non-null  int64  \n",
      " 2   party_type                       351826 non-null  float64\n",
      " 3   at_fault                         351938 non-null  int64  \n",
      " 4   party_sex                        351826 non-null  float64\n",
      " 5   party_age                        319434 non-null  float64\n",
      " 6   party_sobriety                   351826 non-null  float64\n",
      " 7   party_drug_physical              351826 non-null  float64\n",
      " 8   direction_of_travel              351826 non-null  float64\n",
      " 9   party_safety_equipment_1         351826 non-null  float64\n",
      " 10  party_safety_equipment_2         351826 non-null  float64\n",
      " 11  financial_responsibility         351826 non-null  float64\n",
      " 12  cellphone_use                    351826 non-null  float64\n",
      " 13  other_associate_factor_1         351826 non-null  float64\n",
      " 14  movement_preceding_collision     351826 non-null  float64\n",
      " 15  vehicle_year                     324907 non-null  float64\n",
      " 16  vehicle_make                     351826 non-null  float64\n",
      " 17  statewide_vehicle_type           351826 non-null  float64\n",
      " 18  chp_vehicle_type_towing          327495 non-null  float64\n",
      " 19  party_race                       351826 non-null  float64\n",
      " 20  chp_shift                        351938 non-null  int64  \n",
      " 21  population                       351938 non-null  int64  \n",
      " 22  county_city_location             351938 non-null  int64  \n",
      " 23  special_condition                351938 non-null  int64  \n",
      " 24  beat_type                        351938 non-null  int64  \n",
      " 25  chp_beat_type                    351826 non-null  float64\n",
      " 26  chp_beat_class                   351826 non-null  float64\n",
      " 27  primary_road                     351833 non-null  float64\n",
      " 28  secondary_road                   351845 non-null  float64\n",
      " 29  distance                         351938 non-null  float64\n",
      " 30  direction                        351826 non-null  float64\n",
      " 31  intersection                     350266 non-null  float64\n",
      " 32  weather_1                        351826 non-null  float64\n",
      " 33  state_highway_indicator          351652 non-null  float64\n",
      " 34  tow_away                         342597 non-null  float64\n",
      " 35  collision_severity               351826 non-null  float64\n",
      " 36  party_count                      351938 non-null  int64  \n",
      " 37  primary_collision_factor         351826 non-null  float64\n",
      " 38  pcf_violation_category           351826 non-null  float64\n",
      " 39  pcf_violation                    337270 non-null  float64\n",
      " 40  hit_and_run                      351826 non-null  float64\n",
      " 41  type_of_collision                351826 non-null  float64\n",
      " 42  motor_vehicle_involved_with      351826 non-null  float64\n",
      " 43  pedestrian_action                351826 non-null  float64\n",
      " 44  road_surface                     351826 non-null  float64\n",
      " 45  road_condition_1                 351826 non-null  float64\n",
      " 46  lighting                         351826 non-null  float64\n",
      " 47  control_device                   351826 non-null  float64\n",
      " 48  chp_road_type                    351938 non-null  int64  \n",
      " 49  not_private_property             351938 non-null  int64  \n",
      " 50  statewide_vehicle_type_at_fault  351826 non-null  float64\n",
      " 51  chp_vehicle_type_at_fault        306694 non-null  float64\n",
      " 52  complaint_of_pain_injury_count   351938 non-null  int64  \n",
      " 53  pedestrian_killed_count          351938 non-null  int64  \n",
      " 54  pedestrian_injured_count         351938 non-null  int64  \n",
      " 55  bicyclist_killed_count           351938 non-null  int64  \n",
      " 56  bicyclist_injured_count          351938 non-null  int64  \n",
      " 57  motorcyclist_killed_count        351938 non-null  int64  \n",
      " 58  motorcyclist_injured_count       351938 non-null  int64  \n",
      " 59  latitude                         202239 non-null  float64\n",
      " 60  longitude                        202239 non-null  float64\n",
      " 61  collision_date                   351826 non-null  float64\n",
      " 62  collision_time                   351826 non-null  float64\n",
      " 63  process_date                     351826 non-null  float64\n",
      " 64  id.1                             351938 non-null  int64  \n",
      " 65  party_number.1                   351938 non-null  int64  \n",
      " 66  victim_role                      351826 non-null  float64\n",
      " 67  victim_sex                       351826 non-null  float64\n",
      " 68  victim_age                       344191 non-null  float64\n",
      " 69  victim_seating_position          351826 non-null  float64\n",
      " 70  victim_safety_equipment_1        351826 non-null  float64\n",
      " 71  victim_safety_equipment_2        351826 non-null  float64\n",
      " 72  victim_ejected                   351826 non-null  float64\n",
      "dtypes: float64(53), int64(20)\n",
      "memory usage: 198.7 MB\n"
     ]
    },
    {
     "data": {
      "application/javascript": [
       "\n",
       "            setTimeout(function() {\n",
       "                var nbb_cell_id = 60;\n",
       "                var nbb_unformatted_code = \"Data.info()\";\n",
       "                var nbb_formatted_code = \"Data.info()\";\n",
       "                var nbb_cells = Jupyter.notebook.get_cells();\n",
       "                for (var i = 0; i < nbb_cells.length; ++i) {\n",
       "                    if (nbb_cells[i].input_prompt_number == nbb_cell_id) {\n",
       "                        if (nbb_cells[i].get_text() == nbb_unformatted_code) {\n",
       "                             nbb_cells[i].set_text(nbb_formatted_code);\n",
       "                        }\n",
       "                        break;\n",
       "                    }\n",
       "                }\n",
       "            }, 500);\n",
       "            "
      ],
      "text/plain": [
       "<IPython.core.display.Javascript object>"
      ]
     },
     "metadata": {},
     "output_type": "display_data"
    }
   ],
   "source": [
    "Data.info()"
   ]
  },
  {
   "cell_type": "code",
   "execution_count": 61,
   "metadata": {},
   "outputs": [
    {
     "ename": "KeyError",
     "evalue": "\"['beat_number' 'jurisdiction' 'party_number_injured' 'case_id' 'case_id.2'\\n 'case_id.1' 'party_number_killed' 'injured_victims' 'killed_victims'\\n 'other_visible_injury_count' 'officer_id' 'severe_injury_count'\\n 'victim_degree_of_injury'] not found in axis\"",
     "output_type": "error",
     "traceback": [
      "\u001b[1;31m---------------------------------------------------------------------------\u001b[0m",
      "\u001b[1;31mKeyError\u001b[0m                                  Traceback (most recent call last)",
      "\u001b[1;32m<ipython-input-61-a0d9af36d184>\u001b[0m in \u001b[0;36m<module>\u001b[1;34m\u001b[0m\n\u001b[1;32m----> 1\u001b[1;33m Data = Data.drop(\n\u001b[0m\u001b[0;32m      2\u001b[0m     columns=[\n\u001b[0;32m      3\u001b[0m         \u001b[1;34m\"beat_number\"\u001b[0m\u001b[1;33m,\u001b[0m\u001b[1;33m\u001b[0m\u001b[1;33m\u001b[0m\u001b[0m\n\u001b[0;32m      4\u001b[0m         \u001b[1;34m\"jurisdiction\"\u001b[0m\u001b[1;33m,\u001b[0m\u001b[1;33m\u001b[0m\u001b[1;33m\u001b[0m\u001b[0m\n\u001b[0;32m      5\u001b[0m         \u001b[1;34m\"party_number_injured\"\u001b[0m\u001b[1;33m,\u001b[0m\u001b[1;33m\u001b[0m\u001b[1;33m\u001b[0m\u001b[0m\n",
      "\u001b[1;32m~\\anaconda3\\lib\\site-packages\\pandas\\core\\frame.py\u001b[0m in \u001b[0;36mdrop\u001b[1;34m(self, labels, axis, index, columns, level, inplace, errors)\u001b[0m\n\u001b[0;32m   3988\u001b[0m                 \u001b[0mweight\u001b[0m  \u001b[1;36m1.0\u001b[0m     \u001b[1;36m0.8\u001b[0m\u001b[1;33m\u001b[0m\u001b[1;33m\u001b[0m\u001b[0m\n\u001b[0;32m   3989\u001b[0m         \"\"\"\n\u001b[1;32m-> 3990\u001b[1;33m         return super().drop(\n\u001b[0m\u001b[0;32m   3991\u001b[0m             \u001b[0mlabels\u001b[0m\u001b[1;33m=\u001b[0m\u001b[0mlabels\u001b[0m\u001b[1;33m,\u001b[0m\u001b[1;33m\u001b[0m\u001b[1;33m\u001b[0m\u001b[0m\n\u001b[0;32m   3992\u001b[0m             \u001b[0maxis\u001b[0m\u001b[1;33m=\u001b[0m\u001b[0maxis\u001b[0m\u001b[1;33m,\u001b[0m\u001b[1;33m\u001b[0m\u001b[1;33m\u001b[0m\u001b[0m\n",
      "\u001b[1;32m~\\anaconda3\\lib\\site-packages\\pandas\\core\\generic.py\u001b[0m in \u001b[0;36mdrop\u001b[1;34m(self, labels, axis, index, columns, level, inplace, errors)\u001b[0m\n\u001b[0;32m   3934\u001b[0m         \u001b[1;32mfor\u001b[0m \u001b[0maxis\u001b[0m\u001b[1;33m,\u001b[0m \u001b[0mlabels\u001b[0m \u001b[1;32min\u001b[0m \u001b[0maxes\u001b[0m\u001b[1;33m.\u001b[0m\u001b[0mitems\u001b[0m\u001b[1;33m(\u001b[0m\u001b[1;33m)\u001b[0m\u001b[1;33m:\u001b[0m\u001b[1;33m\u001b[0m\u001b[1;33m\u001b[0m\u001b[0m\n\u001b[0;32m   3935\u001b[0m             \u001b[1;32mif\u001b[0m \u001b[0mlabels\u001b[0m \u001b[1;32mis\u001b[0m \u001b[1;32mnot\u001b[0m \u001b[1;32mNone\u001b[0m\u001b[1;33m:\u001b[0m\u001b[1;33m\u001b[0m\u001b[1;33m\u001b[0m\u001b[0m\n\u001b[1;32m-> 3936\u001b[1;33m                 \u001b[0mobj\u001b[0m \u001b[1;33m=\u001b[0m \u001b[0mobj\u001b[0m\u001b[1;33m.\u001b[0m\u001b[0m_drop_axis\u001b[0m\u001b[1;33m(\u001b[0m\u001b[0mlabels\u001b[0m\u001b[1;33m,\u001b[0m \u001b[0maxis\u001b[0m\u001b[1;33m,\u001b[0m \u001b[0mlevel\u001b[0m\u001b[1;33m=\u001b[0m\u001b[0mlevel\u001b[0m\u001b[1;33m,\u001b[0m \u001b[0merrors\u001b[0m\u001b[1;33m=\u001b[0m\u001b[0merrors\u001b[0m\u001b[1;33m)\u001b[0m\u001b[1;33m\u001b[0m\u001b[1;33m\u001b[0m\u001b[0m\n\u001b[0m\u001b[0;32m   3937\u001b[0m \u001b[1;33m\u001b[0m\u001b[0m\n\u001b[0;32m   3938\u001b[0m         \u001b[1;32mif\u001b[0m \u001b[0minplace\u001b[0m\u001b[1;33m:\u001b[0m\u001b[1;33m\u001b[0m\u001b[1;33m\u001b[0m\u001b[0m\n",
      "\u001b[1;32m~\\anaconda3\\lib\\site-packages\\pandas\\core\\generic.py\u001b[0m in \u001b[0;36m_drop_axis\u001b[1;34m(self, labels, axis, level, errors)\u001b[0m\n\u001b[0;32m   3968\u001b[0m                 \u001b[0mnew_axis\u001b[0m \u001b[1;33m=\u001b[0m \u001b[0maxis\u001b[0m\u001b[1;33m.\u001b[0m\u001b[0mdrop\u001b[0m\u001b[1;33m(\u001b[0m\u001b[0mlabels\u001b[0m\u001b[1;33m,\u001b[0m \u001b[0mlevel\u001b[0m\u001b[1;33m=\u001b[0m\u001b[0mlevel\u001b[0m\u001b[1;33m,\u001b[0m \u001b[0merrors\u001b[0m\u001b[1;33m=\u001b[0m\u001b[0merrors\u001b[0m\u001b[1;33m)\u001b[0m\u001b[1;33m\u001b[0m\u001b[1;33m\u001b[0m\u001b[0m\n\u001b[0;32m   3969\u001b[0m             \u001b[1;32melse\u001b[0m\u001b[1;33m:\u001b[0m\u001b[1;33m\u001b[0m\u001b[1;33m\u001b[0m\u001b[0m\n\u001b[1;32m-> 3970\u001b[1;33m                 \u001b[0mnew_axis\u001b[0m \u001b[1;33m=\u001b[0m \u001b[0maxis\u001b[0m\u001b[1;33m.\u001b[0m\u001b[0mdrop\u001b[0m\u001b[1;33m(\u001b[0m\u001b[0mlabels\u001b[0m\u001b[1;33m,\u001b[0m \u001b[0merrors\u001b[0m\u001b[1;33m=\u001b[0m\u001b[0merrors\u001b[0m\u001b[1;33m)\u001b[0m\u001b[1;33m\u001b[0m\u001b[1;33m\u001b[0m\u001b[0m\n\u001b[0m\u001b[0;32m   3971\u001b[0m             \u001b[0mresult\u001b[0m \u001b[1;33m=\u001b[0m \u001b[0mself\u001b[0m\u001b[1;33m.\u001b[0m\u001b[0mreindex\u001b[0m\u001b[1;33m(\u001b[0m\u001b[1;33m**\u001b[0m\u001b[1;33m{\u001b[0m\u001b[0maxis_name\u001b[0m\u001b[1;33m:\u001b[0m \u001b[0mnew_axis\u001b[0m\u001b[1;33m}\u001b[0m\u001b[1;33m)\u001b[0m\u001b[1;33m\u001b[0m\u001b[1;33m\u001b[0m\u001b[0m\n\u001b[0;32m   3972\u001b[0m \u001b[1;33m\u001b[0m\u001b[0m\n",
      "\u001b[1;32m~\\anaconda3\\lib\\site-packages\\pandas\\core\\indexes\\base.py\u001b[0m in \u001b[0;36mdrop\u001b[1;34m(self, labels, errors)\u001b[0m\n\u001b[0;32m   5016\u001b[0m         \u001b[1;32mif\u001b[0m \u001b[0mmask\u001b[0m\u001b[1;33m.\u001b[0m\u001b[0many\u001b[0m\u001b[1;33m(\u001b[0m\u001b[1;33m)\u001b[0m\u001b[1;33m:\u001b[0m\u001b[1;33m\u001b[0m\u001b[1;33m\u001b[0m\u001b[0m\n\u001b[0;32m   5017\u001b[0m             \u001b[1;32mif\u001b[0m \u001b[0merrors\u001b[0m \u001b[1;33m!=\u001b[0m \u001b[1;34m\"ignore\"\u001b[0m\u001b[1;33m:\u001b[0m\u001b[1;33m\u001b[0m\u001b[1;33m\u001b[0m\u001b[0m\n\u001b[1;32m-> 5018\u001b[1;33m                 \u001b[1;32mraise\u001b[0m \u001b[0mKeyError\u001b[0m\u001b[1;33m(\u001b[0m\u001b[1;34mf\"{labels[mask]} not found in axis\"\u001b[0m\u001b[1;33m)\u001b[0m\u001b[1;33m\u001b[0m\u001b[1;33m\u001b[0m\u001b[0m\n\u001b[0m\u001b[0;32m   5019\u001b[0m             \u001b[0mindexer\u001b[0m \u001b[1;33m=\u001b[0m \u001b[0mindexer\u001b[0m\u001b[1;33m[\u001b[0m\u001b[1;33m~\u001b[0m\u001b[0mmask\u001b[0m\u001b[1;33m]\u001b[0m\u001b[1;33m\u001b[0m\u001b[1;33m\u001b[0m\u001b[0m\n\u001b[0;32m   5020\u001b[0m         \u001b[1;32mreturn\u001b[0m \u001b[0mself\u001b[0m\u001b[1;33m.\u001b[0m\u001b[0mdelete\u001b[0m\u001b[1;33m(\u001b[0m\u001b[0mindexer\u001b[0m\u001b[1;33m)\u001b[0m\u001b[1;33m\u001b[0m\u001b[1;33m\u001b[0m\u001b[0m\n",
      "\u001b[1;31mKeyError\u001b[0m: \"['beat_number' 'jurisdiction' 'party_number_injured' 'case_id' 'case_id.2'\\n 'case_id.1' 'party_number_killed' 'injured_victims' 'killed_victims'\\n 'other_visible_injury_count' 'officer_id' 'severe_injury_count'\\n 'victim_degree_of_injury'] not found in axis\""
     ]
    },
    {
     "data": {
      "application/javascript": [
       "\n",
       "            setTimeout(function() {\n",
       "                var nbb_cell_id = 61;\n",
       "                var nbb_unformatted_code = \"Data = Data.drop(\\n    columns=[\\n        \\\"beat_number\\\",\\n        \\\"jurisdiction\\\",\\n        \\\"party_number_injured\\\",\\n        \\\"case_id\\\",\\n        \\\"case_id.2\\\",\\n        \\\"case_id.1\\\",\\n        \\\"party_number_killed\\\",\\n        \\\"injured_victims\\\",\\n        \\\"killed_victims\\\",\\n        \\\"other_visible_injury_count\\\",\\n        \\\"officer_id\\\",\\n        \\\"severe_injury_count\\\",\\n        \\\"victim_degree_of_injury\\\",\\n    ]\\n)\";\n",
       "                var nbb_formatted_code = \"Data = Data.drop(\\n    columns=[\\n        \\\"beat_number\\\",\\n        \\\"jurisdiction\\\",\\n        \\\"party_number_injured\\\",\\n        \\\"case_id\\\",\\n        \\\"case_id.2\\\",\\n        \\\"case_id.1\\\",\\n        \\\"party_number_killed\\\",\\n        \\\"injured_victims\\\",\\n        \\\"killed_victims\\\",\\n        \\\"other_visible_injury_count\\\",\\n        \\\"officer_id\\\",\\n        \\\"severe_injury_count\\\",\\n        \\\"victim_degree_of_injury\\\",\\n    ]\\n)\";\n",
       "                var nbb_cells = Jupyter.notebook.get_cells();\n",
       "                for (var i = 0; i < nbb_cells.length; ++i) {\n",
       "                    if (nbb_cells[i].input_prompt_number == nbb_cell_id) {\n",
       "                        if (nbb_cells[i].get_text() == nbb_unformatted_code) {\n",
       "                             nbb_cells[i].set_text(nbb_formatted_code);\n",
       "                        }\n",
       "                        break;\n",
       "                    }\n",
       "                }\n",
       "            }, 500);\n",
       "            "
      ],
      "text/plain": [
       "<IPython.core.display.Javascript object>"
      ]
     },
     "metadata": {},
     "output_type": "display_data"
    }
   ],
   "source": [
    "Data = Data.drop(\n",
    "    columns=[\n",
    "        \"beat_number\",\n",
    "        \"jurisdiction\",\n",
    "        \"party_number_injured\",\n",
    "        \"case_id\",\n",
    "        \"case_id.2\",\n",
    "        \"case_id.1\",\n",
    "        \"party_number_killed\",\n",
    "        \"injured_victims\",\n",
    "        \"killed_victims\",\n",
    "        \"other_visible_injury_count\",\n",
    "        \"officer_id\",\n",
    "        \"severe_injury_count\",\n",
    "        \"victim_degree_of_injury\",\n",
    "    ]\n",
    ")"
   ]
  },
  {
   "cell_type": "code",
   "execution_count": 62,
   "metadata": {},
   "outputs": [
    {
     "data": {
      "image/png": "[encoded data removed]",
      "text/plain": [
       "<Figure size 504x1440 with 2 Axes>"
      ]
     },
     "metadata": {
      "needs_background": "light"
     },
     "output_type": "display_data"
    },
    {
     "data": {
      "application/javascript": [
       "\n",
       "            setTimeout(function() {\n",
       "                var nbb_cell_id = 62;\n",
       "                var nbb_unformatted_code = \"CollisionCor = Data.corr()[[\\\"collision_severity\\\"]].sort_values(\\\"collision_severity\\\")\\nplt.figure(figsize=(7, 20))\\nsns.heatmap(\\n    CollisionCor,\\n    vmin=-1,\\n    annot=True,\\n)\\nplt.show()\";\n",
       "                var nbb_formatted_code = \"CollisionCor = Data.corr()[[\\\"collision_severity\\\"]].sort_values(\\\"collision_severity\\\")\\nplt.figure(figsize=(7, 20))\\nsns.heatmap(\\n    CollisionCor,\\n    vmin=-1,\\n    annot=True,\\n)\\nplt.show()\";\n",
       "                var nbb_cells = Jupyter.notebook.get_cells();\n",
       "                for (var i = 0; i < nbb_cells.length; ++i) {\n",
       "                    if (nbb_cells[i].input_prompt_number == nbb_cell_id) {\n",
       "                        if (nbb_cells[i].get_text() == nbb_unformatted_code) {\n",
       "                             nbb_cells[i].set_text(nbb_formatted_code);\n",
       "                        }\n",
       "                        break;\n",
       "                    }\n",
       "                }\n",
       "            }, 500);\n",
       "            "
      ],
      "text/plain": [
       "<IPython.core.display.Javascript object>"
      ]
     },
     "metadata": {},
     "output_type": "display_data"
    }
   ],
   "source": [
    "CollisionCor = Data.corr()[[\"collision_severity\"]].sort_values(\"collision_severity\")\n",
    "plt.figure(figsize=(7, 20))\n",
    "sns.heatmap(\n",
    "    CollisionCor,\n",
    "    vmin=-1,\n",
    "    annot=True,\n",
    ")\n",
    "plt.show()"
   ]
  },
  {
   "cell_type": "markdown",
   "metadata": {},
   "source": [
    "Columns with correlation more than 0.25 has been chosen."
   ]
  },
  {
   "cell_type": "code",
   "execution_count": 63,
   "metadata": {},
   "outputs": [
    {
     "data": {
      "text/html": [
       "<div>\n",
       "<style scoped>\n",
       "    .dataframe tbody tr th:only-of-type {\n",
       "        vertical-align: middle;\n",
       "    }\n",
       "\n",
       "    .dataframe tbody tr th {\n",
       "        vertical-align: top;\n",
       "    }\n",
       "\n",
       "    .dataframe thead th {\n",
       "        text-align: right;\n",
       "    }\n",
       "</style>\n",
       "<table border=\"1\" class=\"dataframe\">\n",
       "  <thead>\n",
       "    <tr style=\"text-align: right;\">\n",
       "      <th></th>\n",
       "      <th>collision_severity</th>\n",
       "    </tr>\n",
       "  </thead>\n",
       "  <tbody>\n",
       "    <tr>\n",
       "      <th>chp_shift</th>\n",
       "      <td>-0.190924</td>\n",
       "    </tr>\n",
       "    <tr>\n",
       "      <th>complaint_of_pain_injury_count</th>\n",
       "      <td>-0.146206</td>\n",
       "    </tr>\n",
       "    <tr>\n",
       "      <th>party_number.1</th>\n",
       "      <td>-0.054371</td>\n",
       "    </tr>\n",
       "    <tr>\n",
       "      <th>intersection</th>\n",
       "      <td>-0.038534</td>\n",
       "    </tr>\n",
       "    <tr>\n",
       "      <th>longitude</th>\n",
       "      <td>-0.032082</td>\n",
       "    </tr>\n",
       "    <tr>\n",
       "      <th>...</th>\n",
       "      <td>...</td>\n",
       "    </tr>\n",
       "    <tr>\n",
       "      <th>primary_road</th>\n",
       "      <td>0.534842</td>\n",
       "    </tr>\n",
       "    <tr>\n",
       "      <th>secondary_road</th>\n",
       "      <td>0.635123</td>\n",
       "    </tr>\n",
       "    <tr>\n",
       "      <th>collision_severity</th>\n",
       "      <td>1.000000</td>\n",
       "    </tr>\n",
       "    <tr>\n",
       "      <th>chp_road_type</th>\n",
       "      <td>NaN</td>\n",
       "    </tr>\n",
       "    <tr>\n",
       "      <th>not_private_property</th>\n",
       "      <td>NaN</td>\n",
       "    </tr>\n",
       "  </tbody>\n",
       "</table>\n",
       "<p>73 rows × 1 columns</p>\n",
       "</div>"
      ],
      "text/plain": [
       "                                collision_severity\n",
       "chp_shift                                -0.190924\n",
       "complaint_of_pain_injury_count           -0.146206\n",
       "party_number.1                           -0.054371\n",
       "intersection                             -0.038534\n",
       "longitude                                -0.032082\n",
       "...                                            ...\n",
       "primary_road                              0.534842\n",
       "secondary_road                            0.635123\n",
       "collision_severity                        1.000000\n",
       "chp_road_type                                  NaN\n",
       "not_private_property                           NaN\n",
       "\n",
       "[73 rows x 1 columns]"
      ]
     },
     "execution_count": 63,
     "metadata": {},
     "output_type": "execute_result"
    },
    {
     "data": {
      "application/javascript": [
       "\n",
       "            setTimeout(function() {\n",
       "                var nbb_cell_id = 63;\n",
       "                var nbb_unformatted_code = \"CollisionCor\";\n",
       "                var nbb_formatted_code = \"CollisionCor\";\n",
       "                var nbb_cells = Jupyter.notebook.get_cells();\n",
       "                for (var i = 0; i < nbb_cells.length; ++i) {\n",
       "                    if (nbb_cells[i].input_prompt_number == nbb_cell_id) {\n",
       "                        if (nbb_cells[i].get_text() == nbb_unformatted_code) {\n",
       "                             nbb_cells[i].set_text(nbb_formatted_code);\n",
       "                        }\n",
       "                        break;\n",
       "                    }\n",
       "                }\n",
       "            }, 500);\n",
       "            "
      ],
      "text/plain": [
       "<IPython.core.display.Javascript object>"
      ]
     },
     "metadata": {},
     "output_type": "display_data"
    }
   ],
   "source": [
    "CollisionCor"
   ]
  },
  {
   "cell_type": "code",
   "execution_count": 64,
   "metadata": {},
   "outputs": [
    {
     "data": {
      "application/javascript": [
       "\n",
       "            setTimeout(function() {\n",
       "                var nbb_cell_id = 64;\n",
       "                var nbb_unformatted_code = \"CollisionCor = CollisionCor[np.abs(CollisionCor[\\\"collision_severity\\\"]) > 0.25]\";\n",
       "                var nbb_formatted_code = \"CollisionCor = CollisionCor[np.abs(CollisionCor[\\\"collision_severity\\\"]) > 0.25]\";\n",
       "                var nbb_cells = Jupyter.notebook.get_cells();\n",
       "                for (var i = 0; i < nbb_cells.length; ++i) {\n",
       "                    if (nbb_cells[i].input_prompt_number == nbb_cell_id) {\n",
       "                        if (nbb_cells[i].get_text() == nbb_unformatted_code) {\n",
       "                             nbb_cells[i].set_text(nbb_formatted_code);\n",
       "                        }\n",
       "                        break;\n",
       "                    }\n",
       "                }\n",
       "            }, 500);\n",
       "            "
      ],
      "text/plain": [
       "<IPython.core.display.Javascript object>"
      ]
     },
     "metadata": {},
     "output_type": "display_data"
    }
   ],
   "source": [
    "CollisionCor = CollisionCor[np.abs(CollisionCor[\"collision_severity\"]) > 0.25]"
   ]
  },
  {
   "cell_type": "code",
   "execution_count": 65,
   "metadata": {},
   "outputs": [
    {
     "data": {
      "text/html": [
       "<div>\n",
       "<style scoped>\n",
       "    .dataframe tbody tr th:only-of-type {\n",
       "        vertical-align: middle;\n",
       "    }\n",
       "\n",
       "    .dataframe tbody tr th {\n",
       "        vertical-align: top;\n",
       "    }\n",
       "\n",
       "    .dataframe thead th {\n",
       "        text-align: right;\n",
       "    }\n",
       "</style>\n",
       "<table border=\"1\" class=\"dataframe\">\n",
       "  <thead>\n",
       "    <tr style=\"text-align: right;\">\n",
       "      <th></th>\n",
       "      <th>collision_severity</th>\n",
       "    </tr>\n",
       "  </thead>\n",
       "  <tbody>\n",
       "    <tr>\n",
       "      <th>victim_seating_position</th>\n",
       "      <td>0.261927</td>\n",
       "    </tr>\n",
       "    <tr>\n",
       "      <th>type_of_collision</th>\n",
       "      <td>0.269200</td>\n",
       "    </tr>\n",
       "    <tr>\n",
       "      <th>victim_role</th>\n",
       "      <td>0.288611</td>\n",
       "    </tr>\n",
       "    <tr>\n",
       "      <th>victim_safety_equipment_1</th>\n",
       "      <td>0.328795</td>\n",
       "    </tr>\n",
       "    <tr>\n",
       "      <th>primary_road</th>\n",
       "      <td>0.534842</td>\n",
       "    </tr>\n",
       "    <tr>\n",
       "      <th>secondary_road</th>\n",
       "      <td>0.635123</td>\n",
       "    </tr>\n",
       "    <tr>\n",
       "      <th>collision_severity</th>\n",
       "      <td>1.000000</td>\n",
       "    </tr>\n",
       "  </tbody>\n",
       "</table>\n",
       "</div>"
      ],
      "text/plain": [
       "                           collision_severity\n",
       "victim_seating_position              0.261927\n",
       "type_of_collision                    0.269200\n",
       "victim_role                          0.288611\n",
       "victim_safety_equipment_1            0.328795\n",
       "primary_road                         0.534842\n",
       "secondary_road                       0.635123\n",
       "collision_severity                   1.000000"
      ]
     },
     "execution_count": 65,
     "metadata": {},
     "output_type": "execute_result"
    },
    {
     "data": {
      "application/javascript": [
       "\n",
       "            setTimeout(function() {\n",
       "                var nbb_cell_id = 65;\n",
       "                var nbb_unformatted_code = \"CollisionCor\";\n",
       "                var nbb_formatted_code = \"CollisionCor\";\n",
       "                var nbb_cells = Jupyter.notebook.get_cells();\n",
       "                for (var i = 0; i < nbb_cells.length; ++i) {\n",
       "                    if (nbb_cells[i].input_prompt_number == nbb_cell_id) {\n",
       "                        if (nbb_cells[i].get_text() == nbb_unformatted_code) {\n",
       "                             nbb_cells[i].set_text(nbb_formatted_code);\n",
       "                        }\n",
       "                        break;\n",
       "                    }\n",
       "                }\n",
       "            }, 500);\n",
       "            "
      ],
      "text/plain": [
       "<IPython.core.display.Javascript object>"
      ]
     },
     "metadata": {},
     "output_type": "display_data"
    }
   ],
   "source": [
    "CollisionCor"
   ]
  },
  {
   "cell_type": "code",
   "execution_count": 66,
   "metadata": {},
   "outputs": [
    {
     "data": {
      "text/html": [
       "<div>\n",
       "<style scoped>\n",
       "    .dataframe tbody tr th:only-of-type {\n",
       "        vertical-align: middle;\n",
       "    }\n",
       "\n",
       "    .dataframe tbody tr th {\n",
       "        vertical-align: top;\n",
       "    }\n",
       "\n",
       "    .dataframe thead th {\n",
       "        text-align: right;\n",
       "    }\n",
       "</style>\n",
       "<table border=\"1\" class=\"dataframe\">\n",
       "  <thead>\n",
       "    <tr style=\"text-align: right;\">\n",
       "      <th></th>\n",
       "      <th>victim_seating_position</th>\n",
       "      <th>type_of_collision</th>\n",
       "      <th>victim_role</th>\n",
       "      <th>victim_safety_equipment_1</th>\n",
       "      <th>primary_road</th>\n",
       "      <th>secondary_road</th>\n",
       "      <th>collision_severity</th>\n",
       "    </tr>\n",
       "  </thead>\n",
       "  <tbody>\n",
       "    <tr>\n",
       "      <th>0</th>\n",
       "      <td>2.552385</td>\n",
       "      <td>2.737980</td>\n",
       "      <td>2.543005</td>\n",
       "      <td>2.624793</td>\n",
       "      <td>3.000000</td>\n",
       "      <td>4.000000</td>\n",
       "      <td>2.0</td>\n",
       "    </tr>\n",
       "    <tr>\n",
       "      <th>1</th>\n",
       "      <td>2.552385</td>\n",
       "      <td>2.395802</td>\n",
       "      <td>2.543005</td>\n",
       "      <td>2.137051</td>\n",
       "      <td>2.255319</td>\n",
       "      <td>2.000000</td>\n",
       "      <td>2.0</td>\n",
       "    </tr>\n",
       "    <tr>\n",
       "      <th>2</th>\n",
       "      <td>2.200123</td>\n",
       "      <td>2.395802</td>\n",
       "      <td>2.135458</td>\n",
       "      <td>2.137051</td>\n",
       "      <td>2.255319</td>\n",
       "      <td>2.000000</td>\n",
       "      <td>2.0</td>\n",
       "    </tr>\n",
       "    <tr>\n",
       "      <th>3</th>\n",
       "      <td>2.552385</td>\n",
       "      <td>2.395802</td>\n",
       "      <td>2.543005</td>\n",
       "      <td>2.137051</td>\n",
       "      <td>2.255319</td>\n",
       "      <td>2.000000</td>\n",
       "      <td>2.0</td>\n",
       "    </tr>\n",
       "    <tr>\n",
       "      <th>4</th>\n",
       "      <td>2.200123</td>\n",
       "      <td>2.395802</td>\n",
       "      <td>2.135458</td>\n",
       "      <td>2.137051</td>\n",
       "      <td>2.255319</td>\n",
       "      <td>2.000000</td>\n",
       "      <td>2.0</td>\n",
       "    </tr>\n",
       "    <tr>\n",
       "      <th>...</th>\n",
       "      <td>...</td>\n",
       "      <td>...</td>\n",
       "      <td>...</td>\n",
       "      <td>...</td>\n",
       "      <td>...</td>\n",
       "      <td>...</td>\n",
       "      <td>...</td>\n",
       "    </tr>\n",
       "    <tr>\n",
       "      <th>352086</th>\n",
       "      <td>2.550008</td>\n",
       "      <td>2.395793</td>\n",
       "      <td>2.543000</td>\n",
       "      <td>2.624784</td>\n",
       "      <td>2.052632</td>\n",
       "      <td>1.979592</td>\n",
       "      <td>3.0</td>\n",
       "    </tr>\n",
       "    <tr>\n",
       "      <th>352087</th>\n",
       "      <td>2.094876</td>\n",
       "      <td>2.395793</td>\n",
       "      <td>2.135451</td>\n",
       "      <td>2.624784</td>\n",
       "      <td>2.052632</td>\n",
       "      <td>1.979592</td>\n",
       "      <td>3.0</td>\n",
       "    </tr>\n",
       "    <tr>\n",
       "      <th>352088</th>\n",
       "      <td>2.550017</td>\n",
       "      <td>2.395802</td>\n",
       "      <td>2.543005</td>\n",
       "      <td>2.624793</td>\n",
       "      <td>1.952381</td>\n",
       "      <td>2.000000</td>\n",
       "      <td>2.0</td>\n",
       "    </tr>\n",
       "    <tr>\n",
       "      <th>352089</th>\n",
       "      <td>2.550017</td>\n",
       "      <td>2.395802</td>\n",
       "      <td>2.543005</td>\n",
       "      <td>2.624793</td>\n",
       "      <td>1.952381</td>\n",
       "      <td>2.000000</td>\n",
       "      <td>2.0</td>\n",
       "    </tr>\n",
       "    <tr>\n",
       "      <th>352090</th>\n",
       "      <td>2.550017</td>\n",
       "      <td>2.395802</td>\n",
       "      <td>2.543005</td>\n",
       "      <td>2.624793</td>\n",
       "      <td>1.952381</td>\n",
       "      <td>2.000000</td>\n",
       "      <td>2.0</td>\n",
       "    </tr>\n",
       "  </tbody>\n",
       "</table>\n",
       "<p>351938 rows × 7 columns</p>\n",
       "</div>"
      ],
      "text/plain": [
       "        victim_seating_position  type_of_collision  victim_role  \\\n",
       "0                      2.552385           2.737980     2.543005   \n",
       "1                      2.552385           2.395802     2.543005   \n",
       "2                      2.200123           2.395802     2.135458   \n",
       "3                      2.552385           2.395802     2.543005   \n",
       "4                      2.200123           2.395802     2.135458   \n",
       "...                         ...                ...          ...   \n",
       "352086                 2.550008           2.395793     2.543000   \n",
       "352087                 2.094876           2.395793     2.135451   \n",
       "352088                 2.550017           2.395802     2.543005   \n",
       "352089                 2.550017           2.395802     2.543005   \n",
       "352090                 2.550017           2.395802     2.543005   \n",
       "\n",
       "        victim_safety_equipment_1  primary_road  secondary_road  \\\n",
       "0                        2.624793      3.000000        4.000000   \n",
       "1                        2.137051      2.255319        2.000000   \n",
       "2                        2.137051      2.255319        2.000000   \n",
       "3                        2.137051      2.255319        2.000000   \n",
       "4                        2.137051      2.255319        2.000000   \n",
       "...                           ...           ...             ...   \n",
       "352086                   2.624784      2.052632        1.979592   \n",
       "352087                   2.624784      2.052632        1.979592   \n",
       "352088                   2.624793      1.952381        2.000000   \n",
       "352089                   2.624793      1.952381        2.000000   \n",
       "352090                   2.624793      1.952381        2.000000   \n",
       "\n",
       "        collision_severity  \n",
       "0                      2.0  \n",
       "1                      2.0  \n",
       "2                      2.0  \n",
       "3                      2.0  \n",
       "4                      2.0  \n",
       "...                    ...  \n",
       "352086                 3.0  \n",
       "352087                 3.0  \n",
       "352088                 2.0  \n",
       "352089                 2.0  \n",
       "352090                 2.0  \n",
       "\n",
       "[351938 rows x 7 columns]"
      ]
     },
     "execution_count": 66,
     "metadata": {},
     "output_type": "execute_result"
    },
    {
     "data": {
      "application/javascript": [
       "\n",
       "            setTimeout(function() {\n",
       "                var nbb_cell_id = 66;\n",
       "                var nbb_unformatted_code = \"df1 = Data[CollisionCor.index]\\ndf1\";\n",
       "                var nbb_formatted_code = \"df1 = Data[CollisionCor.index]\\ndf1\";\n",
       "                var nbb_cells = Jupyter.notebook.get_cells();\n",
       "                for (var i = 0; i < nbb_cells.length; ++i) {\n",
       "                    if (nbb_cells[i].input_prompt_number == nbb_cell_id) {\n",
       "                        if (nbb_cells[i].get_text() == nbb_unformatted_code) {\n",
       "                             nbb_cells[i].set_text(nbb_formatted_code);\n",
       "                        }\n",
       "                        break;\n",
       "                    }\n",
       "                }\n",
       "            }, 500);\n",
       "            "
      ],
      "text/plain": [
       "<IPython.core.display.Javascript object>"
      ]
     },
     "metadata": {},
     "output_type": "display_data"
    }
   ],
   "source": [
    "df1 = Data[CollisionCor.index]\n",
    "df1"
   ]
  },
  {
   "cell_type": "code",
   "execution_count": 67,
   "metadata": {},
   "outputs": [
    {
     "data": {
      "image/png": "[encoded data removed]",
      "text/plain": [
       "<Figure size 1260x1260 with 56 Axes>"
      ]
     },
     "metadata": {
      "needs_background": "light"
     },
     "output_type": "display_data"
    },
    {
     "data": {
      "application/javascript": [
       "\n",
       "            setTimeout(function() {\n",
       "                var nbb_cell_id = 67;\n",
       "                var nbb_unformatted_code = \"sns.pairplot(df1)\\nplt.show()\";\n",
       "                var nbb_formatted_code = \"sns.pairplot(df1)\\nplt.show()\";\n",
       "                var nbb_cells = Jupyter.notebook.get_cells();\n",
       "                for (var i = 0; i < nbb_cells.length; ++i) {\n",
       "                    if (nbb_cells[i].input_prompt_number == nbb_cell_id) {\n",
       "                        if (nbb_cells[i].get_text() == nbb_unformatted_code) {\n",
       "                             nbb_cells[i].set_text(nbb_formatted_code);\n",
       "                        }\n",
       "                        break;\n",
       "                    }\n",
       "                }\n",
       "            }, 500);\n",
       "            "
      ],
      "text/plain": [
       "<IPython.core.display.Javascript object>"
      ]
     },
     "metadata": {},
     "output_type": "display_data"
    }
   ],
   "source": [
    "sns.pairplot(df1)\n",
    "plt.show()"
   ]
  },
  {
   "cell_type": "code",
   "execution_count": 68,
   "metadata": {},
   "outputs": [
    {
     "data": {
      "text/plain": [
       "<function matplotlib.pyplot.show(*args, **kw)>"
      ]
     },
     "execution_count": 68,
     "metadata": {},
     "output_type": "execute_result"
    },
    {
     "data": {
      "image/png": "[encoded data removed]",
      "text/plain": [
       "<Figure size 432x288 with 2 Axes>"
      ]
     },
     "metadata": {
      "needs_background": "light"
     },
     "output_type": "display_data"
    },
    {
     "data": {
      "application/javascript": [
       "\n",
       "            setTimeout(function() {\n",
       "                var nbb_cell_id = 68;\n",
       "                var nbb_unformatted_code = \"sns.heatmap(df1.corr(), vmin=-1, annot=True)\\nplt.show\";\n",
       "                var nbb_formatted_code = \"sns.heatmap(df1.corr(), vmin=-1, annot=True)\\nplt.show\";\n",
       "                var nbb_cells = Jupyter.notebook.get_cells();\n",
       "                for (var i = 0; i < nbb_cells.length; ++i) {\n",
       "                    if (nbb_cells[i].input_prompt_number == nbb_cell_id) {\n",
       "                        if (nbb_cells[i].get_text() == nbb_unformatted_code) {\n",
       "                             nbb_cells[i].set_text(nbb_formatted_code);\n",
       "                        }\n",
       "                        break;\n",
       "                    }\n",
       "                }\n",
       "            }, 500);\n",
       "            "
      ],
      "text/plain": [
       "<IPython.core.display.Javascript object>"
      ]
     },
     "metadata": {},
     "output_type": "display_data"
    }
   ],
   "source": [
    "sns.heatmap(df1.corr(), vmin=-1, annot=True)\n",
    "plt.show"
   ]
  },
  {
   "cell_type": "markdown",
   "metadata": {},
   "source": [
    "That shows party_count and party_age are not very crucial features affecting killed_victims or injured_victims"
   ]
  },
  {
   "cell_type": "markdown",
   "metadata": {},
   "source": [
    "1) Random Forest Classifier"
   ]
  },
  {
   "cell_type": "code",
   "execution_count": 69,
   "metadata": {},
   "outputs": [
    {
     "data": {
      "application/javascript": [
       "\n",
       "            setTimeout(function() {\n",
       "                var nbb_cell_id = 69;\n",
       "                var nbb_unformatted_code = \"df1 = df1.dropna()\";\n",
       "                var nbb_formatted_code = \"df1 = df1.dropna()\";\n",
       "                var nbb_cells = Jupyter.notebook.get_cells();\n",
       "                for (var i = 0; i < nbb_cells.length; ++i) {\n",
       "                    if (nbb_cells[i].input_prompt_number == nbb_cell_id) {\n",
       "                        if (nbb_cells[i].get_text() == nbb_unformatted_code) {\n",
       "                             nbb_cells[i].set_text(nbb_formatted_code);\n",
       "                        }\n",
       "                        break;\n",
       "                    }\n",
       "                }\n",
       "            }, 500);\n",
       "            "
      ],
      "text/plain": [
       "<IPython.core.display.Javascript object>"
      ]
     },
     "metadata": {},
     "output_type": "display_data"
    }
   ],
   "source": [
    "df1 = df1.dropna()"
   ]
  },
  {
   "cell_type": "code",
   "execution_count": 70,
   "metadata": {},
   "outputs": [
    {
     "data": {
      "text/html": [
       "<div>\n",
       "<style scoped>\n",
       "    .dataframe tbody tr th:only-of-type {\n",
       "        vertical-align: middle;\n",
       "    }\n",
       "\n",
       "    .dataframe tbody tr th {\n",
       "        vertical-align: top;\n",
       "    }\n",
       "\n",
       "    .dataframe thead th {\n",
       "        text-align: right;\n",
       "    }\n",
       "</style>\n",
       "<table border=\"1\" class=\"dataframe\">\n",
       "  <thead>\n",
       "    <tr style=\"text-align: right;\">\n",
       "      <th></th>\n",
       "      <th>victim_seating_position</th>\n",
       "      <th>type_of_collision</th>\n",
       "      <th>victim_role</th>\n",
       "      <th>victim_safety_equipment_1</th>\n",
       "      <th>primary_road</th>\n",
       "      <th>secondary_road</th>\n",
       "      <th>collision_severity</th>\n",
       "    </tr>\n",
       "  </thead>\n",
       "  <tbody>\n",
       "    <tr>\n",
       "      <th>0</th>\n",
       "      <td>2.552385</td>\n",
       "      <td>2.737980</td>\n",
       "      <td>2.543005</td>\n",
       "      <td>2.624793</td>\n",
       "      <td>3.000000</td>\n",
       "      <td>4.000000</td>\n",
       "      <td>2.0</td>\n",
       "    </tr>\n",
       "    <tr>\n",
       "      <th>1</th>\n",
       "      <td>2.552385</td>\n",
       "      <td>2.395802</td>\n",
       "      <td>2.543005</td>\n",
       "      <td>2.137051</td>\n",
       "      <td>2.255319</td>\n",
       "      <td>2.000000</td>\n",
       "      <td>2.0</td>\n",
       "    </tr>\n",
       "    <tr>\n",
       "      <th>2</th>\n",
       "      <td>2.200123</td>\n",
       "      <td>2.395802</td>\n",
       "      <td>2.135458</td>\n",
       "      <td>2.137051</td>\n",
       "      <td>2.255319</td>\n",
       "      <td>2.000000</td>\n",
       "      <td>2.0</td>\n",
       "    </tr>\n",
       "    <tr>\n",
       "      <th>3</th>\n",
       "      <td>2.552385</td>\n",
       "      <td>2.395802</td>\n",
       "      <td>2.543005</td>\n",
       "      <td>2.137051</td>\n",
       "      <td>2.255319</td>\n",
       "      <td>2.000000</td>\n",
       "      <td>2.0</td>\n",
       "    </tr>\n",
       "    <tr>\n",
       "      <th>4</th>\n",
       "      <td>2.200123</td>\n",
       "      <td>2.395802</td>\n",
       "      <td>2.135458</td>\n",
       "      <td>2.137051</td>\n",
       "      <td>2.255319</td>\n",
       "      <td>2.000000</td>\n",
       "      <td>2.0</td>\n",
       "    </tr>\n",
       "    <tr>\n",
       "      <th>...</th>\n",
       "      <td>...</td>\n",
       "      <td>...</td>\n",
       "      <td>...</td>\n",
       "      <td>...</td>\n",
       "      <td>...</td>\n",
       "      <td>...</td>\n",
       "      <td>...</td>\n",
       "    </tr>\n",
       "    <tr>\n",
       "      <th>352086</th>\n",
       "      <td>2.550008</td>\n",
       "      <td>2.395793</td>\n",
       "      <td>2.543000</td>\n",
       "      <td>2.624784</td>\n",
       "      <td>2.052632</td>\n",
       "      <td>1.979592</td>\n",
       "      <td>3.0</td>\n",
       "    </tr>\n",
       "    <tr>\n",
       "      <th>352087</th>\n",
       "      <td>2.094876</td>\n",
       "      <td>2.395793</td>\n",
       "      <td>2.135451</td>\n",
       "      <td>2.624784</td>\n",
       "      <td>2.052632</td>\n",
       "      <td>1.979592</td>\n",
       "      <td>3.0</td>\n",
       "    </tr>\n",
       "    <tr>\n",
       "      <th>352088</th>\n",
       "      <td>2.550017</td>\n",
       "      <td>2.395802</td>\n",
       "      <td>2.543005</td>\n",
       "      <td>2.624793</td>\n",
       "      <td>1.952381</td>\n",
       "      <td>2.000000</td>\n",
       "      <td>2.0</td>\n",
       "    </tr>\n",
       "    <tr>\n",
       "      <th>352089</th>\n",
       "      <td>2.550017</td>\n",
       "      <td>2.395802</td>\n",
       "      <td>2.543005</td>\n",
       "      <td>2.624793</td>\n",
       "      <td>1.952381</td>\n",
       "      <td>2.000000</td>\n",
       "      <td>2.0</td>\n",
       "    </tr>\n",
       "    <tr>\n",
       "      <th>352090</th>\n",
       "      <td>2.550017</td>\n",
       "      <td>2.395802</td>\n",
       "      <td>2.543005</td>\n",
       "      <td>2.624793</td>\n",
       "      <td>1.952381</td>\n",
       "      <td>2.000000</td>\n",
       "      <td>2.0</td>\n",
       "    </tr>\n",
       "  </tbody>\n",
       "</table>\n",
       "<p>351826 rows × 7 columns</p>\n",
       "</div>"
      ],
      "text/plain": [
       "        victim_seating_position  type_of_collision  victim_role  \\\n",
       "0                      2.552385           2.737980     2.543005   \n",
       "1                      2.552385           2.395802     2.543005   \n",
       "2                      2.200123           2.395802     2.135458   \n",
       "3                      2.552385           2.395802     2.543005   \n",
       "4                      2.200123           2.395802     2.135458   \n",
       "...                         ...                ...          ...   \n",
       "352086                 2.550008           2.395793     2.543000   \n",
       "352087                 2.094876           2.395793     2.135451   \n",
       "352088                 2.550017           2.395802     2.543005   \n",
       "352089                 2.550017           2.395802     2.543005   \n",
       "352090                 2.550017           2.395802     2.543005   \n",
       "\n",
       "        victim_safety_equipment_1  primary_road  secondary_road  \\\n",
       "0                        2.624793      3.000000        4.000000   \n",
       "1                        2.137051      2.255319        2.000000   \n",
       "2                        2.137051      2.255319        2.000000   \n",
       "3                        2.137051      2.255319        2.000000   \n",
       "4                        2.137051      2.255319        2.000000   \n",
       "...                           ...           ...             ...   \n",
       "352086                   2.624784      2.052632        1.979592   \n",
       "352087                   2.624784      2.052632        1.979592   \n",
       "352088                   2.624793      1.952381        2.000000   \n",
       "352089                   2.624793      1.952381        2.000000   \n",
       "352090                   2.624793      1.952381        2.000000   \n",
       "\n",
       "        collision_severity  \n",
       "0                      2.0  \n",
       "1                      2.0  \n",
       "2                      2.0  \n",
       "3                      2.0  \n",
       "4                      2.0  \n",
       "...                    ...  \n",
       "352086                 3.0  \n",
       "352087                 3.0  \n",
       "352088                 2.0  \n",
       "352089                 2.0  \n",
       "352090                 2.0  \n",
       "\n",
       "[351826 rows x 7 columns]"
      ]
     },
     "execution_count": 70,
     "metadata": {},
     "output_type": "execute_result"
    },
    {
     "data": {
      "application/javascript": [
       "\n",
       "            setTimeout(function() {\n",
       "                var nbb_cell_id = 70;\n",
       "                var nbb_unformatted_code = \"df1\";\n",
       "                var nbb_formatted_code = \"df1\";\n",
       "                var nbb_cells = Jupyter.notebook.get_cells();\n",
       "                for (var i = 0; i < nbb_cells.length; ++i) {\n",
       "                    if (nbb_cells[i].input_prompt_number == nbb_cell_id) {\n",
       "                        if (nbb_cells[i].get_text() == nbb_unformatted_code) {\n",
       "                             nbb_cells[i].set_text(nbb_formatted_code);\n",
       "                        }\n",
       "                        break;\n",
       "                    }\n",
       "                }\n",
       "            }, 500);\n",
       "            "
      ],
      "text/plain": [
       "<IPython.core.display.Javascript object>"
      ]
     },
     "metadata": {},
     "output_type": "display_data"
    }
   ],
   "source": [
    "df1"
   ]
  },
  {
   "cell_type": "code",
   "execution_count": 71,
   "metadata": {},
   "outputs": [
    {
     "data": {
      "application/javascript": [
       "\n",
       "            setTimeout(function() {\n",
       "                var nbb_cell_id = 71;\n",
       "                var nbb_unformatted_code = \"X = df1.drop(columns=\\\"collision_severity\\\")\\ny = df1[\\\"collision_severity\\\"]\\nX = StandardScaler().fit_transform(X)  # columnsns name go away\\nX_train, X_test, y_train, y_test = train_test_split(\\n    X, y, test_size=0.2, random_state=42\\n)\";\n",
       "                var nbb_formatted_code = \"X = df1.drop(columns=\\\"collision_severity\\\")\\ny = df1[\\\"collision_severity\\\"]\\nX = StandardScaler().fit_transform(X)  # columnsns name go away\\nX_train, X_test, y_train, y_test = train_test_split(\\n    X, y, test_size=0.2, random_state=42\\n)\";\n",
       "                var nbb_cells = Jupyter.notebook.get_cells();\n",
       "                for (var i = 0; i < nbb_cells.length; ++i) {\n",
       "                    if (nbb_cells[i].input_prompt_number == nbb_cell_id) {\n",
       "                        if (nbb_cells[i].get_text() == nbb_unformatted_code) {\n",
       "                             nbb_cells[i].set_text(nbb_formatted_code);\n",
       "                        }\n",
       "                        break;\n",
       "                    }\n",
       "                }\n",
       "            }, 500);\n",
       "            "
      ],
      "text/plain": [
       "<IPython.core.display.Javascript object>"
      ]
     },
     "metadata": {},
     "output_type": "display_data"
    }
   ],
   "source": [
    "X = df1.drop(columns=\"collision_severity\")\n",
    "y = df1[\"collision_severity\"]\n",
    "X = StandardScaler().fit_transform(X)  # columnsns name go away\n",
    "X_train, X_test, y_train, y_test = train_test_split(\n",
    "    X, y, test_size=0.2, random_state=42\n",
    ")"
   ]
  },
  {
   "cell_type": "markdown",
   "metadata": {},
   "source": [
    "Fit a random forest classifier to the data."
   ]
  },
  {
   "cell_type": "code",
   "execution_count": 72,
   "metadata": {},
   "outputs": [
    {
     "data": {
      "text/plain": [
       "RandomForestRegressor(max_depth=3, n_estimators=30)"
      ]
     },
     "execution_count": 72,
     "metadata": {},
     "output_type": "execute_result"
    },
    {
     "data": {
      "application/javascript": [
       "\n",
       "            setTimeout(function() {\n",
       "                var nbb_cell_id = 72;\n",
       "                var nbb_unformatted_code = \"model = RandomForestRegressor(n_estimators=30, max_depth=3)\\nmodel.fit(X_train, y_train)\";\n",
       "                var nbb_formatted_code = \"model = RandomForestRegressor(n_estimators=30, max_depth=3)\\nmodel.fit(X_train, y_train)\";\n",
       "                var nbb_cells = Jupyter.notebook.get_cells();\n",
       "                for (var i = 0; i < nbb_cells.length; ++i) {\n",
       "                    if (nbb_cells[i].input_prompt_number == nbb_cell_id) {\n",
       "                        if (nbb_cells[i].get_text() == nbb_unformatted_code) {\n",
       "                             nbb_cells[i].set_text(nbb_formatted_code);\n",
       "                        }\n",
       "                        break;\n",
       "                    }\n",
       "                }\n",
       "            }, 500);\n",
       "            "
      ],
      "text/plain": [
       "<IPython.core.display.Javascript object>"
      ]
     },
     "metadata": {},
     "output_type": "display_data"
    }
   ],
   "source": [
    "model = RandomForestRegressor(n_estimators=30, max_depth=3)\n",
    "model.fit(X_train, y_train)"
   ]
  },
  {
   "cell_type": "code",
   "execution_count": 73,
   "metadata": {},
   "outputs": [
    {
     "name": "stdout",
     "output_type": "stream",
     "text": [
      "train_score: 0.5497029377838132\n",
      "test_score: 0.5527170221111571\n"
     ]
    },
    {
     "data": {
      "application/javascript": [
       "\n",
       "            setTimeout(function() {\n",
       "                var nbb_cell_id = 73;\n",
       "                var nbb_unformatted_code = \"train_score = model.score(X_train, y_train)\\ntest_score = model.score(X_test, y_test)\\n\\nprint(f\\\"train_score: {train_score}\\\")\\nprint(f\\\"test_score: {test_score}\\\")\";\n",
       "                var nbb_formatted_code = \"train_score = model.score(X_train, y_train)\\ntest_score = model.score(X_test, y_test)\\n\\nprint(f\\\"train_score: {train_score}\\\")\\nprint(f\\\"test_score: {test_score}\\\")\";\n",
       "                var nbb_cells = Jupyter.notebook.get_cells();\n",
       "                for (var i = 0; i < nbb_cells.length; ++i) {\n",
       "                    if (nbb_cells[i].input_prompt_number == nbb_cell_id) {\n",
       "                        if (nbb_cells[i].get_text() == nbb_unformatted_code) {\n",
       "                             nbb_cells[i].set_text(nbb_formatted_code);\n",
       "                        }\n",
       "                        break;\n",
       "                    }\n",
       "                }\n",
       "            }, 500);\n",
       "            "
      ],
      "text/plain": [
       "<IPython.core.display.Javascript object>"
      ]
     },
     "metadata": {},
     "output_type": "display_data"
    }
   ],
   "source": [
    "train_score = model.score(X_train, y_train)\n",
    "test_score = model.score(X_test, y_test)\n",
    "\n",
    "print(f\"train_score: {train_score}\")\n",
    "print(f\"test_score: {test_score}\")"
   ]
  },
  {
   "cell_type": "code",
   "execution_count": 74,
   "metadata": {},
   "outputs": [
    {
     "data": {
      "text/plain": [
       "RandomForestClassifier(max_depth=3, n_estimators=30)"
      ]
     },
     "execution_count": 74,
     "metadata": {},
     "output_type": "execute_result"
    },
    {
     "data": {
      "application/javascript": [
       "\n",
       "            setTimeout(function() {\n",
       "                var nbb_cell_id = 74;\n",
       "                var nbb_unformatted_code = \"# Bagging + Rand features done for us\\nmodel = RandomForestClassifier(n_estimators=30, max_depth=3)\\nmodel.fit(X_train, y_train)\";\n",
       "                var nbb_formatted_code = \"# Bagging + Rand features done for us\\nmodel = RandomForestClassifier(n_estimators=30, max_depth=3)\\nmodel.fit(X_train, y_train)\";\n",
       "                var nbb_cells = Jupyter.notebook.get_cells();\n",
       "                for (var i = 0; i < nbb_cells.length; ++i) {\n",
       "                    if (nbb_cells[i].input_prompt_number == nbb_cell_id) {\n",
       "                        if (nbb_cells[i].get_text() == nbb_unformatted_code) {\n",
       "                             nbb_cells[i].set_text(nbb_formatted_code);\n",
       "                        }\n",
       "                        break;\n",
       "                    }\n",
       "                }\n",
       "            }, 500);\n",
       "            "
      ],
      "text/plain": [
       "<IPython.core.display.Javascript object>"
      ]
     },
     "metadata": {},
     "output_type": "display_data"
    }
   ],
   "source": [
    "# Bagging + Rand features done for us\n",
    "model = RandomForestClassifier(n_estimators=30, max_depth=3)\n",
    "model.fit(X_train, y_train)"
   ]
  },
  {
   "cell_type": "markdown",
   "metadata": {},
   "source": [
    "Print out the accuracy of the predictor on the training and test data."
   ]
  },
  {
   "cell_type": "code",
   "execution_count": 75,
   "metadata": {},
   "outputs": [
    {
     "name": "stdout",
     "output_type": "stream",
     "text": [
      "train_score: 0.8063419313579194\n",
      "test_score: 0.807122758150243\n"
     ]
    },
    {
     "data": {
      "application/javascript": [
       "\n",
       "            setTimeout(function() {\n",
       "                var nbb_cell_id = 75;\n",
       "                var nbb_unformatted_code = \"train_score = model.score(X_train, y_train)\\ntest_score = model.score(X_test, y_test)\\n\\nprint(f\\\"train_score: {train_score}\\\")\\nprint(f\\\"test_score: {test_score}\\\")\";\n",
       "                var nbb_formatted_code = \"train_score = model.score(X_train, y_train)\\ntest_score = model.score(X_test, y_test)\\n\\nprint(f\\\"train_score: {train_score}\\\")\\nprint(f\\\"test_score: {test_score}\\\")\";\n",
       "                var nbb_cells = Jupyter.notebook.get_cells();\n",
       "                for (var i = 0; i < nbb_cells.length; ++i) {\n",
       "                    if (nbb_cells[i].input_prompt_number == nbb_cell_id) {\n",
       "                        if (nbb_cells[i].get_text() == nbb_unformatted_code) {\n",
       "                             nbb_cells[i].set_text(nbb_formatted_code);\n",
       "                        }\n",
       "                        break;\n",
       "                    }\n",
       "                }\n",
       "            }, 500);\n",
       "            "
      ],
      "text/plain": [
       "<IPython.core.display.Javascript object>"
      ]
     },
     "metadata": {},
     "output_type": "display_data"
    }
   ],
   "source": [
    "train_score = model.score(X_train, y_train)\n",
    "test_score = model.score(X_test, y_test)\n",
    "\n",
    "print(f\"train_score: {train_score}\")\n",
    "print(f\"test_score: {test_score}\")"
   ]
  },
  {
   "cell_type": "code",
   "execution_count": 76,
   "metadata": {},
   "outputs": [
    {
     "data": {
      "text/plain": [
       "0.24561578034846374"
      ]
     },
     "execution_count": 76,
     "metadata": {},
     "output_type": "execute_result"
    },
    {
     "data": {
      "application/javascript": [
       "\n",
       "            setTimeout(function() {\n",
       "                var nbb_cell_id = 76;\n",
       "                var nbb_unformatted_code = \"y_pred = model.predict(X_test)\\nMeanAbsError = np.mean(np.abs((y_pred - y_test)))\\nMeanAbsError\";\n",
       "                var nbb_formatted_code = \"y_pred = model.predict(X_test)\\nMeanAbsError = np.mean(np.abs((y_pred - y_test)))\\nMeanAbsError\";\n",
       "                var nbb_cells = Jupyter.notebook.get_cells();\n",
       "                for (var i = 0; i < nbb_cells.length; ++i) {\n",
       "                    if (nbb_cells[i].input_prompt_number == nbb_cell_id) {\n",
       "                        if (nbb_cells[i].get_text() == nbb_unformatted_code) {\n",
       "                             nbb_cells[i].set_text(nbb_formatted_code);\n",
       "                        }\n",
       "                        break;\n",
       "                    }\n",
       "                }\n",
       "            }, 500);\n",
       "            "
      ],
      "text/plain": [
       "<IPython.core.display.Javascript object>"
      ]
     },
     "metadata": {},
     "output_type": "display_data"
    }
   ],
   "source": [
    "y_pred = model.predict(X_test)\n",
    "MeanAbsError = np.mean(np.abs((y_pred - y_test)))\n",
    "MeanAbsError"
   ]
  },
  {
   "cell_type": "code",
   "execution_count": 77,
   "metadata": {},
   "outputs": [
    {
     "data": {
      "text/plain": [
       "0.11531042454214953"
      ]
     },
     "execution_count": 77,
     "metadata": {},
     "output_type": "execute_result"
    },
    {
     "data": {
      "application/javascript": [
       "\n",
       "            setTimeout(function() {\n",
       "                var nbb_cell_id = 77;\n",
       "                var nbb_unformatted_code = \"MAPE = np.mean(np.abs(np.divide((y_pred - y_test), y_test)))\\nMAPE\";\n",
       "                var nbb_formatted_code = \"MAPE = np.mean(np.abs(np.divide((y_pred - y_test), y_test)))\\nMAPE\";\n",
       "                var nbb_cells = Jupyter.notebook.get_cells();\n",
       "                for (var i = 0; i < nbb_cells.length; ++i) {\n",
       "                    if (nbb_cells[i].input_prompt_number == nbb_cell_id) {\n",
       "                        if (nbb_cells[i].get_text() == nbb_unformatted_code) {\n",
       "                             nbb_cells[i].set_text(nbb_formatted_code);\n",
       "                        }\n",
       "                        break;\n",
       "                    }\n",
       "                }\n",
       "            }, 500);\n",
       "            "
      ],
      "text/plain": [
       "<IPython.core.display.Javascript object>"
      ]
     },
     "metadata": {},
     "output_type": "display_data"
    }
   ],
   "source": [
    "MAPE = np.mean(np.abs(np.divide((y_pred - y_test), y_test)))\n",
    "MAPE"
   ]
  },
  {
   "cell_type": "code",
   "execution_count": 78,
   "metadata": {},
   "outputs": [
    {
     "data": {
      "text/html": [
       "<div>\n",
       "<style scoped>\n",
       "    .dataframe tbody tr th:only-of-type {\n",
       "        vertical-align: middle;\n",
       "    }\n",
       "\n",
       "    .dataframe tbody tr th {\n",
       "        vertical-align: top;\n",
       "    }\n",
       "\n",
       "    .dataframe thead th {\n",
       "        text-align: right;\n",
       "    }\n",
       "</style>\n",
       "<table border=\"1\" class=\"dataframe\">\n",
       "  <thead>\n",
       "    <tr style=\"text-align: right;\">\n",
       "      <th>Pred</th>\n",
       "      <th>property damage only</th>\n",
       "      <th>pain</th>\n",
       "      <th>other injury</th>\n",
       "      <th>severe injury</th>\n",
       "      <th>fatal</th>\n",
       "    </tr>\n",
       "    <tr>\n",
       "      <th>Actual</th>\n",
       "      <th></th>\n",
       "      <th></th>\n",
       "      <th></th>\n",
       "      <th></th>\n",
       "      <th></th>\n",
       "    </tr>\n",
       "  </thead>\n",
       "  <tbody>\n",
       "    <tr>\n",
       "      <th>property damage only</th>\n",
       "      <td>2455</td>\n",
       "      <td>4091</td>\n",
       "      <td>339</td>\n",
       "      <td>1</td>\n",
       "      <td>0</td>\n",
       "    </tr>\n",
       "    <tr>\n",
       "      <th>pain</th>\n",
       "      <td>0</td>\n",
       "      <td>35906</td>\n",
       "      <td>313</td>\n",
       "      <td>0</td>\n",
       "      <td>0</td>\n",
       "    </tr>\n",
       "    <tr>\n",
       "      <th>other injury</th>\n",
       "      <td>0</td>\n",
       "      <td>3250</td>\n",
       "      <td>17357</td>\n",
       "      <td>0</td>\n",
       "      <td>0</td>\n",
       "    </tr>\n",
       "    <tr>\n",
       "      <th>severe injury</th>\n",
       "      <td>35</td>\n",
       "      <td>1789</td>\n",
       "      <td>2567</td>\n",
       "      <td>1062</td>\n",
       "      <td>0</td>\n",
       "    </tr>\n",
       "    <tr>\n",
       "      <th>fatal</th>\n",
       "      <td>1</td>\n",
       "      <td>459</td>\n",
       "      <td>590</td>\n",
       "      <td>137</td>\n",
       "      <td>14</td>\n",
       "    </tr>\n",
       "  </tbody>\n",
       "</table>\n",
       "</div>"
      ],
      "text/plain": [
       "Pred                  property damage only   pain  other injury  \\\n",
       "Actual                                                            \n",
       "property damage only                  2455   4091           339   \n",
       "pain                                     0  35906           313   \n",
       "other injury                             0   3250         17357   \n",
       "severe injury                           35   1789          2567   \n",
       "fatal                                    1    459           590   \n",
       "\n",
       "Pred                  severe injury  fatal  \n",
       "Actual                                      \n",
       "property damage only              1      0  \n",
       "pain                              0      0  \n",
       "other injury                      0      0  \n",
       "severe injury                  1062      0  \n",
       "fatal                           137     14  "
      ]
     },
     "execution_count": 78,
     "metadata": {},
     "output_type": "execute_result"
    },
    {
     "data": {
      "application/javascript": [
       "\n",
       "            setTimeout(function() {\n",
       "                var nbb_cell_id = 78;\n",
       "                var nbb_unformatted_code = \"ConMatrix = pd.DataFrame(\\n    confusion_matrix(y_test, y_pred),\\n    columns=[\\\"property damage only\\\", \\\"pain\\\", \\\"other injury\\\", \\\"severe injury\\\", \\\"fatal\\\"],\\n    index=[\\\"property damage only\\\", \\\"pain\\\", \\\"other injury\\\", \\\"severe injury\\\", \\\"fatal\\\"],\\n)\\nConMatrix.index.name = \\\"Actual\\\"\\nConMatrix.columns.name = \\\"Pred\\\"\\nConMatrix\";\n",
       "                var nbb_formatted_code = \"ConMatrix = pd.DataFrame(\\n    confusion_matrix(y_test, y_pred),\\n    columns=[\\\"property damage only\\\", \\\"pain\\\", \\\"other injury\\\", \\\"severe injury\\\", \\\"fatal\\\"],\\n    index=[\\\"property damage only\\\", \\\"pain\\\", \\\"other injury\\\", \\\"severe injury\\\", \\\"fatal\\\"],\\n)\\nConMatrix.index.name = \\\"Actual\\\"\\nConMatrix.columns.name = \\\"Pred\\\"\\nConMatrix\";\n",
       "                var nbb_cells = Jupyter.notebook.get_cells();\n",
       "                for (var i = 0; i < nbb_cells.length; ++i) {\n",
       "                    if (nbb_cells[i].input_prompt_number == nbb_cell_id) {\n",
       "                        if (nbb_cells[i].get_text() == nbb_unformatted_code) {\n",
       "                             nbb_cells[i].set_text(nbb_formatted_code);\n",
       "                        }\n",
       "                        break;\n",
       "                    }\n",
       "                }\n",
       "            }, 500);\n",
       "            "
      ],
      "text/plain": [
       "<IPython.core.display.Javascript object>"
      ]
     },
     "metadata": {},
     "output_type": "display_data"
    }
   ],
   "source": [
    "ConMatrix = pd.DataFrame(\n",
    "    confusion_matrix(y_test, y_pred),\n",
    "    columns=[\"property damage only\", \"pain\", \"other injury\", \"severe injury\", \"fatal\"],\n",
    "    index=[\"property damage only\", \"pain\", \"other injury\", \"severe injury\", \"fatal\"],\n",
    ")\n",
    "ConMatrix.index.name = \"Actual\"\n",
    "ConMatrix.columns.name = \"Pred\"\n",
    "ConMatrix"
   ]
  },
  {
   "cell_type": "markdown",
   "metadata": {},
   "source": [
    "The model never predict any Fatal collision."
   ]
  },
  {
   "cell_type": "code",
   "execution_count": 79,
   "metadata": {},
   "outputs": [
    {
     "name": "stdout",
     "output_type": "stream",
     "text": [
      "              precision    recall  f1-score   support\n",
      "\n",
      "         1.0       0.99      0.36      0.52      6886\n",
      "         2.0       0.79      0.99      0.88     36219\n",
      "         3.0       0.82      0.84      0.83     20607\n",
      "         4.0       0.89      0.19      0.32      5453\n",
      "         5.0       1.00      0.01      0.02      1201\n",
      "\n",
      "    accuracy                           0.81     70366\n",
      "   macro avg       0.90      0.48      0.52     70366\n",
      "weighted avg       0.83      0.81      0.77     70366\n",
      "\n"
     ]
    },
    {
     "data": {
      "application/javascript": [
       "\n",
       "            setTimeout(function() {\n",
       "                var nbb_cell_id = 79;\n",
       "                var nbb_unformatted_code = \"print(classification_report(y_test, y_pred))\";\n",
       "                var nbb_formatted_code = \"print(classification_report(y_test, y_pred))\";\n",
       "                var nbb_cells = Jupyter.notebook.get_cells();\n",
       "                for (var i = 0; i < nbb_cells.length; ++i) {\n",
       "                    if (nbb_cells[i].input_prompt_number == nbb_cell_id) {\n",
       "                        if (nbb_cells[i].get_text() == nbb_unformatted_code) {\n",
       "                             nbb_cells[i].set_text(nbb_formatted_code);\n",
       "                        }\n",
       "                        break;\n",
       "                    }\n",
       "                }\n",
       "            }, 500);\n",
       "            "
      ],
      "text/plain": [
       "<IPython.core.display.Javascript object>"
      ]
     },
     "metadata": {},
     "output_type": "display_data"
    }
   ],
   "source": [
    "print(classification_report(y_test, y_pred))"
   ]
  },
  {
   "cell_type": "code",
   "execution_count": 80,
   "metadata": {},
   "outputs": [
    {
     "data": {
      "text/plain": [
       "2.0    0.514723\n",
       "3.0    0.292855\n",
       "1.0    0.097860\n",
       "4.0    0.077495\n",
       "5.0    0.017068\n",
       "Name: collision_severity, dtype: float64"
      ]
     },
     "execution_count": 80,
     "metadata": {},
     "output_type": "execute_result"
    },
    {
     "data": {
      "application/javascript": [
       "\n",
       "            setTimeout(function() {\n",
       "                var nbb_cell_id = 80;\n",
       "                var nbb_unformatted_code = \"y_test.value_counts(normalize=True)\";\n",
       "                var nbb_formatted_code = \"y_test.value_counts(normalize=True)\";\n",
       "                var nbb_cells = Jupyter.notebook.get_cells();\n",
       "                for (var i = 0; i < nbb_cells.length; ++i) {\n",
       "                    if (nbb_cells[i].input_prompt_number == nbb_cell_id) {\n",
       "                        if (nbb_cells[i].get_text() == nbb_unformatted_code) {\n",
       "                             nbb_cells[i].set_text(nbb_formatted_code);\n",
       "                        }\n",
       "                        break;\n",
       "                    }\n",
       "                }\n",
       "            }, 500);\n",
       "            "
      ],
      "text/plain": [
       "<IPython.core.display.Javascript object>"
      ]
     },
     "metadata": {},
     "output_type": "display_data"
    }
   ],
   "source": [
    "y_test.value_counts(normalize=True)"
   ]
  },
  {
   "cell_type": "markdown",
   "metadata": {},
   "source": [
    "Importance for feature selection"
   ]
  },
  {
   "cell_type": "code",
   "execution_count": 81,
   "metadata": {},
   "outputs": [
    {
     "data": {
      "application/javascript": [
       "\n",
       "            setTimeout(function() {\n",
       "                var nbb_cell_id = 81;\n",
       "                var nbb_unformatted_code = \"# selector = SelectFromModel(RandomForestClassifier(), max_features=2)\\n# selector.fit(X_train, y_train)\\n# X_train.loc[:, selector.get_support()].head()\";\n",
       "                var nbb_formatted_code = \"# selector = SelectFromModel(RandomForestClassifier(), max_features=2)\\n# selector.fit(X_train, y_train)\\n# X_train.loc[:, selector.get_support()].head()\";\n",
       "                var nbb_cells = Jupyter.notebook.get_cells();\n",
       "                for (var i = 0; i < nbb_cells.length; ++i) {\n",
       "                    if (nbb_cells[i].input_prompt_number == nbb_cell_id) {\n",
       "                        if (nbb_cells[i].get_text() == nbb_unformatted_code) {\n",
       "                             nbb_cells[i].set_text(nbb_formatted_code);\n",
       "                        }\n",
       "                        break;\n",
       "                    }\n",
       "                }\n",
       "            }, 500);\n",
       "            "
      ],
      "text/plain": [
       "<IPython.core.display.Javascript object>"
      ]
     },
     "metadata": {},
     "output_type": "display_data"
    }
   ],
   "source": [
    "# selector = SelectFromModel(RandomForestClassifier(), max_features=2)\n",
    "# selector.fit(X_train, y_train)\n",
    "# X_train.loc[:, selector.get_support()].head()"
   ]
  },
  {
   "cell_type": "markdown",
   "metadata": {},
   "source": [
    "Tuning Random Forest"
   ]
  },
  {
   "cell_type": "code",
   "execution_count": 83,
   "metadata": {},
   "outputs": [
    {
     "data": {
      "application/javascript": [
       "\n",
       "            setTimeout(function() {\n",
       "                var nbb_cell_id = 83;\n",
       "                var nbb_unformatted_code = \"# grid = {\\n#     \\\"n_estimators\\\": [100, 200, 300],\\n#     \\\"max_depth\\\": [2, 3, 5],\\n#     \\\"min_samples_leaf\\\": [1, 50, 100],\\n# }\\n# model = GridSearchCV(RandomForestClassifier(), grid, cv=2, verbose=1, n_jobs=-1)\\n# model.fit(X_train, y_train)\";\n",
       "                var nbb_formatted_code = \"# grid = {\\n#     \\\"n_estimators\\\": [100, 200, 300],\\n#     \\\"max_depth\\\": [2, 3, 5],\\n#     \\\"min_samples_leaf\\\": [1, 50, 100],\\n# }\\n# model = GridSearchCV(RandomForestClassifier(), grid, cv=2, verbose=1, n_jobs=-1)\\n# model.fit(X_train, y_train)\";\n",
       "                var nbb_cells = Jupyter.notebook.get_cells();\n",
       "                for (var i = 0; i < nbb_cells.length; ++i) {\n",
       "                    if (nbb_cells[i].input_prompt_number == nbb_cell_id) {\n",
       "                        if (nbb_cells[i].get_text() == nbb_unformatted_code) {\n",
       "                             nbb_cells[i].set_text(nbb_formatted_code);\n",
       "                        }\n",
       "                        break;\n",
       "                    }\n",
       "                }\n",
       "            }, 500);\n",
       "            "
      ],
      "text/plain": [
       "<IPython.core.display.Javascript object>"
      ]
     },
     "metadata": {},
     "output_type": "display_data"
    }
   ],
   "source": [
    "# grid = {\n",
    "#     \"n_estimators\": [100, 200, 300],\n",
    "#     \"max_depth\": [2, 3, 5],\n",
    "#     \"min_samples_leaf\": [1, 50, 100],\n",
    "# }\n",
    "# model = GridSearchCV(RandomForestClassifier(), grid, cv=2, verbose=1, n_jobs=-1)\n",
    "# model.fit(X_train, y_train)"
   ]
  },
  {
   "cell_type": "code",
   "execution_count": 85,
   "metadata": {},
   "outputs": [
    {
     "data": {
      "application/javascript": [
       "\n",
       "            setTimeout(function() {\n",
       "                var nbb_cell_id = 85;\n",
       "                var nbb_unformatted_code = \"#model.best_params_\";\n",
       "                var nbb_formatted_code = \"# model.best_params_\";\n",
       "                var nbb_cells = Jupyter.notebook.get_cells();\n",
       "                for (var i = 0; i < nbb_cells.length; ++i) {\n",
       "                    if (nbb_cells[i].input_prompt_number == nbb_cell_id) {\n",
       "                        if (nbb_cells[i].get_text() == nbb_unformatted_code) {\n",
       "                             nbb_cells[i].set_text(nbb_formatted_code);\n",
       "                        }\n",
       "                        break;\n",
       "                    }\n",
       "                }\n",
       "            }, 500);\n",
       "            "
      ],
      "text/plain": [
       "<IPython.core.display.Javascript object>"
      ]
     },
     "metadata": {},
     "output_type": "display_data"
    }
   ],
   "source": [
    "# model.best_params_"
   ]
  },
  {
   "cell_type": "markdown",
   "metadata": {},
   "source": [
    "This is the best tree that has been chosen by the grid search"
   ]
  },
  {
   "cell_type": "code",
   "execution_count": 86,
   "metadata": {},
   "outputs": [
    {
     "data": {
      "text/plain": [
       "RandomForestClassifier(max_depth=5, n_estimators=300)"
      ]
     },
     "execution_count": 86,
     "metadata": {},
     "output_type": "execute_result"
    },
    {
     "data": {
      "application/javascript": [
       "\n",
       "            setTimeout(function() {\n",
       "                var nbb_cell_id = 86;\n",
       "                var nbb_unformatted_code = \"model = RandomForestClassifier(max_depth=5, min_samples_leaf=1, n_estimators=300)\\nmodel.fit(X_train, y_train)\";\n",
       "                var nbb_formatted_code = \"model = RandomForestClassifier(max_depth=5, min_samples_leaf=1, n_estimators=300)\\nmodel.fit(X_train, y_train)\";\n",
       "                var nbb_cells = Jupyter.notebook.get_cells();\n",
       "                for (var i = 0; i < nbb_cells.length; ++i) {\n",
       "                    if (nbb_cells[i].input_prompt_number == nbb_cell_id) {\n",
       "                        if (nbb_cells[i].get_text() == nbb_unformatted_code) {\n",
       "                             nbb_cells[i].set_text(nbb_formatted_code);\n",
       "                        }\n",
       "                        break;\n",
       "                    }\n",
       "                }\n",
       "            }, 500);\n",
       "            "
      ],
      "text/plain": [
       "<IPython.core.display.Javascript object>"
      ]
     },
     "metadata": {},
     "output_type": "display_data"
    }
   ],
   "source": [
    "model = RandomForestClassifier(max_depth=5, min_samples_leaf=1, n_estimators=300)\n",
    "model.fit(X_train, y_train)"
   ]
  },
  {
   "cell_type": "code",
   "execution_count": 87,
   "metadata": {},
   "outputs": [
    {
     "data": {
      "text/plain": [
       "0.05072051843219737"
      ]
     },
     "execution_count": 87,
     "metadata": {},
     "output_type": "execute_result"
    },
    {
     "data": {
      "application/javascript": [
       "\n",
       "            setTimeout(function() {\n",
       "                var nbb_cell_id = 87;\n",
       "                var nbb_unformatted_code = \"y_pred = model.predict(X_test)\\nMeanAbsError = np.mean(np.abs((y_pred - y_test)))\\nMeanAbsError\";\n",
       "                var nbb_formatted_code = \"y_pred = model.predict(X_test)\\nMeanAbsError = np.mean(np.abs((y_pred - y_test)))\\nMeanAbsError\";\n",
       "                var nbb_cells = Jupyter.notebook.get_cells();\n",
       "                for (var i = 0; i < nbb_cells.length; ++i) {\n",
       "                    if (nbb_cells[i].input_prompt_number == nbb_cell_id) {\n",
       "                        if (nbb_cells[i].get_text() == nbb_unformatted_code) {\n",
       "                             nbb_cells[i].set_text(nbb_formatted_code);\n",
       "                        }\n",
       "                        break;\n",
       "                    }\n",
       "                }\n",
       "            }, 500);\n",
       "            "
      ],
      "text/plain": [
       "<IPython.core.display.Javascript object>"
      ]
     },
     "metadata": {},
     "output_type": "display_data"
    }
   ],
   "source": [
    "y_pred = model.predict(X_test)\n",
    "MeanAbsError = np.mean(np.abs((y_pred - y_test)))\n",
    "MeanAbsError"
   ]
  },
  {
   "cell_type": "code",
   "execution_count": 88,
   "metadata": {},
   "outputs": [
    {
     "data": {
      "text/plain": [
       "array([4., 3., 1., ..., 2., 2., 3.])"
      ]
     },
     "execution_count": 88,
     "metadata": {},
     "output_type": "execute_result"
    },
    {
     "data": {
      "application/javascript": [
       "\n",
       "            setTimeout(function() {\n",
       "                var nbb_cell_id = 88;\n",
       "                var nbb_unformatted_code = \"y_pred\";\n",
       "                var nbb_formatted_code = \"y_pred\";\n",
       "                var nbb_cells = Jupyter.notebook.get_cells();\n",
       "                for (var i = 0; i < nbb_cells.length; ++i) {\n",
       "                    if (nbb_cells[i].input_prompt_number == nbb_cell_id) {\n",
       "                        if (nbb_cells[i].get_text() == nbb_unformatted_code) {\n",
       "                             nbb_cells[i].set_text(nbb_formatted_code);\n",
       "                        }\n",
       "                        break;\n",
       "                    }\n",
       "                }\n",
       "            }, 500);\n",
       "            "
      ],
      "text/plain": [
       "<IPython.core.display.Javascript object>"
      ]
     },
     "metadata": {},
     "output_type": "display_data"
    }
   ],
   "source": [
    "y_pred"
   ]
  },
  {
   "cell_type": "code",
   "execution_count": 89,
   "metadata": {},
   "outputs": [
    {
     "data": {
      "text/html": [
       "<div>\n",
       "<style scoped>\n",
       "    .dataframe tbody tr th:only-of-type {\n",
       "        vertical-align: middle;\n",
       "    }\n",
       "\n",
       "    .dataframe tbody tr th {\n",
       "        vertical-align: top;\n",
       "    }\n",
       "\n",
       "    .dataframe thead th {\n",
       "        text-align: right;\n",
       "    }\n",
       "</style>\n",
       "<table border=\"1\" class=\"dataframe\">\n",
       "  <thead>\n",
       "    <tr style=\"text-align: right;\">\n",
       "      <th>Pred</th>\n",
       "      <th>property damage only</th>\n",
       "      <th>pain</th>\n",
       "      <th>other injury</th>\n",
       "      <th>severe injury</th>\n",
       "      <th>fatal</th>\n",
       "    </tr>\n",
       "    <tr>\n",
       "      <th>Actual</th>\n",
       "      <th></th>\n",
       "      <th></th>\n",
       "      <th></th>\n",
       "      <th></th>\n",
       "      <th></th>\n",
       "    </tr>\n",
       "  </thead>\n",
       "  <tbody>\n",
       "    <tr>\n",
       "      <th>property damage only</th>\n",
       "      <td>6819</td>\n",
       "      <td>28</td>\n",
       "      <td>29</td>\n",
       "      <td>10</td>\n",
       "      <td>0</td>\n",
       "    </tr>\n",
       "    <tr>\n",
       "      <th>pain</th>\n",
       "      <td>0</td>\n",
       "      <td>36178</td>\n",
       "      <td>25</td>\n",
       "      <td>16</td>\n",
       "      <td>0</td>\n",
       "    </tr>\n",
       "    <tr>\n",
       "      <th>other injury</th>\n",
       "      <td>0</td>\n",
       "      <td>665</td>\n",
       "      <td>19928</td>\n",
       "      <td>14</td>\n",
       "      <td>0</td>\n",
       "    </tr>\n",
       "    <tr>\n",
       "      <th>severe injury</th>\n",
       "      <td>63</td>\n",
       "      <td>352</td>\n",
       "      <td>545</td>\n",
       "      <td>4493</td>\n",
       "      <td>0</td>\n",
       "    </tr>\n",
       "    <tr>\n",
       "      <th>fatal</th>\n",
       "      <td>66</td>\n",
       "      <td>74</td>\n",
       "      <td>194</td>\n",
       "      <td>405</td>\n",
       "      <td>462</td>\n",
       "    </tr>\n",
       "  </tbody>\n",
       "</table>\n",
       "</div>"
      ],
      "text/plain": [
       "Pred                  property damage only   pain  other injury  \\\n",
       "Actual                                                            \n",
       "property damage only                  6819     28            29   \n",
       "pain                                     0  36178            25   \n",
       "other injury                             0    665         19928   \n",
       "severe injury                           63    352           545   \n",
       "fatal                                   66     74           194   \n",
       "\n",
       "Pred                  severe injury  fatal  \n",
       "Actual                                      \n",
       "property damage only             10      0  \n",
       "pain                             16      0  \n",
       "other injury                     14      0  \n",
       "severe injury                  4493      0  \n",
       "fatal                           405    462  "
      ]
     },
     "execution_count": 89,
     "metadata": {},
     "output_type": "execute_result"
    },
    {
     "data": {
      "application/javascript": [
       "\n",
       "            setTimeout(function() {\n",
       "                var nbb_cell_id = 89;\n",
       "                var nbb_unformatted_code = \"ConMatrix = pd.DataFrame(\\n    confusion_matrix(y_test, y_pred),\\n    columns=[\\\"property damage only\\\", \\\"pain\\\", \\\"other injury\\\", \\\"severe injury\\\", \\\"fatal\\\"],\\n    index=[\\\"property damage only\\\", \\\"pain\\\", \\\"other injury\\\", \\\"severe injury\\\", \\\"fatal\\\"],\\n)\\nConMatrix.index.name = \\\"Actual\\\"\\nConMatrix.columns.name = \\\"Pred\\\"\\nConMatrix\";\n",
       "                var nbb_formatted_code = \"ConMatrix = pd.DataFrame(\\n    confusion_matrix(y_test, y_pred),\\n    columns=[\\\"property damage only\\\", \\\"pain\\\", \\\"other injury\\\", \\\"severe injury\\\", \\\"fatal\\\"],\\n    index=[\\\"property damage only\\\", \\\"pain\\\", \\\"other injury\\\", \\\"severe injury\\\", \\\"fatal\\\"],\\n)\\nConMatrix.index.name = \\\"Actual\\\"\\nConMatrix.columns.name = \\\"Pred\\\"\\nConMatrix\";\n",
       "                var nbb_cells = Jupyter.notebook.get_cells();\n",
       "                for (var i = 0; i < nbb_cells.length; ++i) {\n",
       "                    if (nbb_cells[i].input_prompt_number == nbb_cell_id) {\n",
       "                        if (nbb_cells[i].get_text() == nbb_unformatted_code) {\n",
       "                             nbb_cells[i].set_text(nbb_formatted_code);\n",
       "                        }\n",
       "                        break;\n",
       "                    }\n",
       "                }\n",
       "            }, 500);\n",
       "            "
      ],
      "text/plain": [
       "<IPython.core.display.Javascript object>"
      ]
     },
     "metadata": {},
     "output_type": "display_data"
    }
   ],
   "source": [
    "ConMatrix = pd.DataFrame(\n",
    "    confusion_matrix(y_test, y_pred),\n",
    "    columns=[\"property damage only\", \"pain\", \"other injury\", \"severe injury\", \"fatal\"],\n",
    "    index=[\"property damage only\", \"pain\", \"other injury\", \"severe injury\", \"fatal\"],\n",
    ")\n",
    "ConMatrix.index.name = \"Actual\"\n",
    "ConMatrix.columns.name = \"Pred\"\n",
    "ConMatrix"
   ]
  },
  {
   "cell_type": "code",
   "execution_count": 90,
   "metadata": {},
   "outputs": [
    {
     "data": {
      "text/plain": [
       "0.9646983585589427"
      ]
     },
     "execution_count": 90,
     "metadata": {},
     "output_type": "execute_result"
    },
    {
     "data": {
      "application/javascript": [
       "\n",
       "            setTimeout(function() {\n",
       "                var nbb_cell_id = 90;\n",
       "                var nbb_unformatted_code = \"model.score(X_train, y_train)\";\n",
       "                var nbb_formatted_code = \"model.score(X_train, y_train)\";\n",
       "                var nbb_cells = Jupyter.notebook.get_cells();\n",
       "                for (var i = 0; i < nbb_cells.length; ++i) {\n",
       "                    if (nbb_cells[i].input_prompt_number == nbb_cell_id) {\n",
       "                        if (nbb_cells[i].get_text() == nbb_unformatted_code) {\n",
       "                             nbb_cells[i].set_text(nbb_formatted_code);\n",
       "                        }\n",
       "                        break;\n",
       "                    }\n",
       "                }\n",
       "            }, 500);\n",
       "            "
      ],
      "text/plain": [
       "<IPython.core.display.Javascript object>"
      ]
     },
     "metadata": {},
     "output_type": "display_data"
    }
   ],
   "source": [
    "model.score(X_train, y_train)"
   ]
  },
  {
   "cell_type": "code",
   "execution_count": 91,
   "metadata": {},
   "outputs": [
    {
     "data": {
      "text/plain": [
       "0.9646704374271665"
      ]
     },
     "execution_count": 91,
     "metadata": {},
     "output_type": "execute_result"
    },
    {
     "data": {
      "application/javascript": [
       "\n",
       "            setTimeout(function() {\n",
       "                var nbb_cell_id = 91;\n",
       "                var nbb_unformatted_code = \"model.score(X_test, y_test)\";\n",
       "                var nbb_formatted_code = \"model.score(X_test, y_test)\";\n",
       "                var nbb_cells = Jupyter.notebook.get_cells();\n",
       "                for (var i = 0; i < nbb_cells.length; ++i) {\n",
       "                    if (nbb_cells[i].input_prompt_number == nbb_cell_id) {\n",
       "                        if (nbb_cells[i].get_text() == nbb_unformatted_code) {\n",
       "                             nbb_cells[i].set_text(nbb_formatted_code);\n",
       "                        }\n",
       "                        break;\n",
       "                    }\n",
       "                }\n",
       "            }, 500);\n",
       "            "
      ],
      "text/plain": [
       "<IPython.core.display.Javascript object>"
      ]
     },
     "metadata": {},
     "output_type": "display_data"
    }
   ],
   "source": [
    "model.score(X_test, y_test)"
   ]
  },
  {
   "cell_type": "code",
   "execution_count": 92,
   "metadata": {},
   "outputs": [
    {
     "data": {
      "text/plain": [
       "array([0.14347272, 0.0148575 , 0.4495597 , 0.24141049, 0.03493254,\n",
       "       0.11576705])"
      ]
     },
     "execution_count": 92,
     "metadata": {},
     "output_type": "execute_result"
    },
    {
     "data": {
      "application/javascript": [
       "\n",
       "            setTimeout(function() {\n",
       "                var nbb_cell_id = 92;\n",
       "                var nbb_unformatted_code = \"# best_model = model.best_estimator_\\nmodel.feature_importances_\";\n",
       "                var nbb_formatted_code = \"# best_model = model.best_estimator_\\nmodel.feature_importances_\";\n",
       "                var nbb_cells = Jupyter.notebook.get_cells();\n",
       "                for (var i = 0; i < nbb_cells.length; ++i) {\n",
       "                    if (nbb_cells[i].input_prompt_number == nbb_cell_id) {\n",
       "                        if (nbb_cells[i].get_text() == nbb_unformatted_code) {\n",
       "                             nbb_cells[i].set_text(nbb_formatted_code);\n",
       "                        }\n",
       "                        break;\n",
       "                    }\n",
       "                }\n",
       "            }, 500);\n",
       "            "
      ],
      "text/plain": [
       "<IPython.core.display.Javascript object>"
      ]
     },
     "metadata": {},
     "output_type": "display_data"
    }
   ],
   "source": [
    "# best_model = model.best_estimator_\n",
    "model.feature_importances_"
   ]
  },
  {
   "cell_type": "code",
   "execution_count": 93,
   "metadata": {},
   "outputs": [
    {
     "data": {
      "text/html": [
       "<div>\n",
       "<style scoped>\n",
       "    .dataframe tbody tr th:only-of-type {\n",
       "        vertical-align: middle;\n",
       "    }\n",
       "\n",
       "    .dataframe tbody tr th {\n",
       "        vertical-align: top;\n",
       "    }\n",
       "\n",
       "    .dataframe thead th {\n",
       "        text-align: right;\n",
       "    }\n",
       "</style>\n",
       "<table border=\"1\" class=\"dataframe\">\n",
       "  <thead>\n",
       "    <tr style=\"text-align: right;\">\n",
       "      <th></th>\n",
       "      <th>feat</th>\n",
       "      <th>importance</th>\n",
       "    </tr>\n",
       "  </thead>\n",
       "  <tbody>\n",
       "    <tr>\n",
       "      <th>2</th>\n",
       "      <td>victim_role</td>\n",
       "      <td>0.449560</td>\n",
       "    </tr>\n",
       "    <tr>\n",
       "      <th>3</th>\n",
       "      <td>victim_safety_equipment_1</td>\n",
       "      <td>0.241410</td>\n",
       "    </tr>\n",
       "    <tr>\n",
       "      <th>0</th>\n",
       "      <td>victim_seating_position</td>\n",
       "      <td>0.143473</td>\n",
       "    </tr>\n",
       "    <tr>\n",
       "      <th>5</th>\n",
       "      <td>secondary_road</td>\n",
       "      <td>0.115767</td>\n",
       "    </tr>\n",
       "    <tr>\n",
       "      <th>4</th>\n",
       "      <td>primary_road</td>\n",
       "      <td>0.034933</td>\n",
       "    </tr>\n",
       "    <tr>\n",
       "      <th>1</th>\n",
       "      <td>type_of_collision</td>\n",
       "      <td>0.014857</td>\n",
       "    </tr>\n",
       "  </tbody>\n",
       "</table>\n",
       "</div>"
      ],
      "text/plain": [
       "                        feat  importance\n",
       "2                victim_role    0.449560\n",
       "3  victim_safety_equipment_1    0.241410\n",
       "0    victim_seating_position    0.143473\n",
       "5             secondary_road    0.115767\n",
       "4               primary_road    0.034933\n",
       "1          type_of_collision    0.014857"
      ]
     },
     "execution_count": 93,
     "metadata": {},
     "output_type": "execute_result"
    },
    {
     "data": {
      "application/javascript": [
       "\n",
       "            setTimeout(function() {\n",
       "                var nbb_cell_id = 93;\n",
       "                var nbb_unformatted_code = \"importance_df = pd.DataFrame(\\n    {\\n        \\\"feat\\\": df1.drop(columns=\\\"collision_severity\\\").columns,\\n        \\\"importance\\\": model.feature_importances_,\\n    }\\n)\\nimportance_df.sort_values(\\\"importance\\\", ascending=False)\";\n",
       "                var nbb_formatted_code = \"importance_df = pd.DataFrame(\\n    {\\n        \\\"feat\\\": df1.drop(columns=\\\"collision_severity\\\").columns,\\n        \\\"importance\\\": model.feature_importances_,\\n    }\\n)\\nimportance_df.sort_values(\\\"importance\\\", ascending=False)\";\n",
       "                var nbb_cells = Jupyter.notebook.get_cells();\n",
       "                for (var i = 0; i < nbb_cells.length; ++i) {\n",
       "                    if (nbb_cells[i].input_prompt_number == nbb_cell_id) {\n",
       "                        if (nbb_cells[i].get_text() == nbb_unformatted_code) {\n",
       "                             nbb_cells[i].set_text(nbb_formatted_code);\n",
       "                        }\n",
       "                        break;\n",
       "                    }\n",
       "                }\n",
       "            }, 500);\n",
       "            "
      ],
      "text/plain": [
       "<IPython.core.display.Javascript object>"
      ]
     },
     "metadata": {},
     "output_type": "display_data"
    }
   ],
   "source": [
    "importance_df = pd.DataFrame(\n",
    "    {\n",
    "        \"feat\": df1.drop(columns=\"collision_severity\").columns,\n",
    "        \"importance\": model.feature_importances_,\n",
    "    }\n",
    ")\n",
    "importance_df.sort_values(\"importance\", ascending=False)"
   ]
  },
  {
   "cell_type": "markdown",
   "metadata": {},
   "source": [
    "2) Logistic Regression"
   ]
  },
  {
   "cell_type": "code",
   "execution_count": 94,
   "metadata": {},
   "outputs": [
    {
     "name": "stdout",
     "output_type": "stream",
     "text": [
      "Fitting 2 folds for each of 10 candidates, totalling 20 fits\n"
     ]
    },
    {
     "name": "stderr",
     "output_type": "stream",
     "text": [
      "[Parallel(n_jobs=-1)]: Using backend LokyBackend with 8 concurrent workers.\n",
      "[Parallel(n_jobs=-1)]: Done  20 out of  20 | elapsed:   28.7s finished\n",
      "C:\\Users\\lgssh\\anaconda3\\lib\\site-packages\\sklearn\\linear_model\\_logistic.py:762: ConvergenceWarning: lbfgs failed to converge (status=1):\n",
      "STOP: TOTAL NO. of ITERATIONS REACHED LIMIT.\n",
      "\n",
      "Increase the number of iterations (max_iter) or scale the data as shown in:\n",
      "    https://scikit-learn.org/stable/modules/preprocessing.html\n",
      "Please also refer to the documentation for alternative solver options:\n",
      "    https://scikit-learn.org/stable/modules/linear_model.html#logistic-regression\n",
      "  n_iter_i = _check_optimize_result(\n"
     ]
    },
    {
     "data": {
      "text/plain": [
       "GridSearchCV(cv=2, estimator=LogisticRegression(), n_jobs=-1,\n",
       "             param_grid={'C': [10, 100, 1000, 10000, 100000],\n",
       "                         'multi_class': ['ovr', 'multinomial']},\n",
       "             verbose=1)"
      ]
     },
     "execution_count": 94,
     "metadata": {},
     "output_type": "execute_result"
    },
    {
     "data": {
      "application/javascript": [
       "\n",
       "            setTimeout(function() {\n",
       "                var nbb_cell_id = 94;\n",
       "                var nbb_unformatted_code = \"grid = {\\\"C\\\": [10, 100, 1000, 10000, 100000], \\\"multi_class\\\": [\\\"ovr\\\", \\\"multinomial\\\"]}\\n\\nmodel = GridSearchCV(LogisticRegression(), grid, cv=2, verbose=1, n_jobs=-1)\\nmodel.fit(X_train, y_train)\";\n",
       "                var nbb_formatted_code = \"grid = {\\\"C\\\": [10, 100, 1000, 10000, 100000], \\\"multi_class\\\": [\\\"ovr\\\", \\\"multinomial\\\"]}\\n\\nmodel = GridSearchCV(LogisticRegression(), grid, cv=2, verbose=1, n_jobs=-1)\\nmodel.fit(X_train, y_train)\";\n",
       "                var nbb_cells = Jupyter.notebook.get_cells();\n",
       "                for (var i = 0; i < nbb_cells.length; ++i) {\n",
       "                    if (nbb_cells[i].input_prompt_number == nbb_cell_id) {\n",
       "                        if (nbb_cells[i].get_text() == nbb_unformatted_code) {\n",
       "                             nbb_cells[i].set_text(nbb_formatted_code);\n",
       "                        }\n",
       "                        break;\n",
       "                    }\n",
       "                }\n",
       "            }, 500);\n",
       "            "
      ],
      "text/plain": [
       "<IPython.core.display.Javascript object>"
      ]
     },
     "metadata": {},
     "output_type": "display_data"
    }
   ],
   "source": [
    "grid = {\"C\": [10, 100, 1000, 10000, 100000], \"multi_class\": [\"ovr\", \"multinomial\"]}\n",
    "\n",
    "model = GridSearchCV(LogisticRegression(), grid, cv=2, verbose=1, n_jobs=-1)\n",
    "model.fit(X_train, y_train)"
   ]
  },
  {
   "cell_type": "code",
   "execution_count": 95,
   "metadata": {},
   "outputs": [
    {
     "data": {
      "text/plain": [
       "0.3405195691100816"
      ]
     },
     "execution_count": 95,
     "metadata": {},
     "output_type": "execute_result"
    },
    {
     "data": {
      "application/javascript": [
       "\n",
       "            setTimeout(function() {\n",
       "                var nbb_cell_id = 95;\n",
       "                var nbb_unformatted_code = \"y_pred = model.predict(X_test)\\nMeanAbsError = np.mean(np.abs((y_pred - y_test)))\\nMeanAbsError\";\n",
       "                var nbb_formatted_code = \"y_pred = model.predict(X_test)\\nMeanAbsError = np.mean(np.abs((y_pred - y_test)))\\nMeanAbsError\";\n",
       "                var nbb_cells = Jupyter.notebook.get_cells();\n",
       "                for (var i = 0; i < nbb_cells.length; ++i) {\n",
       "                    if (nbb_cells[i].input_prompt_number == nbb_cell_id) {\n",
       "                        if (nbb_cells[i].get_text() == nbb_unformatted_code) {\n",
       "                             nbb_cells[i].set_text(nbb_formatted_code);\n",
       "                        }\n",
       "                        break;\n",
       "                    }\n",
       "                }\n",
       "            }, 500);\n",
       "            "
      ],
      "text/plain": [
       "<IPython.core.display.Javascript object>"
      ]
     },
     "metadata": {},
     "output_type": "display_data"
    }
   ],
   "source": [
    "y_pred = model.predict(X_test)\n",
    "MeanAbsError = np.mean(np.abs((y_pred - y_test)))\n",
    "MeanAbsError"
   ]
  },
  {
   "cell_type": "code",
   "execution_count": 96,
   "metadata": {},
   "outputs": [
    {
     "data": {
      "text/plain": [
       "{'C': 1000, 'multi_class': 'multinomial'}"
      ]
     },
     "execution_count": 96,
     "metadata": {},
     "output_type": "execute_result"
    },
    {
     "data": {
      "application/javascript": [
       "\n",
       "            setTimeout(function() {\n",
       "                var nbb_cell_id = 96;\n",
       "                var nbb_unformatted_code = \"model.best_params_\";\n",
       "                var nbb_formatted_code = \"model.best_params_\";\n",
       "                var nbb_cells = Jupyter.notebook.get_cells();\n",
       "                for (var i = 0; i < nbb_cells.length; ++i) {\n",
       "                    if (nbb_cells[i].input_prompt_number == nbb_cell_id) {\n",
       "                        if (nbb_cells[i].get_text() == nbb_unformatted_code) {\n",
       "                             nbb_cells[i].set_text(nbb_formatted_code);\n",
       "                        }\n",
       "                        break;\n",
       "                    }\n",
       "                }\n",
       "            }, 500);\n",
       "            "
      ],
      "text/plain": [
       "<IPython.core.display.Javascript object>"
      ]
     },
     "metadata": {},
     "output_type": "display_data"
    }
   ],
   "source": [
    "model.best_params_"
   ]
  },
  {
   "cell_type": "code",
   "execution_count": 97,
   "metadata": {},
   "outputs": [
    {
     "data": {
      "text/plain": [
       "0.6853975698145385"
      ]
     },
     "execution_count": 97,
     "metadata": {},
     "output_type": "execute_result"
    },
    {
     "data": {
      "application/javascript": [
       "\n",
       "            setTimeout(function() {\n",
       "                var nbb_cell_id = 97;\n",
       "                var nbb_unformatted_code = \"model.score(X_train, y_train)\";\n",
       "                var nbb_formatted_code = \"model.score(X_train, y_train)\";\n",
       "                var nbb_cells = Jupyter.notebook.get_cells();\n",
       "                for (var i = 0; i < nbb_cells.length; ++i) {\n",
       "                    if (nbb_cells[i].input_prompt_number == nbb_cell_id) {\n",
       "                        if (nbb_cells[i].get_text() == nbb_unformatted_code) {\n",
       "                             nbb_cells[i].set_text(nbb_formatted_code);\n",
       "                        }\n",
       "                        break;\n",
       "                    }\n",
       "                }\n",
       "            }, 500);\n",
       "            "
      ],
      "text/plain": [
       "<IPython.core.display.Javascript object>"
      ]
     },
     "metadata": {},
     "output_type": "display_data"
    }
   ],
   "source": [
    "model.score(X_train, y_train)"
   ]
  },
  {
   "cell_type": "code",
   "execution_count": 98,
   "metadata": {},
   "outputs": [
    {
     "data": {
      "text/plain": [
       "0.6872637353267202"
      ]
     },
     "execution_count": 98,
     "metadata": {},
     "output_type": "execute_result"
    },
    {
     "data": {
      "application/javascript": [
       "\n",
       "            setTimeout(function() {\n",
       "                var nbb_cell_id = 98;\n",
       "                var nbb_unformatted_code = \"model.score(X_test, y_test)\";\n",
       "                var nbb_formatted_code = \"model.score(X_test, y_test)\";\n",
       "                var nbb_cells = Jupyter.notebook.get_cells();\n",
       "                for (var i = 0; i < nbb_cells.length; ++i) {\n",
       "                    if (nbb_cells[i].input_prompt_number == nbb_cell_id) {\n",
       "                        if (nbb_cells[i].get_text() == nbb_unformatted_code) {\n",
       "                             nbb_cells[i].set_text(nbb_formatted_code);\n",
       "                        }\n",
       "                        break;\n",
       "                    }\n",
       "                }\n",
       "            }, 500);\n",
       "            "
      ],
      "text/plain": [
       "<IPython.core.display.Javascript object>"
      ]
     },
     "metadata": {},
     "output_type": "display_data"
    }
   ],
   "source": [
    "model.score(X_test, y_test)"
   ]
  },
  {
   "cell_type": "code",
   "execution_count": 99,
   "metadata": {},
   "outputs": [
    {
     "data": {
      "text/html": [
       "<div>\n",
       "<style scoped>\n",
       "    .dataframe tbody tr th:only-of-type {\n",
       "        vertical-align: middle;\n",
       "    }\n",
       "\n",
       "    .dataframe tbody tr th {\n",
       "        vertical-align: top;\n",
       "    }\n",
       "\n",
       "    .dataframe thead th {\n",
       "        text-align: right;\n",
       "    }\n",
       "</style>\n",
       "<table border=\"1\" class=\"dataframe\">\n",
       "  <thead>\n",
       "    <tr style=\"text-align: right;\">\n",
       "      <th>Pred</th>\n",
       "      <th>property damage only</th>\n",
       "      <th>pain</th>\n",
       "      <th>other injury</th>\n",
       "      <th>severe injury</th>\n",
       "      <th>fatal</th>\n",
       "    </tr>\n",
       "    <tr>\n",
       "      <th>Actual</th>\n",
       "      <th></th>\n",
       "      <th></th>\n",
       "      <th></th>\n",
       "      <th></th>\n",
       "      <th></th>\n",
       "    </tr>\n",
       "  </thead>\n",
       "  <tbody>\n",
       "    <tr>\n",
       "      <th>property damage only</th>\n",
       "      <td>3701</td>\n",
       "      <td>3013</td>\n",
       "      <td>170</td>\n",
       "      <td>2</td>\n",
       "      <td>0</td>\n",
       "    </tr>\n",
       "    <tr>\n",
       "      <th>pain</th>\n",
       "      <td>815</td>\n",
       "      <td>31109</td>\n",
       "      <td>4189</td>\n",
       "      <td>102</td>\n",
       "      <td>4</td>\n",
       "    </tr>\n",
       "    <tr>\n",
       "      <th>other injury</th>\n",
       "      <td>56</td>\n",
       "      <td>8668</td>\n",
       "      <td>11549</td>\n",
       "      <td>327</td>\n",
       "      <td>7</td>\n",
       "    </tr>\n",
       "    <tr>\n",
       "      <th>severe injury</th>\n",
       "      <td>3</td>\n",
       "      <td>1026</td>\n",
       "      <td>2703</td>\n",
       "      <td>1668</td>\n",
       "      <td>53</td>\n",
       "    </tr>\n",
       "    <tr>\n",
       "      <th>fatal</th>\n",
       "      <td>0</td>\n",
       "      <td>106</td>\n",
       "      <td>364</td>\n",
       "      <td>398</td>\n",
       "      <td>333</td>\n",
       "    </tr>\n",
       "  </tbody>\n",
       "</table>\n",
       "</div>"
      ],
      "text/plain": [
       "Pred                  property damage only   pain  other injury  \\\n",
       "Actual                                                            \n",
       "property damage only                  3701   3013           170   \n",
       "pain                                   815  31109          4189   \n",
       "other injury                            56   8668         11549   \n",
       "severe injury                            3   1026          2703   \n",
       "fatal                                    0    106           364   \n",
       "\n",
       "Pred                  severe injury  fatal  \n",
       "Actual                                      \n",
       "property damage only              2      0  \n",
       "pain                            102      4  \n",
       "other injury                    327      7  \n",
       "severe injury                  1668     53  \n",
       "fatal                           398    333  "
      ]
     },
     "execution_count": 99,
     "metadata": {},
     "output_type": "execute_result"
    },
    {
     "data": {
      "application/javascript": [
       "\n",
       "            setTimeout(function() {\n",
       "                var nbb_cell_id = 99;\n",
       "                var nbb_unformatted_code = \"ConMat = pd.DataFrame(\\n    confusion_matrix(y_test, y_pred),\\n    columns=[\\\"property damage only\\\", \\\"pain\\\", \\\"other injury\\\", \\\"severe injury\\\", \\\"fatal\\\"],\\n    index=[\\\"property damage only\\\", \\\"pain\\\", \\\"other injury\\\", \\\"severe injury\\\", \\\"fatal\\\"],\\n)\\nConMat.index.name = \\\"Actual\\\"\\nConMat.columns.name = \\\"Pred\\\"\\nConMat\";\n",
       "                var nbb_formatted_code = \"ConMat = pd.DataFrame(\\n    confusion_matrix(y_test, y_pred),\\n    columns=[\\\"property damage only\\\", \\\"pain\\\", \\\"other injury\\\", \\\"severe injury\\\", \\\"fatal\\\"],\\n    index=[\\\"property damage only\\\", \\\"pain\\\", \\\"other injury\\\", \\\"severe injury\\\", \\\"fatal\\\"],\\n)\\nConMat.index.name = \\\"Actual\\\"\\nConMat.columns.name = \\\"Pred\\\"\\nConMat\";\n",
       "                var nbb_cells = Jupyter.notebook.get_cells();\n",
       "                for (var i = 0; i < nbb_cells.length; ++i) {\n",
       "                    if (nbb_cells[i].input_prompt_number == nbb_cell_id) {\n",
       "                        if (nbb_cells[i].get_text() == nbb_unformatted_code) {\n",
       "                             nbb_cells[i].set_text(nbb_formatted_code);\n",
       "                        }\n",
       "                        break;\n",
       "                    }\n",
       "                }\n",
       "            }, 500);\n",
       "            "
      ],
      "text/plain": [
       "<IPython.core.display.Javascript object>"
      ]
     },
     "metadata": {},
     "output_type": "display_data"
    }
   ],
   "source": [
    "ConMat = pd.DataFrame(\n",
    "    confusion_matrix(y_test, y_pred),\n",
    "    columns=[\"property damage only\", \"pain\", \"other injury\", \"severe injury\", \"fatal\"],\n",
    "    index=[\"property damage only\", \"pain\", \"other injury\", \"severe injury\", \"fatal\"],\n",
    ")\n",
    "ConMat.index.name = \"Actual\"\n",
    "ConMat.columns.name = \"Pred\"\n",
    "ConMat"
   ]
  },
  {
   "cell_type": "code",
   "execution_count": 100,
   "metadata": {},
   "outputs": [
    {
     "name": "stdout",
     "output_type": "stream",
     "text": [
      "              precision    recall  f1-score   support\n",
      "\n",
      "         1.0       0.81      0.54      0.65      6886\n",
      "         2.0       0.71      0.86      0.78     36219\n",
      "         3.0       0.61      0.56      0.58     20607\n",
      "         4.0       0.67      0.31      0.42      5453\n",
      "         5.0       0.84      0.28      0.42      1201\n",
      "\n",
      "    accuracy                           0.69     70366\n",
      "   macro avg       0.73      0.51      0.57     70366\n",
      "weighted avg       0.69      0.69      0.67     70366\n",
      "\n"
     ]
    },
    {
     "data": {
      "application/javascript": [
       "\n",
       "            setTimeout(function() {\n",
       "                var nbb_cell_id = 100;\n",
       "                var nbb_unformatted_code = \"print(classification_report(y_test, y_pred))\";\n",
       "                var nbb_formatted_code = \"print(classification_report(y_test, y_pred))\";\n",
       "                var nbb_cells = Jupyter.notebook.get_cells();\n",
       "                for (var i = 0; i < nbb_cells.length; ++i) {\n",
       "                    if (nbb_cells[i].input_prompt_number == nbb_cell_id) {\n",
       "                        if (nbb_cells[i].get_text() == nbb_unformatted_code) {\n",
       "                             nbb_cells[i].set_text(nbb_formatted_code);\n",
       "                        }\n",
       "                        break;\n",
       "                    }\n",
       "                }\n",
       "            }, 500);\n",
       "            "
      ],
      "text/plain": [
       "<IPython.core.display.Javascript object>"
      ]
     },
     "metadata": {},
     "output_type": "display_data"
    }
   ],
   "source": [
    "print(classification_report(y_test, y_pred))"
   ]
  },
  {
   "cell_type": "code",
   "execution_count": 101,
   "metadata": {},
   "outputs": [
    {
     "data": {
      "text/plain": [
       "array([[ 1.75489171e-02, -3.61751397e-01, -4.67060814e+00,\n",
       "        -6.24210444e-01, -1.49787873e+00, -2.19000770e+00],\n",
       "       [ 6.55613537e-02, -2.99156108e-01,  1.09064932e+00,\n",
       "        -2.91796809e-01, -4.72322183e-01, -9.70399147e-01],\n",
       "       [ 2.29793914e-03, -9.39113156e-03,  1.12373882e+00,\n",
       "         1.26147483e-01,  3.00318796e-01,  3.61993171e-01],\n",
       "       [-2.34776735e-02,  2.02258889e-01,  1.17868650e+00,\n",
       "         4.13754277e-01,  7.35951247e-01,  1.12329096e+00],\n",
       "       [-6.19305366e-02,  4.68039747e-01,  1.27753350e+00,\n",
       "         3.76105493e-01,  9.33930868e-01,  1.67512271e+00]])"
      ]
     },
     "execution_count": 101,
     "metadata": {},
     "output_type": "execute_result"
    },
    {
     "data": {
      "application/javascript": [
       "\n",
       "            setTimeout(function() {\n",
       "                var nbb_cell_id = 101;\n",
       "                var nbb_unformatted_code = \"model.best_estimator_.coef_\";\n",
       "                var nbb_formatted_code = \"model.best_estimator_.coef_\";\n",
       "                var nbb_cells = Jupyter.notebook.get_cells();\n",
       "                for (var i = 0; i < nbb_cells.length; ++i) {\n",
       "                    if (nbb_cells[i].input_prompt_number == nbb_cell_id) {\n",
       "                        if (nbb_cells[i].get_text() == nbb_unformatted_code) {\n",
       "                             nbb_cells[i].set_text(nbb_formatted_code);\n",
       "                        }\n",
       "                        break;\n",
       "                    }\n",
       "                }\n",
       "            }, 500);\n",
       "            "
      ],
      "text/plain": [
       "<IPython.core.display.Javascript object>"
      ]
     },
     "metadata": {},
     "output_type": "display_data"
    }
   ],
   "source": [
    "model.best_estimator_.coef_"
   ]
  }
 ],
 "metadata": {
  "kernelspec": {
   "display_name": "Python 3",
   "language": "python",
   "name": "python3"
  },
  "language_info": {
   "codemirror_mode": {
    "name": "ipython",
    "version": 3
   },
   "file_extension": ".py",
   "mimetype": "text/x-python",
   "name": "python",
   "nbconvert_exporter": "python",
   "pygments_lexer": "ipython3",
   "version": "3.8.3"
  }
 },
 "nbformat": 4,
 "nbformat_minor": 4
}
